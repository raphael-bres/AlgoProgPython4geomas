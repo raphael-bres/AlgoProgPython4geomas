{
 "cells": [
  {
   "cell_type": "markdown",
   "id": "eb5301a1",
   "metadata": {},
   "source": [
    "# Structures de données : les tuples"
   ]
  },
  {
   "cell_type": "markdown",
   "id": "0affac55",
   "metadata": {},
   "source": [
    "## Exercice 1 - Alignement de points\n",
    "\n",
    "Dans cet exercice, nous allons utiliser la notion de tuple. Ainsi, un point dans le plan sera un couple avec une abscisse et une ordonnée.  \n",
    "\n",
    "Q1. Ecrire un programme python qui :\n",
    "1. lit les coordonnées de 3 points A, B et C, notés $(x_A, y_A)$, $(x_B, y_B)$ et $(x_C, y_C)$\n",
    "2. affecte une variable booléenne *sont_alignes* qui vaut vrai ssi ces 3 points sont alignés\n",
    "3. affecte une variable booléenne *sont_orthogonaux* qui vaut vrai ssi les droites $(AB)$ et $(AC)$ sont orthogonales\n",
    "4. affiche la valeur de ces deux variables booléennes.\n",
    "\n",
    "Indications :  \n",
    "- A, B et C sont alignés ssi C appartient à la droite $(AB)$, c’est-à-dire ssi $(x_C, y_C)$ vérifie l’équation : \\[y=m.x+p\\ \\mbox{avec}\\ m = \\frac{(y_B - y_A)}{(x_B - x_A)}\\ \\mbox{et}\\ p = y_A - m.x_A\\]\n",
    "- $(AB)$ et $(AC)$ orthogonales ssi $\\overrightarrow{AB}.\\overrightarrow{AC} = 0$, c’est-à-dire ssi :\n",
    "\\[(x_B − x_A).(x_C − x_A)+(y_B − y_A).(y_C − y_A)=0\\]"
   ]
  },
  {
   "cell_type": "markdown",
   "id": "5e2999c8",
   "metadata": {},
   "source": [
    "## Exercice 2 - A propos de dates\n",
    "\n",
    "Le programme Python ci-dessous représente des dates sous la forme d’un tuple (Jour, Mois, Annee). \n",
    "\n",
    "Q1. Complétez ce programme pour :\n",
    "   \n",
    "1. Lire une date au clavier (en lisant successivement un Jour, un Mois et une Annee)\n",
    "2. Afficher cette date à l’écran\n",
    "3. Afficher un message indiquant si cette date est \"correcte\" ou non. On considérera qu’une date est correcte si elle remplit les conditions suivantes :\n",
    "- le jour est un entier entre 1 et 28 (ou 29, ou 30, ou 31, selon le mois et l’année considérée) ;\n",
    "- les années bissextiles (qui ont 29 jours en février) sont celles qui sont soit divisibles par 4 mais pas\n",
    "par 100, soit divisibles par 400.  \n",
    "\n",
    "Indications :\n",
    "- pour lire une date au clavier vous pouvez saisir un entier pour le mois (1 pour janvier, 2 pour février, etc.)\n",
    "- pour afficher une date à l’écran vous pouvez utilisez la fonction afficheDate fournie\n",
    "\n",
    "Q2. Complétez maintenant ce programme pour qu’il lise deux dates au clavier, et, si elles sont correctes, les\n",
    "affiche par ordre chronologique."
   ]
  },
  {
   "cell_type": "markdown",
   "id": "7aeb2001",
   "metadata": {},
   "source": [
    "## Exercice 3 - Relations sur des intervalles d’entiers"
   ]
  },
  {
   "cell_type": "markdown",
   "id": "a2e7ae65",
   "metadata": {},
   "source": [
    "Q1. Compléter l’implantation du type Intervalle :"
   ]
  },
  {
   "cell_type": "code",
   "execution_count": 3,
   "id": "660a259b",
   "metadata": {},
   "outputs": [],
   "source": [
    "Intervalle = ..."
   ]
  },
  {
   "cell_type": "markdown",
   "id": "a78196ec",
   "metadata": {},
   "source": [
    "Soit les fonctions suivantes :\n",
    "\n",
    "- dans(x, i) = vrai si et seulement si $x \\in i$ avec $i$ un intervalle\n",
    "- precede(x, i) = vrai si et seulement si $x$ est inférieur à tout $y \\in i$\n",
    "- suit(x, i) = vrai si et seulement si $x$ est supérieur à tout $y \\in i$\n",
    "- coteAcote($i_1$, $i_2$) = vrai si et seulement si $i_1$ et $i_2$ sont contigus sans se toucher\n",
    "- chevauche($i_1$, $i_2$) = vrai si et seulement si $i_1$ et $i_2$ n’ont pas de bornes communes, aucun n’est inclus dans l’autre mais ils ont une intersection non vide."
   ]
  },
  {
   "cell_type": "markdown",
   "id": "47c3ac63",
   "metadata": {},
   "source": [
    "Q2. Donner un ensemble significatif de jeux d’essais permettant de tester les fonctions precede, dans et suit.\n",
    "\n",
    "Q3. Implémenter la fonction precede. Remarquer comment la définition de intervalle facilite la compréhension du profil de la fonction.\n",
    "\n",
    "Q4. Tester les trois fonctions avec les jeux d’essai définis plus haut.\n",
    "\n",
    "Q5. Donner un ensemble significatif de jeux d’essai permettant de tester les fonctions coteAcote et chevauche\n",
    "\n",
    "Q6. Implémenter les deux fonctions et les tester."
   ]
  },
  {
   "cell_type": "code",
   "execution_count": null,
   "id": "41595567",
   "metadata": {},
   "outputs": [],
   "source": []
  }
 ],
 "metadata": {
  "kernelspec": {
   "display_name": "Python 3 (ipykernel)",
   "language": "python",
   "name": "python3"
  },
  "language_info": {
   "codemirror_mode": {
    "name": "ipython",
    "version": 3
   },
   "file_extension": ".py",
   "mimetype": "text/x-python",
   "name": "python",
   "nbconvert_exporter": "python",
   "pygments_lexer": "ipython3",
   "version": "3.11.7"
  },
  "latex_envs": {
   "LaTeX_envs_menu_present": true,
   "autoclose": false,
   "autocomplete": true,
   "bibliofile": "biblio.bib",
   "cite_by": "apalike",
   "current_citInitial": 1,
   "eqLabelWithNumbers": true,
   "eqNumInitial": 1,
   "hotkeys": {
    "equation": "Ctrl-E",
    "itemize": "Ctrl-I"
   },
   "labels_anchors": false,
   "latex_user_defs": false,
   "report_style_numbering": false,
   "user_envs_cfg": false
  }
 },
 "nbformat": 4,
 "nbformat_minor": 5
}
