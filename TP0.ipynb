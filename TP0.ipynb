{
 "cells": [
  {
   "cell_type": "markdown",
   "id": "9fec2e93",
   "metadata": {},
   "source": [
    "# Exercices d'algorithmique : notions de base\n",
    "  "
   ]
  },
  {
   "cell_type": "markdown",
   "id": "e8e688d3",
   "metadata": {},
   "source": [
    "## Opérations arithmétiques et logiques"
   ]
  },
  {
   "cell_type": "code",
   "execution_count": 5,
   "id": "de92c445",
   "metadata": {},
   "outputs": [],
   "source": [
    "a = 5\n",
    "b = 8"
   ]
  },
  {
   "cell_type": "code",
   "execution_count": 6,
   "id": "288e123b",
   "metadata": {},
   "outputs": [
    {
     "data": {
      "text/plain": [
       "13"
      ]
     },
     "execution_count": 6,
     "metadata": {},
     "output_type": "execute_result"
    }
   ],
   "source": [
    "a + b"
   ]
  },
  {
   "cell_type": "code",
   "execution_count": 7,
   "id": "8cdcc90d-d1c6-403a-a142-48e7efef1ee0",
   "metadata": {},
   "outputs": [
    {
     "data": {
      "text/plain": [
       "-3"
      ]
     },
     "execution_count": 7,
     "metadata": {},
     "output_type": "execute_result"
    }
   ],
   "source": [
    "a - b"
   ]
  },
  {
   "cell_type": "code",
   "execution_count": 8,
   "id": "7fabe636-ce80-4ea9-9383-bf5091661dd5",
   "metadata": {},
   "outputs": [
    {
     "data": {
      "text/plain": [
       "40"
      ]
     },
     "execution_count": 8,
     "metadata": {},
     "output_type": "execute_result"
    }
   ],
   "source": [
    "a * b"
   ]
  },
  {
   "cell_type": "code",
   "execution_count": 9,
   "id": "8b4e1214-c523-47c4-94a5-ca2634eb853a",
   "metadata": {},
   "outputs": [
    {
     "data": {
      "text/plain": [
       "0.625"
      ]
     },
     "execution_count": 9,
     "metadata": {},
     "output_type": "execute_result"
    }
   ],
   "source": [
    "a / b"
   ]
  },
  {
   "cell_type": "code",
   "execution_count": 12,
   "id": "6de2c9f2-fefc-49b0-b992-5dfaabccc0a2",
   "metadata": {},
   "outputs": [],
   "source": [
    "a = 4\n",
    "b = 2"
   ]
  },
  {
   "cell_type": "code",
   "execution_count": 13,
   "id": "bc057994-50e0-4634-9a7c-8c0da3f6033f",
   "metadata": {},
   "outputs": [
    {
     "data": {
      "text/plain": [
       "2"
      ]
     },
     "execution_count": 13,
     "metadata": {},
     "output_type": "execute_result"
    }
   ],
   "source": [
    "a // b"
   ]
  },
  {
   "cell_type": "code",
   "execution_count": 14,
   "id": "e66fc905-6984-456d-853c-0f697d043a21",
   "metadata": {},
   "outputs": [
    {
     "data": {
      "text/plain": [
       "0"
      ]
     },
     "execution_count": 14,
     "metadata": {},
     "output_type": "execute_result"
    }
   ],
   "source": [
    "a % b"
   ]
  },
  {
   "cell_type": "markdown",
   "id": "14fd864b-2e94-41e0-8787-6c9dc14007cb",
   "metadata": {},
   "source": [
    "Le prof a dit blablabla..."
   ]
  },
  {
   "cell_type": "code",
   "execution_count": 15,
   "id": "e8f89ae9-2df9-46bf-9682-6d785f039305",
   "metadata": {},
   "outputs": [
    {
     "data": {
      "text/plain": [
       "16"
      ]
     },
     "execution_count": 15,
     "metadata": {},
     "output_type": "execute_result"
    }
   ],
   "source": [
    "a ** b"
   ]
  },
  {
   "cell_type": "code",
   "execution_count": 17,
   "id": "64e85a5a",
   "metadata": {},
   "outputs": [],
   "source": [
    "a = 4\n",
    "b = False"
   ]
  },
  {
   "cell_type": "code",
   "execution_count": 18,
   "id": "783d00d9",
   "metadata": {},
   "outputs": [
    {
     "data": {
      "text/plain": [
       "4"
      ]
     },
     "execution_count": 18,
     "metadata": {},
     "output_type": "execute_result"
    }
   ],
   "source": [
    "a + b"
   ]
  },
  {
   "cell_type": "markdown",
   "id": "0e8c926f",
   "metadata": {},
   "source": [
    "Typique de python mais normalement erreur de type !"
   ]
  },
  {
   "cell_type": "code",
   "execution_count": 19,
   "id": "07cce5a9",
   "metadata": {},
   "outputs": [],
   "source": [
    "a = 7\n",
    "b = 4"
   ]
  },
  {
   "cell_type": "code",
   "execution_count": 21,
   "id": "0e5b8935",
   "metadata": {},
   "outputs": [
    {
     "data": {
      "text/plain": [
       "True"
      ]
     },
     "execution_count": 21,
     "metadata": {},
     "output_type": "execute_result"
    }
   ],
   "source": [
    "b < a"
   ]
  },
  {
   "cell_type": "code",
   "execution_count": 22,
   "id": "6b2bb04b-7451-47d2-b27d-2bc8f0724a93",
   "metadata": {},
   "outputs": [
    {
     "data": {
      "text/plain": [
       "False"
      ]
     },
     "execution_count": 22,
     "metadata": {},
     "output_type": "execute_result"
    }
   ],
   "source": [
    "b > a"
   ]
  },
  {
   "cell_type": "code",
   "execution_count": 24,
   "id": "79abb0c8-b244-4d54-9895-c058cae6c9d9",
   "metadata": {},
   "outputs": [
    {
     "data": {
      "text/plain": [
       "False"
      ]
     },
     "execution_count": 24,
     "metadata": {},
     "output_type": "execute_result"
    }
   ],
   "source": [
    "b >= a"
   ]
  },
  {
   "cell_type": "code",
   "execution_count": 25,
   "id": "7e095bff-038f-4e70-9934-4d00ed394ea4",
   "metadata": {},
   "outputs": [
    {
     "data": {
      "text/plain": [
       "True"
      ]
     },
     "execution_count": 25,
     "metadata": {},
     "output_type": "execute_result"
    }
   ],
   "source": [
    "b <= a"
   ]
  },
  {
   "cell_type": "code",
   "execution_count": 27,
   "id": "e5fdc831-c249-4030-abee-18cce5295308",
   "metadata": {},
   "outputs": [
    {
     "data": {
      "text/plain": [
       "True"
      ]
     },
     "execution_count": 27,
     "metadata": {},
     "output_type": "execute_result"
    }
   ],
   "source": [
    "a != b"
   ]
  },
  {
   "cell_type": "code",
   "execution_count": 64,
   "id": "68535413-ca09-499e-926b-d805da32e538",
   "metadata": {},
   "outputs": [
    {
     "data": {
      "text/plain": [
       "False"
      ]
     },
     "execution_count": 64,
     "metadata": {},
     "output_type": "execute_result"
    }
   ],
   "source": [
    "a == b"
   ]
  },
  {
   "cell_type": "code",
   "execution_count": 28,
   "id": "2cb176ad",
   "metadata": {},
   "outputs": [
    {
     "data": {
      "text/plain": [
       "int"
      ]
     },
     "execution_count": 28,
     "metadata": {},
     "output_type": "execute_result"
    }
   ],
   "source": [
    "type(a)"
   ]
  },
  {
   "cell_type": "code",
   "execution_count": 46,
   "id": "6ea5358c",
   "metadata": {},
   "outputs": [],
   "source": [
    "a = 8\n",
    "b = 7\n",
    "c = 5"
   ]
  },
  {
   "cell_type": "code",
   "execution_count": 32,
   "id": "173c3af1",
   "metadata": {},
   "outputs": [
    {
     "data": {
      "text/plain": [
       "False"
      ]
     },
     "execution_count": 32,
     "metadata": {},
     "output_type": "execute_result"
    }
   ],
   "source": [
    "((a > b) and (a < c)) or (a < b)"
   ]
  },
  {
   "cell_type": "markdown",
   "id": "de92cc33-3853-46bb-83b4-3e0cadb4183b",
   "metadata": {},
   "source": [
    "Evaluation des opérateurs logiques :\n",
    "- and : vraie si et seulement si les deux opérandes sont vraies\n",
    "- or : vraie si au moins l'un des deux opérandes est vrai"
   ]
  },
  {
   "cell_type": "code",
   "execution_count": 35,
   "id": "b1e06943-19f3-4c94-895d-61aa5b30be5f",
   "metadata": {},
   "outputs": [],
   "source": [
    "a = False"
   ]
  },
  {
   "cell_type": "code",
   "execution_count": 36,
   "id": "c0fd968e-e6c2-41b7-bb67-3a49a0c45588",
   "metadata": {},
   "outputs": [
    {
     "data": {
      "text/plain": [
       "True"
      ]
     },
     "execution_count": 36,
     "metadata": {},
     "output_type": "execute_result"
    }
   ],
   "source": [
    "not a"
   ]
  },
  {
   "cell_type": "code",
   "execution_count": 37,
   "id": "0983bbc1-289c-4703-a64e-bc9cde079662",
   "metadata": {},
   "outputs": [
    {
     "data": {
      "text/plain": [
       "False"
      ]
     },
     "execution_count": 37,
     "metadata": {},
     "output_type": "execute_result"
    }
   ],
   "source": [
    "not (not a)"
   ]
  },
  {
   "cell_type": "markdown",
   "id": "559425a6",
   "metadata": {},
   "source": [
    "Comment rendre **faux** l'expression suivante :"
   ]
  },
  {
   "cell_type": "code",
   "execution_count": 48,
   "id": "d117f40e",
   "metadata": {},
   "outputs": [],
   "source": [
    "a = 5\n",
    "b = 5\n",
    "c = 6"
   ]
  },
  {
   "cell_type": "code",
   "execution_count": 49,
   "id": "f65f438f",
   "metadata": {},
   "outputs": [
    {
     "data": {
      "text/plain": [
       "True"
      ]
     },
     "execution_count": 49,
     "metadata": {},
     "output_type": "execute_result"
    }
   ],
   "source": [
    "(a < c) or (a > b)"
   ]
  },
  {
   "cell_type": "code",
   "execution_count": 50,
   "id": "0ea85741",
   "metadata": {},
   "outputs": [
    {
     "data": {
      "text/plain": [
       "False"
      ]
     },
     "execution_count": 50,
     "metadata": {},
     "output_type": "execute_result"
    }
   ],
   "source": [
    "a != b"
   ]
  },
  {
   "cell_type": "markdown",
   "id": "12a3ad09-68b2-4365-a9d9-e9505a436e92",
   "metadata": {
    "jp-MarkdownHeadingCollapsed": true
   },
   "source": [
    "**Expliquer la notion de contexte !**"
   ]
  },
  {
   "cell_type": "markdown",
   "id": "a1807a81",
   "metadata": {},
   "source": [
    "## Expressions conditionnelles"
   ]
  },
  {
   "cell_type": "code",
   "execution_count": 51,
   "id": "ca965c09",
   "metadata": {},
   "outputs": [],
   "source": [
    "b = 4\n",
    "a = 7"
   ]
  },
  {
   "cell_type": "code",
   "execution_count": 52,
   "id": "2116c82d",
   "metadata": {},
   "outputs": [
    {
     "data": {
      "text/plain": [
       "4"
      ]
     },
     "execution_count": 52,
     "metadata": {},
     "output_type": "execute_result"
    }
   ],
   "source": [
    "3 if (a < b) else 4"
   ]
  },
  {
   "cell_type": "code",
   "execution_count": 55,
   "id": "994b3448",
   "metadata": {},
   "outputs": [
    {
     "data": {
      "text/plain": [
       "11"
      ]
     },
     "execution_count": 55,
     "metadata": {},
     "output_type": "execute_result"
    }
   ],
   "source": [
    "(3 if (a < b) else 4) + a"
   ]
  },
  {
   "cell_type": "code",
   "execution_count": 56,
   "id": "aefe4c85",
   "metadata": {},
   "outputs": [
    {
     "data": {
      "text/plain": [
       "11"
      ]
     },
     "execution_count": 56,
     "metadata": {},
     "output_type": "execute_result"
    }
   ],
   "source": [
    "3 if (a < b) else (4 + a)"
   ]
  },
  {
   "cell_type": "code",
   "execution_count": 57,
   "id": "c9027b71",
   "metadata": {},
   "outputs": [],
   "source": [
    "a = True\n",
    "b = False"
   ]
  },
  {
   "cell_type": "code",
   "execution_count": 58,
   "id": "bee34abd",
   "metadata": {},
   "outputs": [
    {
     "data": {
      "text/plain": [
       "False"
      ]
     },
     "execution_count": 58,
     "metadata": {},
     "output_type": "execute_result"
    }
   ],
   "source": [
    "b if a else False"
   ]
  },
  {
   "cell_type": "markdown",
   "id": "6499c37b",
   "metadata": {},
   "source": [
    "Quelle est l'expression logique équivalente ?"
   ]
  },
  {
   "cell_type": "code",
   "execution_count": 25,
   "id": "2ea5a9b4",
   "metadata": {},
   "outputs": [
    {
     "data": {
      "text/plain": [
       "False"
      ]
     },
     "execution_count": 25,
     "metadata": {},
     "output_type": "execute_result"
    }
   ],
   "source": [
    "a and b"
   ]
  },
  {
   "cell_type": "code",
   "execution_count": 59,
   "id": "5558726a",
   "metadata": {},
   "outputs": [
    {
     "data": {
      "text/plain": [
       "True"
      ]
     },
     "execution_count": 59,
     "metadata": {},
     "output_type": "execute_result"
    }
   ],
   "source": [
    "True if a else b"
   ]
  },
  {
   "cell_type": "markdown",
   "id": "af72d56f",
   "metadata": {},
   "source": [
    "Quelle est l'expression logique équivalente ?"
   ]
  },
  {
   "cell_type": "code",
   "execution_count": 60,
   "id": "3f3c210d",
   "metadata": {},
   "outputs": [
    {
     "data": {
      "text/plain": [
       "True"
      ]
     },
     "execution_count": 60,
     "metadata": {},
     "output_type": "execute_result"
    }
   ],
   "source": [
    "a or b"
   ]
  },
  {
   "cell_type": "markdown",
   "id": "af96e27c",
   "metadata": {},
   "source": [
    "# Signe du produit"
   ]
  },
  {
   "cell_type": "markdown",
   "id": "bbe21ba5",
   "metadata": {},
   "source": [
    "Etant donné deux entiers, on veut sans faire leur produit déterminer si le produit des 2 nombres est positif ou nul ou s'il est strictement négatif."
   ]
  },
  {
   "cell_type": "markdown",
   "id": "ecbc9167",
   "metadata": {},
   "source": [
    "Spécification de prodPos :\n",
    "\n",
    "- prodPos(x, y) est vrai si et seulement si le signe du produit x * y est positif ou nul"
   ]
  },
  {
   "cell_type": "code",
   "execution_count": 63,
   "id": "28c85b59",
   "metadata": {},
   "outputs": [],
   "source": [
    "def prodPos(x : int, y : int) -> bool:\n",
    "    pass\n",
    " "
   ]
  },
  {
   "cell_type": "markdown",
   "id": "3dc1c3cb",
   "metadata": {},
   "source": [
    " - prodPos(-6, 0) = True\n",
    " - prodPos(-4, 6) = False\n",
    " - prodPos(-4, -6) = True\n",
    " - prodPos(0, 0) = True"
   ]
  },
  {
   "cell_type": "code",
   "execution_count": 65,
   "id": "88388f79",
   "metadata": {},
   "outputs": [],
   "source": [
    "def prodPos(x : int, y : int) -> bool:\n",
    "    '''Lorque les 2 entiers sont du même signe, on renvoie vrai:'''\n",
    "    if ((x > 0) and (y > 0)) or ((x < 0) and (y < 0)):\n",
    "        return True\n",
    "    else:\n",
    "        '''Lorque l'un des 2 entiers est nul, on renvoie vrai:'''\n",
    "        if (x == 0) or (y == 0):\n",
    "            return True\n",
    "        else:\n",
    "            '''Dans tous les autres cas, on renvoie faux'''\n",
    "            return False"
   ]
  },
  {
   "cell_type": "code",
   "execution_count": 66,
   "id": "f12d9cb3",
   "metadata": {},
   "outputs": [
    {
     "data": {
      "text/plain": [
       "True"
      ]
     },
     "execution_count": 66,
     "metadata": {},
     "output_type": "execute_result"
    }
   ],
   "source": [
    "prodPos(-6, 0)"
   ]
  },
  {
   "cell_type": "code",
   "execution_count": 67,
   "id": "cb2c72e7",
   "metadata": {},
   "outputs": [
    {
     "data": {
      "text/plain": [
       "False"
      ]
     },
     "execution_count": 67,
     "metadata": {},
     "output_type": "execute_result"
    }
   ],
   "source": [
    "prodPos(-4, 6) "
   ]
  },
  {
   "cell_type": "code",
   "execution_count": 68,
   "id": "6196b2d8",
   "metadata": {},
   "outputs": [
    {
     "data": {
      "text/plain": [
       "True"
      ]
     },
     "execution_count": 68,
     "metadata": {},
     "output_type": "execute_result"
    }
   ],
   "source": [
    "prodPos(-4, -6)"
   ]
  },
  {
   "cell_type": "code",
   "execution_count": 69,
   "id": "e606c193",
   "metadata": {},
   "outputs": [
    {
     "data": {
      "text/plain": [
       "True"
      ]
     },
     "execution_count": 69,
     "metadata": {},
     "output_type": "execute_result"
    }
   ],
   "source": [
    "prodPos(0, 0) "
   ]
  },
  {
   "cell_type": "code",
   "execution_count": 70,
   "id": "0a9b0c95-3230-4d30-b4cf-430f08d16eb3",
   "metadata": {},
   "outputs": [
    {
     "data": {
      "text/plain": [
       "True"
      ]
     },
     "execution_count": 70,
     "metadata": {},
     "output_type": "execute_result"
    }
   ],
   "source": [
    "prodPos(0, 8)"
   ]
  },
  {
   "cell_type": "markdown",
   "id": "fcd5595b-d481-4a72-9bf3-d47ea3223f97",
   "metadata": {},
   "source": [
    "**Attention !**\n",
    "- Pas de variables globales. Tout ce qui est utilisé dans une fonction provient d'un paramètre de la fonction ou d'un paramètre interne à la fonction,\n",
    "- Toutes les sorties de la fonction n'ont qu'un et un seul type"
   ]
  },
  {
   "cell_type": "code",
   "execution_count": 74,
   "id": "50fdd61f-c77e-4ce5-acf4-6cad1b43b2f3",
   "metadata": {},
   "outputs": [],
   "source": [
    "def dumbFunction(x : int, y: int) -> int:\n",
    "    z = 0\n",
    "    return x + z"
   ]
  },
  {
   "cell_type": "code",
   "execution_count": 75,
   "id": "439311bf-0776-4e9c-8374-a517991e2260",
   "metadata": {},
   "outputs": [],
   "source": [
    "z = 3"
   ]
  },
  {
   "cell_type": "code",
   "execution_count": 76,
   "id": "b6960f0c-bb0a-45b4-9c75-d7947bf49978",
   "metadata": {},
   "outputs": [
    {
     "data": {
      "text/plain": [
       "5"
      ]
     },
     "execution_count": 76,
     "metadata": {},
     "output_type": "execute_result"
    }
   ],
   "source": [
    "dumbFunction(5, 7)"
   ]
  },
  {
   "cell_type": "code",
   "execution_count": 80,
   "id": "092fdc06-8cac-4b2c-b95e-05fd47e4c94c",
   "metadata": {},
   "outputs": [],
   "source": [
    "def anotherDumbFunction(x : int, y : int) -> int:\n",
    "    return x // y"
   ]
  },
  {
   "cell_type": "code",
   "execution_count": 82,
   "id": "18abf214-b1ff-414f-8d4b-209446d294b1",
   "metadata": {},
   "outputs": [
    {
     "ename": "ZeroDivisionError",
     "evalue": "integer division or modulo by zero",
     "output_type": "error",
     "traceback": [
      "\u001b[0;31m---------------------------------------------------------------------------\u001b[0m",
      "\u001b[0;31mZeroDivisionError\u001b[0m                         Traceback (most recent call last)",
      "Cell \u001b[0;32mIn[82], line 1\u001b[0m\n\u001b[0;32m----> 1\u001b[0m \u001b[43manotherDumbFunction\u001b[49m\u001b[43m(\u001b[49m\u001b[38;5;241;43m4\u001b[39;49m\u001b[43m,\u001b[49m\u001b[43m \u001b[49m\u001b[38;5;241;43m0\u001b[39;49m\u001b[43m)\u001b[49m\n",
      "Cell \u001b[0;32mIn[80], line 2\u001b[0m, in \u001b[0;36manotherDumbFunction\u001b[0;34m(x, y)\u001b[0m\n\u001b[1;32m      1\u001b[0m \u001b[38;5;28;01mdef\u001b[39;00m \u001b[38;5;21manotherDumbFunction\u001b[39m(x : \u001b[38;5;28mint\u001b[39m, y : \u001b[38;5;28mint\u001b[39m) \u001b[38;5;241m-\u001b[39m\u001b[38;5;241m>\u001b[39m \u001b[38;5;28mint\u001b[39m:\n\u001b[0;32m----> 2\u001b[0m     \u001b[38;5;28;01mreturn\u001b[39;00m \u001b[43mx\u001b[49m\u001b[43m \u001b[49m\u001b[38;5;241;43m/\u001b[39;49m\u001b[38;5;241;43m/\u001b[39;49m\u001b[43m \u001b[49m\u001b[43my\u001b[49m\n",
      "\u001b[0;31mZeroDivisionError\u001b[0m: integer division or modulo by zero"
     ]
    }
   ],
   "source": [
    "anotherDumbFunction(4, 0)"
   ]
  },
  {
   "cell_type": "code",
   "execution_count": 92,
   "id": "58a806a5-a992-4cc6-acb2-a15073f34132",
   "metadata": {},
   "outputs": [],
   "source": [
    "def YetAnotherDumbFunction(x : int, y : int) -> int:\n",
    "    if (y == 0):\n",
    "        return 'Division par zéro interdite !'\n",
    "    else:\n",
    "        return x // y"
   ]
  },
  {
   "cell_type": "code",
   "execution_count": 93,
   "id": "ffedde8e-c24b-486f-bc4e-5022f6545b34",
   "metadata": {},
   "outputs": [
    {
     "data": {
      "text/plain": [
       "'Division par zéro interdite !'"
      ]
     },
     "execution_count": 93,
     "metadata": {},
     "output_type": "execute_result"
    }
   ],
   "source": [
    "YetAnotherDumbFunction(4, 0)"
   ]
  },
  {
   "cell_type": "code",
   "execution_count": 94,
   "id": "c7331318-8fab-45b2-a2d7-051ba7d78f1e",
   "metadata": {},
   "outputs": [
    {
     "data": {
      "text/plain": [
       "2"
      ]
     },
     "execution_count": 94,
     "metadata": {},
     "output_type": "execute_result"
    }
   ],
   "source": [
    "YetAnotherDumbFunction(4, 2)"
   ]
  },
  {
   "cell_type": "code",
   "execution_count": 96,
   "id": "f71df161-4dc5-4809-b648-e8ce9aa4011d",
   "metadata": {},
   "outputs": [],
   "source": [
    "def Add3(x: int, y: int):\n",
    "    return YetAnotherDumbFunction(x, y) + 3"
   ]
  },
  {
   "cell_type": "code",
   "execution_count": 100,
   "id": "af85fb06-fdcf-484a-b55b-6b830663b76e",
   "metadata": {},
   "outputs": [
    {
     "data": {
      "text/plain": [
       "5"
      ]
     },
     "execution_count": 100,
     "metadata": {},
     "output_type": "execute_result"
    }
   ],
   "source": [
    "Add3(4, 2)"
   ]
  },
  {
   "cell_type": "code",
   "execution_count": 98,
   "id": "30fa643e-3478-44f2-9f94-25eeabc624f7",
   "metadata": {},
   "outputs": [
    {
     "ename": "NameError",
     "evalue": "name 'Add' is not defined",
     "output_type": "error",
     "traceback": [
      "\u001b[0;31m---------------------------------------------------------------------------\u001b[0m",
      "\u001b[0;31mNameError\u001b[0m                                 Traceback (most recent call last)",
      "Cell \u001b[0;32mIn[98], line 1\u001b[0m\n\u001b[0;32m----> 1\u001b[0m \u001b[43mAdd\u001b[49m(\u001b[38;5;241m4\u001b[39m, \u001b[38;5;241m0\u001b[39m)\n",
      "\u001b[0;31mNameError\u001b[0m: name 'Add' is not defined"
     ]
    }
   ],
   "source": [
    "Add(4, 0)"
   ]
  },
  {
   "cell_type": "code",
   "execution_count": null,
   "id": "c2ce1a34-7eab-476f-9156-556098970ca2",
   "metadata": {},
   "outputs": [],
   "source": []
  }
 ],
 "metadata": {
  "kernelspec": {
   "display_name": "Python 3 (ipykernel)",
   "language": "python",
   "name": "python3"
  },
  "language_info": {
   "codemirror_mode": {
    "name": "ipython",
    "version": 3
   },
   "file_extension": ".py",
   "mimetype": "text/x-python",
   "name": "python",
   "nbconvert_exporter": "python",
   "pygments_lexer": "ipython3",
   "version": "3.11.7"
  }
 },
 "nbformat": 4,
 "nbformat_minor": 5
}
