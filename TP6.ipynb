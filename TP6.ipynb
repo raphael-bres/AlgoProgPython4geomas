{
 "cells": [
  {
   "cell_type": "markdown",
   "id": "246ff0ea",
   "metadata": {},
   "source": [
    "# Graphes : arbres de recherche binaire et quadtrees"
   ]
  },
  {
   "cell_type": "markdown",
   "id": "09bcdb01",
   "metadata": {},
   "source": [
    "Les graphes sont une notion très importante en informatique. Ils nous seront très utiles pour représenter des réseaux (de transport, de distribution d'énergie etc.) mais aussi pour construire des \"espaces de recherche\"."
   ]
  },
  {
   "cell_type": "markdown",
   "id": "f04539e9",
   "metadata": {},
   "source": [
    "## Qu'est-ce qu'un graphe ?"
   ]
  },
  {
   "cell_type": "markdown",
   "id": "7ce5c820",
   "metadata": {},
   "source": [
    "L'histoire des graphes commence en 1735 dans la ville de Königsberg (qui est aujourd'hui l'enclave russe de Kaliningrad).\n",
    "\n",
    "![Königsberg](img/konigsberg_1910.jpg)\n",
    "\n",
    "Le mathématicien Leonhard Euler se pose la question de savoir s'il existe ou non une promenade dans les rues de Königsberg permettant, à partir d'un point de départ au choix, de passer une et une seule fois par chaque pont (il y en a 7), et de revenir à son point de départ."
   ]
  },
  {
   "cell_type": "markdown",
   "id": "c6446892",
   "metadata": {},
   "source": [
    "La réponse est non mais la modélisation mathématique consiste à représenter le problème des sept ponts de Königsberg par un graphe :\n",
    "\n",
    "![Problème des sept ponts de Königsberg](img/konigsberg.pdf)"
   ]
  },
  {
   "cell_type": "markdown",
   "id": "2b94b365",
   "metadata": {},
   "source": [
    "Un graphe est constitué de *noeuds* (ici A, B, C, D et E) et *d'arêtes* (I, II, III, IV, V, VI et VII). Il est par exemple possible de passer du noeud A au noeud B puis de revenir à A. C'est ce qu'on appele un *cycle*."
   ]
  },
  {
   "cell_type": "markdown",
   "id": "a7b6382f",
   "metadata": {},
   "source": [
    "Un *arbre* est un graphe sans cycle.\n",
    "\n",
    "![Arbre](img/depth7.pdf)"
   ]
  },
  {
   "cell_type": "markdown",
   "id": "75a66006",
   "metadata": {},
   "source": [
    "Comment coder un graphe en python ? On peut utiliser un dictionnaire :"
   ]
  },
  {
   "cell_type": "code",
   "execution_count": 1,
   "id": "e52c6b7c",
   "metadata": {},
   "outputs": [],
   "source": [
    "# dictionnaire konigsberg = {...}\n",
    "    "
   ]
  },
  {
   "cell_type": "markdown",
   "id": "61a88340",
   "metadata": {},
   "source": [
    "On peut bien évidemment utiliser des classes d'objets.\n",
    "\n",
    "## Noeud"
   ]
  },
  {
   "cell_type": "code",
   "execution_count": 2,
   "id": "a72f882f",
   "metadata": {},
   "outputs": [
    {
     "name": "stderr",
     "output_type": "stream",
     "text": [
      "Version 1.0.5\n"
     ]
    }
   ],
   "source": [
    "%load_ext nb_mypy"
   ]
  },
  {
   "cell_type": "code",
   "execution_count": 3,
   "id": "e7887405",
   "metadata": {},
   "outputs": [],
   "source": [
    "import typing\n",
    "\n",
    "class Node:\n",
    "    \"\"\"Définition d'un noeud\"\"\"\n",
    "    \n",
    "    # Constructeur de noeud\n",
    "    def __init__(self, label = \"NaN\", content = 0) -> None:\n",
    "        self.label = label\n",
    "        self.content = content\n",
    "        \n",
    "    # Méthode utilisée par print()\n",
    "    def __str__(self) -> str:\n",
    "        t = \"Node(\" + self.label + \", \" + str(self.content) + \")\"\n",
    "        return t"
   ]
  },
  {
   "cell_type": "code",
   "execution_count": 4,
   "id": "0fafba04",
   "metadata": {},
   "outputs": [],
   "source": [
    "a = Node(label = \"A\", content = 6)"
   ]
  },
  {
   "cell_type": "code",
   "execution_count": 5,
   "id": "c0984fc1",
   "metadata": {
    "scrolled": true
   },
   "outputs": [
    {
     "data": {
      "text/plain": [
       "__main__.Node"
      ]
     },
     "execution_count": 5,
     "metadata": {},
     "output_type": "execute_result"
    }
   ],
   "source": [
    "type(a)"
   ]
  },
  {
   "cell_type": "code",
   "execution_count": 6,
   "id": "bc49489e",
   "metadata": {
    "scrolled": true
   },
   "outputs": [
    {
     "name": "stdout",
     "output_type": "stream",
     "text": [
      "Node(A, 6)\n"
     ]
    }
   ],
   "source": [
    "print(a)"
   ]
  },
  {
   "cell_type": "markdown",
   "id": "bff2ad98",
   "metadata": {},
   "source": [
    "## Arbre de recherche binaire\n",
    "\n",
    "Commençons par modéliser un arbre de recherche binaire (sera aussi vu en cours d'algorithmique) :\n",
    "\n",
    "![Arbre de recherche binaire](img/arbre_binaire.png)"
   ]
  },
  {
   "cell_type": "code",
   "execution_count": 7,
   "id": "f0b3f269",
   "metadata": {},
   "outputs": [
    {
     "name": "stderr",
     "output_type": "stream",
     "text": [
      "<cell>11: \u001b[1m\u001b[31merror:\u001b[m Missing return statement  \u001b[m\u001b[33m[empty-body]\u001b[m\n"
     ]
    }
   ],
   "source": [
    "class ArbreBin:\n",
    "    \"\"\"Arbre binaire\"\"\"\n",
    "    \n",
    "    # Constructeur d'arbre binaire\n",
    "    def __init__(self, arbre_g, racine, arbre_d) -> None:\n",
    "        self.arbre_g = arbre_g\n",
    "        self.racine = racine\n",
    "        self.arbre_d = arbre_d\n",
    "    \n",
    "    # A faire !\n",
    "    def __str__(self) -> str:\n",
    "        pass"
   ]
  },
  {
   "cell_type": "code",
   "execution_count": 8,
   "id": "e931dfcf",
   "metadata": {},
   "outputs": [],
   "source": [
    "af = ArbreBin(None, Node('F', 8), None)"
   ]
  },
  {
   "cell_type": "code",
   "execution_count": 9,
   "id": "1456d380",
   "metadata": {},
   "outputs": [],
   "source": [
    "ag = ArbreBin(None, Node('G', 11), None)"
   ]
  },
  {
   "cell_type": "code",
   "execution_count": 10,
   "id": "3ec618cb",
   "metadata": {},
   "outputs": [],
   "source": [
    "ad = ArbreBin(af, Node('D', 9), ag)"
   ]
  },
  {
   "cell_type": "code",
   "execution_count": 11,
   "id": "a2139cf1",
   "metadata": {},
   "outputs": [],
   "source": [
    "ae = ArbreBin(None, Node('E', 24), None)\n",
    "ac = ArbreBin(ad, Node('C', 12), ae)\n",
    "ab = ArbreBin(None, Node('B', 4), None)\n",
    "aa = ArbreBin(ab, Node('A', 6), ac)"
   ]
  },
  {
   "cell_type": "code",
   "execution_count": 12,
   "id": "ae5fcd46",
   "metadata": {},
   "outputs": [
    {
     "data": {
      "text/plain": [
       "__main__.ArbreBin"
      ]
     },
     "execution_count": 12,
     "metadata": {},
     "output_type": "execute_result"
    }
   ],
   "source": [
    "type(aa)"
   ]
  },
  {
   "cell_type": "code",
   "execution_count": 13,
   "id": "71c9fd6c",
   "metadata": {},
   "outputs": [],
   "source": [
    "# print(aa) doit donner : \n",
    "# ArbreBin(ArbreBin(None, Node(B, 4), None), Node(A, 6), ArbreBin(ArbreBin(ArbreBin(None, Node(F, 8), None), Node(D, 9), ArbreBin(None, Node(G, 11), None)), Node(C, 12), ArbreBin(None, Node(E, 24), None)))"
   ]
  },
  {
   "cell_type": "code",
   "execution_count": 14,
   "id": "d5c6061c",
   "metadata": {},
   "outputs": [],
   "source": [
    "class ArbreBin:\n",
    "    \"\"\"Arbre binaire\"\"\"\n",
    "    \n",
    "    # Constructeur d'arbre binaire\n",
    "    def __init__(self, arbre_g, racine, arbre_d) -> None:\n",
    "        self.arbre_g = arbre_g\n",
    "        self.racine = racine\n",
    "        self.arbre_d = arbre_d\n",
    "        \n",
    "    def __str__(self) -> str:\n",
    "        if (self.arbre_g is None):\n",
    "            t_g = \"None\"\n",
    "        else:\n",
    "            t_g = self.arbre_g.__str__()\n",
    "        if (self.arbre_d is None):\n",
    "            t_d = \"None\"\n",
    "        else:\n",
    "            t_d = self.arbre_d.__str__()\n",
    "        return \"ArbreBin(\" + t_g + \", \" + self.racine.__str__() + \", \" + t_d + \")\"\n",
    "    \n",
    "    # Ajoute content à l'arbre\n",
    "    #def add(self, node) -> ..:\n",
    "            # Si strictement inférieur, ajout à gauche\n",
    "            #if (node.content < self.racine.content):\n",
    "                #if self.arbre_g is None:\n",
    "                    #left = ...\n",
    "                #else:\n",
    "                    #left = ...\n",
    "                #return ArbreBin(...)\n",
    "            # Sinon (supérieur ou égal), ajout à droite\n",
    "            #else:\n",
    "                #if self.arbre_d is None:\n",
    "                    #right = ArbreBin(...)\n",
    "               # else:\n",
    "                    #right = ...\n",
    "                #return ArbreBin(...)"
   ]
  },
  {
   "cell_type": "code",
   "execution_count": 15,
   "id": "bcf26287",
   "metadata": {},
   "outputs": [],
   "source": [
    "aa = ArbreBin(None, Node('A', 6), None)\n",
    "#new_aa = aa.add(Node('B', 7))"
   ]
  },
  {
   "cell_type": "code",
   "execution_count": 16,
   "id": "c2192408",
   "metadata": {},
   "outputs": [],
   "source": [
    "#print(new_aa)"
   ]
  },
  {
   "cell_type": "code",
   "execution_count": 17,
   "id": "0b120b7a",
   "metadata": {},
   "outputs": [],
   "source": [
    "from __future__ import annotations\n",
    "\n",
    "class ArbreBin:\n",
    "    \"\"\"Arbre binaire\"\"\"\n",
    "    \n",
    "    # Constructeur d'arbre binaire\n",
    "    def __init__(self, arbre_g, racine, arbre_d) -> None:\n",
    "        self.arbre_g = arbre_g\n",
    "        self.racine = racine\n",
    "        self.arbre_d = arbre_d\n",
    "        \n",
    "    def __str__(self) -> str:\n",
    "        if (self.arbre_g is None):\n",
    "            t_g = \"None\"\n",
    "        else:\n",
    "            t_g = self.arbre_g.__str__()\n",
    "        if (self.arbre_d is None):\n",
    "            t_d = \"None\"\n",
    "        else:\n",
    "            t_d = self.arbre_d.__str__()\n",
    "        return \"ArbreBin(\" + t_g + \", \" + self.racine.__str__() + \", \" + t_d + \")\"\n",
    "    \n",
    "    # Ajoute content à l'arbre\n",
    "    def add(self, node) -> ArbreBin:\n",
    "            # Si strictement inférieur, ajout à gauche\n",
    "            if (node.content < self.racine.content):\n",
    "                if self.arbre_g is None:\n",
    "                    left = ArbreBin(None, node, None)\n",
    "                else:\n",
    "                    left = self.arbre_g.add(node)\n",
    "                return ArbreBin(left, self.racine, self.arbre_d)\n",
    "            # Sinon (supérieur ou égal), ajout à droite\n",
    "            else:\n",
    "                if self.arbre_d is None:\n",
    "                    right = ArbreBin(None, node, None)\n",
    "                else:\n",
    "                    right = self.arbre_d.add(node)\n",
    "                return ArbreBin(self.arbre_g, self.racine, right)\n",
    "        \n",
    "    # Teste si l'arbre contient content    \n",
    "    #def contains(self, content) -> ...:\n",
    "        #if (content == self.racine.content):\n",
    "            #return ...\n",
    "        #elif (content < self.racine.content):\n",
    "            #return ...\n",
    "        #else:\n",
    "            #return ..."
   ]
  },
  {
   "cell_type": "code",
   "execution_count": 18,
   "id": "aa371a36",
   "metadata": {},
   "outputs": [],
   "source": [
    "aa = ArbreBin(None, Node('A', 6), None)\n",
    "#new_aa = aa.add(Node('D', 9)).add(Node('E', 24)).add(Node('F', 8)).add(Node('G', 11))"
   ]
  },
  {
   "cell_type": "code",
   "execution_count": 19,
   "id": "31cc1167",
   "metadata": {},
   "outputs": [],
   "source": [
    "#new_aa.contains(8)"
   ]
  },
  {
   "cell_type": "code",
   "execution_count": 20,
   "id": "5d086523",
   "metadata": {},
   "outputs": [],
   "source": [
    "#new_aa.contains(21)"
   ]
  },
  {
   "cell_type": "markdown",
   "id": "c114e257",
   "metadata": {},
   "source": [
    "## Ok mais à quoi servent les arbres binaires ?\n",
    "\n",
    "Reprenons l'algorithme de recherche séquentielle vu au TP3."
   ]
  },
  {
   "cell_type": "code",
   "execution_count": 21,
   "id": "7f020267",
   "metadata": {},
   "outputs": [],
   "source": [
    "def rechercher(tableau, valeur) -> bool:\n",
    "    \n",
    "    isFound = False\n",
    "    j = 0\n",
    "    \n",
    "    while (j < len(tableau)) and not isFound:\n",
    "        x = tableau[j]\n",
    "        j += 1\n",
    "        if (x == valeur):\n",
    "            isFound = True\n",
    "\n",
    "    return isFound"
   ]
  },
  {
   "cell_type": "code",
   "execution_count": 22,
   "id": "1cc5a842",
   "metadata": {
    "scrolled": true
   },
   "outputs": [
    {
     "data": {
      "text/plain": [
       "True"
      ]
     },
     "execution_count": 22,
     "metadata": {},
     "output_type": "execute_result"
    }
   ],
   "source": [
    "rechercher([1, 4, 67, 8, 5], 8)"
   ]
  },
  {
   "cell_type": "code",
   "execution_count": 23,
   "id": "b4368727",
   "metadata": {},
   "outputs": [
    {
     "data": {
      "text/plain": [
       "False"
      ]
     },
     "execution_count": 23,
     "metadata": {},
     "output_type": "execute_result"
    }
   ],
   "source": [
    "rechercher([1, 4, 67, 8, 5], 0)"
   ]
  },
  {
   "cell_type": "markdown",
   "id": "09a91fca",
   "metadata": {},
   "source": [
    "Exercice : ajouter à la classe ArbreBin une méthode permettant de créer un arbre binaire à partir d'un tableau (liste)."
   ]
  },
  {
   "cell_type": "code",
   "execution_count": 24,
   "id": "04d8c8a8",
   "metadata": {},
   "outputs": [
    {
     "name": "stderr",
     "output_type": "stream",
     "text": [
      "<cell>40: \u001b[1m\u001b[31merror:\u001b[m Missing return statement  \u001b[m\u001b[33m[empty-body]\u001b[m\n"
     ]
    }
   ],
   "source": [
    "class ArbreBin:\n",
    "    \"\"\"Arbre binaire\"\"\"\n",
    "    \n",
    "    # Constructeur d'arbre binaire\n",
    "    def __init__(self, arbre_g, racine, arbre_d) -> None:\n",
    "        self.arbre_g = arbre_g\n",
    "        self.racine = racine\n",
    "        self.arbre_d = arbre_d\n",
    "        \n",
    "    def __str__(self) -> str:\n",
    "        if (self.arbre_g is None):\n",
    "            t_g = \"None\"\n",
    "        else:\n",
    "            t_g = self.arbre_g.__str__()\n",
    "        if (self.arbre_d is None):\n",
    "            t_d = \"None\"\n",
    "        else:\n",
    "            t_d = self.arbre_d.__str__()\n",
    "        return \"ArbreBin(\" + t_g + \", \" + self.racine.__str__() + \", \" + t_d + \")\"\n",
    "    \n",
    "    # Ajoute content à l'arbre\n",
    "    def add(self, node) -> ArbreBin:\n",
    "            # Si strictement inférieur, ajout à gauche\n",
    "            if (node.content < self.racine.content):\n",
    "                if self.arbre_g is None:\n",
    "                    left = ArbreBin(None, node, None)\n",
    "                else:\n",
    "                    left = self.arbre_g.add(node)\n",
    "                return ArbreBin(left, self.racine, self.arbre_d)\n",
    "            # Sinon (supérieur ou égal), ajout à droite\n",
    "            else:\n",
    "                if self.arbre_d is None:\n",
    "                    right = ArbreBin(None, node, None)\n",
    "                else:\n",
    "                    right = self.arbre_d.add(node)\n",
    "                return ArbreBin(self.arbre_g, self.racine, right)\n",
    "            \n",
    "    # Ajoute une liste d'entiers à un arbre\n",
    "    # A faire !\n",
    "    def addL(self, tableau) -> ArbreBin:\n",
    "        pass\n",
    "        \n",
    "    # Teste si l'arbre contient content    \n",
    "    def contains(self, content) -> bool:\n",
    "        if (content == self.racine.content):\n",
    "            return True\n",
    "        elif (content < self.racine.content):\n",
    "            return (not (self.arbre_g is None)) and self.arbre_g.contains(content)\n",
    "        else:\n",
    "            return (not (self.arbre_d is None)) and self.arbre_d.contains(content)"
   ]
  },
  {
   "cell_type": "code",
   "execution_count": 25,
   "id": "96bd9460",
   "metadata": {},
   "outputs": [],
   "source": [
    "aa = ArbreBin(None, Node('Root'), None)\n",
    "#new_aa = aa.addL([0, 15, 27])"
   ]
  },
  {
   "cell_type": "code",
   "execution_count": 26,
   "id": "242a340d",
   "metadata": {
    "scrolled": true
   },
   "outputs": [],
   "source": [
    "#print(new_aa)"
   ]
  },
  {
   "cell_type": "code",
   "execution_count": 27,
   "id": "61fc7926",
   "metadata": {},
   "outputs": [
    {
     "name": "stdout",
     "output_type": "stream",
     "text": [
      "ArbreBin(None, Node(Root, 0), None)\n"
     ]
    }
   ],
   "source": [
    "print(aa)"
   ]
  },
  {
   "cell_type": "markdown",
   "id": "410ae40d",
   "metadata": {},
   "source": [
    "Maintenant voyons quel est l'algorithme le plus rapide : rechercher ou contains ?"
   ]
  },
  {
   "cell_type": "code",
   "execution_count": 28,
   "id": "84e7cf4a",
   "metadata": {},
   "outputs": [],
   "source": [
    "# A faire commme la comparaison des algorithmes de tri"
   ]
  },
  {
   "cell_type": "markdown",
   "id": "1abee58f",
   "metadata": {},
   "source": [
    "On voit donc que la recherche dans un arbre bianire est beaucoup plus efficace."
   ]
  },
  {
   "cell_type": "markdown",
   "id": "f8beb7ad",
   "metadata": {},
   "source": [
    "## Ok mais quel rapport avec la géomatique ?\n",
    "\n",
    "Des idées similaires aux arbres binaires (quadtrees, R-trees etc.) sont utilisées dans de nombreux domaines (bases de données, synthèse/compression d'images, simulations, jeux vidéo et géomatique) pour \"indexer\" les données et augmenter considérablement les performances.\n",
    "\n",
    "![Calculs de distance](img/quadtree_1.png)\n",
    "\n",
    "Supposons que l'on veuille calculer quels sont les objets proches de B. On va donc devoir faire autant de calcul de distance qu'il y a d'objets même s'il est évident que certains objets ne sont pas \"proches\". Et si l'on veut connaître tous les objets se trouvant à moins d'une certaine distance les uns des autres (par exemple, où se trouve toutes les antennes relais situées à moins de 100 m d'une école ?), le nombre de calculs augmente encore plus rapidement : 100 pour 10 objets, 10000 pour 100 objets, 1000000 pour 1000 objets etc.\n",
    "\n",
    "![Quadtree](img/quadtree_2.png)\n",
    "\n",
    "Les quadtrees sont des arbres quaternaires, chaque noeud à 4 descendants. Ils permettent d'indexer les objets du plan. Lorsque le nombre d'objets du plan considéré dépasse un certain seuil arbitraire (1 dans notre exemple), le plan est découpé en 4 sous-zones. Et ainsi de suite récursivement. Pour connaître les points \"proches\" de B, on ne considérera que les points placés dans le même noeud que B, ou ceux appartenant à des noeuds \"proches\" (ce qui se calcule facilement car on connaît les coordonnées des points aux extrémités des zones)."
   ]
  },
  {
   "cell_type": "markdown",
   "id": "5875c023",
   "metadata": {},
   "source": [
    "(le code ci-dessous n'est pas de moi, je l'adapte de [là](https://jrtechs.net/data-science/implementing-a-quadtree-in-python))"
   ]
  },
  {
   "cell_type": "code",
   "execution_count": 29,
   "id": "ac5dcf5f",
   "metadata": {},
   "outputs": [],
   "source": [
    "class Point():\n",
    "    def __init__(self, x, y) -> None:\n",
    "        self.x = x\n",
    "        self.y = y"
   ]
  },
  {
   "cell_type": "code",
   "execution_count": 30,
   "id": "dd810573",
   "metadata": {},
   "outputs": [
    {
     "name": "stderr",
     "output_type": "stream",
     "text": [
      "<cell>4: \u001b[34mnote:\u001b[m \u001b[m\u001b[1m\"Node\"\u001b[m defined here\u001b[m\n"
     ]
    }
   ],
   "source": [
    "from typing import List\n",
    "\n",
    "class Node():\n",
    "    def __init__(self, x0, y0, w, h, points) -> None:\n",
    "        self.x0 = x0\n",
    "        self.y0 = y0\n",
    "        self.width = w\n",
    "        self.height = h\n",
    "        self.points = points\n",
    "        self.children : List[Node] = []\n",
    "\n",
    "    def get_width(self) -> int:\n",
    "        return self.width\n",
    "    \n",
    "    def get_height(self) -> int:\n",
    "        return self.height\n",
    "    \n",
    "    def get_points(self) -> List[Point]:\n",
    "        return self.points"
   ]
  },
  {
   "cell_type": "code",
   "execution_count": 31,
   "id": "bfc23702",
   "metadata": {},
   "outputs": [],
   "source": [
    "def recursive_subdivide(node, k) -> None:\n",
    "    if len(node.points) > k:\n",
    "        w_ = float(node.width/2)\n",
    "        h_ = float(node.height/2)\n",
    "\n",
    "        p = contains(node.x0, node.y0, w_, h_, node.points)\n",
    "        x1 = Node(node.x0, node.y0, w_, h_, p)\n",
    "        recursive_subdivide(x1, k)\n",
    "\n",
    "        p = contains(node.x0, node.y0+h_, w_, h_, node.points)\n",
    "        x2 = Node(node.x0, node.y0+h_, w_, h_, p)\n",
    "        recursive_subdivide(x2, k)\n",
    "\n",
    "        p = contains(node.x0+w_, node.y0, w_, h_, node.points)\n",
    "        x3 = Node(node.x0 + w_, node.y0, w_, h_, p)\n",
    "        recursive_subdivide(x3, k)\n",
    "\n",
    "        p = contains(node.x0+w_, node.y0+h_, w_, h_, node.points)\n",
    "        x4 = Node(node.x0+w_, node.y0+h_, w_, h_, p)\n",
    "        recursive_subdivide(x4, k)\n",
    "\n",
    "        node.children = [x1, x2, x3, x4]\n",
    "   \n",
    "   \n",
    "def contains(x, y, w, h, points) -> List[Point]:\n",
    "    pts = []\n",
    "    for point in points:\n",
    "        if (point.x >= x) and (point.x <= x + w) and (point.y >= y) and (point.y <= y + h):\n",
    "            pts.append(point)\n",
    "    return pts\n",
    "\n",
    "\n",
    "def find_children(node) -> List[Node]:\n",
    "    if not node.children:\n",
    "        return [node]\n",
    "    else:\n",
    "        children = []\n",
    "        for child in node.children:\n",
    "            children += (find_children(child))\n",
    "        return children"
   ]
  },
  {
   "cell_type": "code",
   "execution_count": 32,
   "id": "bc209d80",
   "metadata": {},
   "outputs": [],
   "source": [
    "import random\n",
    "import matplotlib.pyplot as plt # plotting libraries\n",
    "import matplotlib.patches as patches\n",
    "\n",
    "class QTree():\n",
    "    def __init__(self, k, n) -> None:\n",
    "        self.threshold = k\n",
    "        self.points = [Point(random.uniform(0, 10), random.uniform(0, 10)) for x in range(n)]\n",
    "        self.root = Node(0, 0, 10, 10, self.points)\n",
    "\n",
    "    def add_point(self, x, y) -> None:\n",
    "        self.points.append(Point(x, y))\n",
    "    \n",
    "    def get_points(self) -> List[Point]:\n",
    "        return self.points\n",
    "    \n",
    "    def subdivide(self) -> None:\n",
    "        recursive_subdivide(self.root, self.threshold)\n",
    "    \n",
    "    def graph(self) -> None:\n",
    "        fig = plt.figure(figsize=(12, 8))\n",
    "        plt.title(\"Quadtree\")\n",
    "        c = find_children(self.root)\n",
    "        print(\"Number of segments: %d\" %len(c))\n",
    "        areas = set()\n",
    "        for el in c:\n",
    "            areas.add(el.width*el.height)\n",
    "        print(\"Minimum segment area: %.3f units\" %min(areas))\n",
    "        for n in c:\n",
    "            plt.gcf().gca().add_patch(patches.Rectangle((n.x0, n.y0), n.width, n.height, fill=False))\n",
    "        x = [point.x for point in self.points]\n",
    "        y = [point.y for point in self.points]\n",
    "        plt.plot(x, y, 'ro') # plots the points as red dots\n",
    "        plt.show()"
   ]
  },
  {
   "cell_type": "code",
   "execution_count": 33,
   "id": "c1b0d98a",
   "metadata": {},
   "outputs": [],
   "source": [
    "test = QTree(3, 100)"
   ]
  },
  {
   "cell_type": "code",
   "execution_count": 34,
   "id": "cdcdaeb4",
   "metadata": {},
   "outputs": [],
   "source": [
    "test.subdivide()"
   ]
  },
  {
   "cell_type": "code",
   "execution_count": 35,
   "id": "15a34a25",
   "metadata": {},
   "outputs": [
    {
     "name": "stdout",
     "output_type": "stream",
     "text": [
      "Number of segments: 82\n",
      "Minimum segment area: 0.391 units\n"
     ]
    },
    {
     "data": {
      "image/png": "[encoded data removed]",
      "text/plain": [
       "<Figure size 1200x800 with 1 Axes>"
      ]
     },
     "metadata": {},
     "output_type": "display_data"
    }
   ],
   "source": [
    "test.graph()"
   ]
  },
  {
   "cell_type": "raw",
   "id": "86b1b742",
   "metadata": {},
   "source": []
  }
 ],
 "metadata": {
  "kernelspec": {
   "display_name": "Python 3 (ipykernel)",
   "language": "python",
   "name": "python3"
  },
  "language_info": {
   "codemirror_mode": {
    "name": "ipython",
    "version": 3
   },
   "file_extension": ".py",
   "mimetype": "text/x-python",
   "name": "python",
   "nbconvert_exporter": "python",
   "pygments_lexer": "ipython3",
   "version": "3.11.7"
  }
 },
 "nbformat": 4,
 "nbformat_minor": 5
}
