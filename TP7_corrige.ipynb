{
 "cells": [
  {
   "cell_type": "markdown",
   "id": "09205fb6",
   "metadata": {},
   "source": [
    "# Graphes : pathfinding avec A*"
   ]
  },
  {
   "cell_type": "markdown",
   "id": "8a47c0aa",
   "metadata": {},
   "source": [
    "L'algorithme $A^*$ (A étoile) permet de trouver **le plus court chemin entre 2 noeuds d'un graphe**. C'est un algorithme classique très utilisé dans de nombreux domaines tels que par exemple les jeux vidéo ou le calcul d'itinéraires. Il en existe d'autres comme Greedy Search ou Dijkstra.\n",
    "\n",
    "Les schémas ci-dessous sont tirés du livre de Peter Norvig, Stuart Russell, \"Intelligence artificielle, une approche moderne\".\n",
    "\n",
    "![Réseau routier](./img/romania-distances.pdf)\n",
    "\n",
    "![Distances](./img/romania-sld.pdf)\n",
    "\n",
    "Le principe de $A^*$ est le suivant : chaque noeud est caractérisé par ses coordonnées $(x, y)$, un coût pour atteindre ce noeud depuis le noeud initial, et une *valeur heuristique* c'est-à-dire une estimation du coût nécessaire pour atteindre le noeud final. Noter que $A^*$ peut être utilisé chaque fois qu'il est possible de décrire un problème dans ces termes et pas seulement dans le cas de la recherche d'un itinéraire. Mais dans notre exemple, le coût est la distance parcourue depuis le noeud de départ, et la valeur heuristique est la distance \"à vol d'oiseau\" pour atteindre la destination. La distance à vol d'oiseau est une estimation *minorante* de la distance qu'il faudra réellement parcourir. C'est une caractéristique important de l'heuristique pour garantir que le chemin trouvé sera *optimal* c'est-à-dire le plus court.  \n",
    "\n",
    "A partir d'un noeud donné, on regarde quels sont les noeuds immédiatement atteignables dans le graphe et on calcul leur valeur = coût + heuristique. On ajoute tous ces noeuds à une liste de noeuds à explorer, et on se rend sur le noeud ayant la valeur la plus basse. Puis l'on recommence cette procédure jusqu'au noeud final.  \n",
    "\n",
    "Prenons un exemple. On cherche le plus court chemin entre la ville de Arad et Bucarest. Voici l'exploration faite par $A^*$ :\n",
    "\n",
    "![A-étoile](img/astar-progress.pdf)"
   ]
  },
  {
   "cell_type": "markdown",
   "id": "853386b2",
   "metadata": {},
   "source": [
    "Voici l'algorithme $A^*$ (dans le cas où l'heuristique est minorante) en pseudo-code :"
   ]
  },
  {
   "cell_type": "markdown",
   "id": "9b70afae",
   "metadata": {},
   "source": [
    "**Fonction astart(g : Graphe, objectif : Noeud, depart : Noeud):**\n",
    "        \n",
    "        {Liste des noeuds déjà rencontrés}\n",
    "        closedList = []\n",
    "        \n",
    "        {Liste des noeuds à explorer}\n",
    "        openList = []\n",
    "        openList.ajouter(depart)\n",
    "        \n",
    "        tant que openList n'est pas vide:\n",
    "           u = openList.retirer_meilleur_noeud()\n",
    "           closedList.ajouter(u)\n",
    "           si u == objectif:\n",
    "               chemin = reconstituer_chemin(u , depart)\n",
    "               retourner chemin\n",
    "           pour chaque voisin v de u dans g:\n",
    "               v.cout = u.cout + distance(u, v)\n",
    "               v.valeur = v.cout + estimation_distance(v, objectif)\n",
    "               si non(v existe dans closedList):\n",
    "                    openList.ajouter(v)\n",
    "       retourner échec"
   ]
  },
  {
   "cell_type": "markdown",
   "id": "b2f04fe1",
   "metadata": {},
   "source": [
    "## Exercice :\n",
    "- Implémenter $A^*$ en python\n",
    "- Tester $A^*$ avec le graphe de l'exemple   "
   ]
  },
  {
   "cell_type": "code",
   "execution_count": 2,
   "id": "09f74d02-5982-4f0f-8c0b-d7de7fce4a02",
   "metadata": {},
   "outputs": [
    {
     "name": "stdout",
     "output_type": "stream",
     "text": [
      "Collecting nb_mypy\n",
      "  Using cached nb_mypy-1.0.5-py3-none-any.whl\n",
      "Collecting astor<1,>=0.8 (from nb_mypy)\n",
      "  Using cached astor-0.8.1-py2.py3-none-any.whl.metadata (4.2 kB)\n",
      "Collecting mypy<2,>=1 (from nb_mypy)\n",
      "  Using cached mypy-1.13.0-cp311-cp311-manylinux_2_17_x86_64.manylinux2014_x86_64.manylinux_2_28_x86_64.whl.metadata (2.1 kB)\n",
      "Requirement already satisfied: ipython<9,>=8.0 in /opt/conda/lib/python3.11/site-packages (from nb_mypy) (8.27.0)\n",
      "Requirement already satisfied: decorator in /opt/conda/lib/python3.11/site-packages (from ipython<9,>=8.0->nb_mypy) (5.1.1)\n",
      "Requirement already satisfied: jedi>=0.16 in /opt/conda/lib/python3.11/site-packages (from ipython<9,>=8.0->nb_mypy) (0.19.1)\n",
      "Requirement already satisfied: matplotlib-inline in /opt/conda/lib/python3.11/site-packages (from ipython<9,>=8.0->nb_mypy) (0.1.7)\n",
      "Requirement already satisfied: prompt-toolkit<3.1.0,>=3.0.41 in /opt/conda/lib/python3.11/site-packages (from ipython<9,>=8.0->nb_mypy) (3.0.47)\n",
      "Requirement already satisfied: pygments>=2.4.0 in /opt/conda/lib/python3.11/site-packages (from ipython<9,>=8.0->nb_mypy) (2.18.0)\n",
      "Requirement already satisfied: stack-data in /opt/conda/lib/python3.11/site-packages (from ipython<9,>=8.0->nb_mypy) (0.6.2)\n",
      "Requirement already satisfied: traitlets>=5.13.0 in /opt/conda/lib/python3.11/site-packages (from ipython<9,>=8.0->nb_mypy) (5.14.3)\n",
      "Requirement already satisfied: typing-extensions>=4.6 in /opt/conda/lib/python3.11/site-packages (from ipython<9,>=8.0->nb_mypy) (4.12.2)\n",
      "Requirement already satisfied: pexpect>4.3 in /opt/conda/lib/python3.11/site-packages (from ipython<9,>=8.0->nb_mypy) (4.9.0)\n",
      "Collecting mypy-extensions>=1.0.0 (from mypy<2,>=1->nb_mypy)\n",
      "  Using cached mypy_extensions-1.0.0-py3-none-any.whl.metadata (1.1 kB)\n",
      "Requirement already satisfied: parso<0.9.0,>=0.8.3 in /opt/conda/lib/python3.11/site-packages (from jedi>=0.16->ipython<9,>=8.0->nb_mypy) (0.8.4)\n",
      "Requirement already satisfied: ptyprocess>=0.5 in /opt/conda/lib/python3.11/site-packages (from pexpect>4.3->ipython<9,>=8.0->nb_mypy) (0.7.0)\n",
      "Requirement already satisfied: wcwidth in /opt/conda/lib/python3.11/site-packages (from prompt-toolkit<3.1.0,>=3.0.41->ipython<9,>=8.0->nb_mypy) (0.2.13)\n",
      "Requirement already satisfied: executing>=1.2.0 in /opt/conda/lib/python3.11/site-packages (from stack-data->ipython<9,>=8.0->nb_mypy) (2.1.0)\n",
      "Requirement already satisfied: asttokens>=2.1.0 in /opt/conda/lib/python3.11/site-packages (from stack-data->ipython<9,>=8.0->nb_mypy) (2.4.1)\n",
      "Requirement already satisfied: pure-eval in /opt/conda/lib/python3.11/site-packages (from stack-data->ipython<9,>=8.0->nb_mypy) (0.2.3)\n",
      "Requirement already satisfied: six>=1.12.0 in /opt/conda/lib/python3.11/site-packages (from asttokens>=2.1.0->stack-data->ipython<9,>=8.0->nb_mypy) (1.16.0)\n",
      "Using cached astor-0.8.1-py2.py3-none-any.whl (27 kB)\n",
      "Using cached mypy-1.13.0-cp311-cp311-manylinux_2_17_x86_64.manylinux2014_x86_64.manylinux_2_28_x86_64.whl (12.5 MB)\n",
      "Using cached mypy_extensions-1.0.0-py3-none-any.whl (4.7 kB)\n",
      "Installing collected packages: mypy-extensions, astor, mypy, nb_mypy\n",
      "Successfully installed astor-0.8.1 mypy-1.13.0 mypy-extensions-1.0.0 nb_mypy-1.0.5\n",
      "Note: you may need to restart the kernel to use updated packages.\n"
     ]
    }
   ],
   "source": [
    "pip install nb_mypy"
   ]
  },
  {
   "cell_type": "code",
   "execution_count": 11,
   "id": "a86dd6ea-f390-4d24-84cf-70a46d5b49f1",
   "metadata": {},
   "outputs": [
    {
     "name": "stdout",
     "output_type": "stream",
     "text": [
      "The nb_mypy extension is already loaded. To reload it, use:\n",
      "  %reload_ext nb_mypy\n"
     ]
    }
   ],
   "source": [
    "%load_ext nb_mypy"
   ]
  },
  {
   "cell_type": "code",
   "execution_count": 12,
   "id": "1ae7529d",
   "metadata": {},
   "outputs": [],
   "source": [
    "from typing import List\n",
    "\n",
    "class Node():\n",
    "    def __init__(self, name, cost = 0, heuristic = 0, parent = None) -> None:\n",
    "        self.name = name\n",
    "        self.cost = cost\n",
    "        self.heuristic = heuristic\n",
    "        self.parent = parent\n",
    "        \n",
    "    def __eq__(self, n) -> bool:\n",
    "        return self.name == n.name\n",
    "    \n",
    "    def __str__(self) -> str:\n",
    "        return \"Node \" + self.name\n",
    "    \n",
    "    def get_path(self) -> List[str]:\n",
    "        if self.parent is None:\n",
    "            return [self.name]\n",
    "        else:\n",
    "            return self.parent.get_path() + [self.name]"
   ]
  },
  {
   "cell_type": "code",
   "execution_count": 23,
   "id": "db095add-5804-4792-869b-2c320fadc06a",
   "metadata": {},
   "outputs": [],
   "source": [
    "na = Node('A')"
   ]
  },
  {
   "cell_type": "code",
   "execution_count": 24,
   "id": "d27cb3ff-29be-439b-832e-3dfd2f01dc31",
   "metadata": {},
   "outputs": [
    {
     "name": "stdout",
     "output_type": "stream",
     "text": [
      "Node A\n"
     ]
    }
   ],
   "source": [
    "print(na)"
   ]
  },
  {
   "cell_type": "code",
   "execution_count": 25,
   "id": "d024d468-b76d-4832-a886-94d06a9eb383",
   "metadata": {},
   "outputs": [],
   "source": [
    "nb = Node('B')"
   ]
  },
  {
   "cell_type": "code",
   "execution_count": 26,
   "id": "5bac6db9-3575-40c7-9b0b-a5f4630bf2df",
   "metadata": {},
   "outputs": [
    {
     "data": {
      "text/plain": [
       "False"
      ]
     },
     "execution_count": 26,
     "metadata": {},
     "output_type": "execute_result"
    }
   ],
   "source": [
    "na == nb"
   ]
  },
  {
   "cell_type": "code",
   "execution_count": 27,
   "id": "4e0ec993-f2ef-4d70-955c-e7396824b012",
   "metadata": {},
   "outputs": [],
   "source": [
    "nc = Node('A')"
   ]
  },
  {
   "cell_type": "code",
   "execution_count": 28,
   "id": "d8c7105a-3508-46f8-9f50-242343a711ec",
   "metadata": {},
   "outputs": [
    {
     "data": {
      "text/plain": [
       "True"
      ]
     },
     "execution_count": 28,
     "metadata": {},
     "output_type": "execute_result"
    }
   ],
   "source": [
    "na == nc"
   ]
  },
  {
   "cell_type": "code",
   "execution_count": 13,
   "id": "d6d7b584",
   "metadata": {},
   "outputs": [],
   "source": [
    "heuristic = {\n",
    "    'Arad' : 366,\n",
    "    'Bucharest' : 0, \n",
    "    'Craiova' : 160, \n",
    "    'Dobreta' : 242,\n",
    "    'Eforie' : 161,\n",
    "    'Fagaras' : 176, \n",
    "    'Giurgiu' : 77,\n",
    "    'Hirsova' : 151,\n",
    "    'Iasi' : 226,\n",
    "    'Lugoj' : 244,\n",
    "    'Mehadia' : 241,\n",
    "    'Neamt' : 234,\n",
    "    'Oradea' : 380,\n",
    "    'Pitesti' : 100,\n",
    "    'Rimnicu Vilcea' : 193,\n",
    "    'Sibiu' : 253,\n",
    "    'Timisoara' : 329,\n",
    "    'Urziceni' : 80,\n",
    "    'Vaslui' : 199,\n",
    "    'Zerind' : 374}"
   ]
  },
  {
   "cell_type": "code",
   "execution_count": 14,
   "id": "5f9277b7",
   "metadata": {},
   "outputs": [],
   "source": [
    "graphe = {\n",
    "    'children' : {\n",
    "        'Arad' : ['Zerind', 'Sibiu', 'Timisoara'],\n",
    "        'Bucharest' : ['Pitesti', 'Giurgiu', 'Urziceni', 'Fagaras'], \n",
    "        'Craiova' : ['Dobreta', 'Rimnicu Vilcea', 'Pitesti'], \n",
    "        'Dobreta' : ['Mehadia', 'Craiova'],\n",
    "        'Eforie' : ['Hirsova'],\n",
    "        'Fagaras' : ['Sibiu', 'Bucharest'], \n",
    "        'Giurgiu' : ['Bucharest'],\n",
    "        'Hirsova' : ['Eforie', 'Urziceni'],\n",
    "        'Iasi' : ['Neamt', 'Vaslui'],\n",
    "        'Lugoj' : ['Timisoara', 'Mehadia'],\n",
    "        'Mehadia' : ['Lugoj', 'Dobreta'],\n",
    "        'Neamt' : ['Iasi'],\n",
    "        'Oradea' : ['Zerind', 'Sibiu'],\n",
    "        'Pitesti' : ['Rimnicu Vilcea', 'Craiova', 'Bucharest'],\n",
    "        'Rimnicu Vilcea' : ['Sibiu', 'Craiova', 'Pitesti'],\n",
    "        'Sibiu' : ['Arad', 'Oradea', 'Rimnicu Vilcea', 'Fagaras'],\n",
    "        'Timisoara' : ['Arad', 'Lugoj'],\n",
    "        'Urziceni' : ['Bucharest', 'Urziceni'],\n",
    "        'Vaslui' : ['Urziceni', 'Iasi'],\n",
    "        'Zerind' : ['Arad', 'Oradea']\n",
    "    },\n",
    "    'cost' : {\n",
    "        ('Arad', 'Zerind') : 75,\n",
    "        ('Arad', 'Sibiu') : 140,\n",
    "        ('Arad', 'Timisoara') : 118,\n",
    "        ('Zerind', 'Oradea') : 71,\n",
    "        ('Oradea', 'Sibiu') : 151,\n",
    "        ('Sibiu', 'Fagaras') : 99,\n",
    "        ('Sibiu', 'Rimnicu Vilcea') : 80,\n",
    "        ('Timisoara', 'Lugoj') : 111,\n",
    "        ('Lugoj', 'Mehadia') : 70,\n",
    "        ('Mehadia', 'Dobreta') : 75,\n",
    "        ('Dobreta', 'Craiova') : 120,\n",
    "        ('Craiova', 'Rimnicu Vilcea') : 146,\n",
    "        ('Rimnicu Vilcea', 'Pitesti') : 97,\n",
    "        ('Pitesti', 'Craiova') : 138,\n",
    "        ('Pitesti', 'Bucharest') : 101,\n",
    "        ('Fagaras', 'Bucharest') : 211,\n",
    "        ('Bucharest', 'Giurgiu') : 90,\n",
    "        ('Bucharest', 'Urziceni') : 85,\n",
    "        ('Urziceni', 'Hirsova') : 98,\n",
    "        ('Hirsova', 'Eforie') : 86,\n",
    "        ('Urziceni', 'Vaslui') : 142,\n",
    "        ('Vaslui', 'Iasi') : 92,\n",
    "        ('Iasi', 'Neamt') : 87\n",
    "    }\n",
    "}"
   ]
  },
  {
   "cell_type": "code",
   "execution_count": 15,
   "id": "d912956b",
   "metadata": {},
   "outputs": [],
   "source": [
    "def cost(u, v, graphe):\n",
    "    if (u, v) in graphe['cost']:\n",
    "        return graphe['cost'][(u, v)]\n",
    "    else:\n",
    "        return graphe['cost'][(v, u)]"
   ]
  },
  {
   "cell_type": "code",
   "execution_count": 9,
   "id": "85743c0a-c978-490b-a242-20d0f12afaf6",
   "metadata": {},
   "outputs": [
    {
     "data": {
      "text/plain": [
       "87"
      ]
     },
     "execution_count": 9,
     "metadata": {},
     "output_type": "execute_result"
    }
   ],
   "source": [
    "cost('Neamt', 'Iasi', graphe)"
   ]
  },
  {
   "cell_type": "code",
   "execution_count": 16,
   "id": "8c0dc501",
   "metadata": {},
   "outputs": [],
   "source": [
    "def astart(graphe, depart, destination) -> List[str]:\n",
    "    closeList = []\n",
    "    openList = [depart]\n",
    "    while openList:\n",
    "        best = openList.pop(0)\n",
    "        closeList.append(best)\n",
    "        if best == destination:\n",
    "            return best.get_path()\n",
    "        for voisin in graphe['children'][best.name]:\n",
    "            voisin_cost = best.cost + cost(best.name, voisin, graphe)\n",
    "            voisin_heuristic = heuristic[voisin]\n",
    "            node_voisin = Node(voisin, cost = voisin_cost, heuristic = voisin_heuristic, parent = best)\n",
    "            if (not node_voisin in closeList):\n",
    "                openList.append(node_voisin)\n",
    "                openList.sort(key = lambda x : x.cost + x.heuristic)\n",
    "    return []"
   ]
  },
  {
   "cell_type": "code",
   "execution_count": 17,
   "id": "cc1efb59",
   "metadata": {},
   "outputs": [],
   "source": [
    "depart = Node('Bucharest')\n",
    "destination = Node('Bucharest')"
   ]
  },
  {
   "cell_type": "code",
   "execution_count": 18,
   "id": "bcd5d6c1",
   "metadata": {},
   "outputs": [
    {
     "data": {
      "text/plain": [
       "['Bucharest']"
      ]
     },
     "execution_count": 18,
     "metadata": {},
     "output_type": "execute_result"
    }
   ],
   "source": [
    "astart(graphe, depart, destination)"
   ]
  },
  {
   "cell_type": "code",
   "execution_count": 19,
   "id": "9f288274",
   "metadata": {},
   "outputs": [],
   "source": [
    "depart = Node('Timisoara')"
   ]
  },
  {
   "cell_type": "code",
   "execution_count": 20,
   "id": "4b82fb31",
   "metadata": {},
   "outputs": [
    {
     "data": {
      "text/plain": [
       "['Timisoara', 'Arad', 'Sibiu', 'Rimnicu Vilcea', 'Pitesti', 'Bucharest']"
      ]
     },
     "execution_count": 20,
     "metadata": {},
     "output_type": "execute_result"
    }
   ],
   "source": [
    "astart(graphe, depart, destination)"
   ]
  },
  {
   "cell_type": "code",
   "execution_count": null,
   "id": "5e698ca0",
   "metadata": {},
   "outputs": [],
   "source": []
  }
 ],
 "metadata": {
  "kernelspec": {
   "display_name": "Python 3 (ipykernel)",
   "language": "python",
   "name": "python3"
  },
  "language_info": {
   "codemirror_mode": {
    "name": "ipython",
    "version": 3
   },
   "file_extension": ".py",
   "mimetype": "text/x-python",
   "name": "python",
   "nbconvert_exporter": "python",
   "pygments_lexer": "ipython3",
   "version": "3.11.11"
  }
 },
 "nbformat": 4,
 "nbformat_minor": 5
}
