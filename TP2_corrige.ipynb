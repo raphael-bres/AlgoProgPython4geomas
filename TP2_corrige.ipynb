{
 "cells": [
  {
   "cell_type": "markdown",
   "id": "29737194",
   "metadata": {},
   "source": [
    "# Structures de données : les tuples"
   ]
  },
  {
   "cell_type": "code",
   "execution_count": 3,
   "id": "8d66abbc",
   "metadata": {},
   "outputs": [
    {
     "name": "stderr",
     "output_type": "stream",
     "text": [
      "Version 1.0.5\n"
     ]
    }
   ],
   "source": [
    "%load_ext nb_mypy"
   ]
  },
  {
   "cell_type": "markdown",
   "id": "45ecdb57",
   "metadata": {},
   "source": [
    "## Exercice 1 - Alignement de points\n",
    "\n",
    "Dans cet exercice, nous allons utiliser la notion de tuple. Ainsi, un point dans le plan sera un couple avec une abscisse et une ordonnée.  \n",
    "\n",
    "Q1. Ecrire un programme python qui :\n",
    "1. lit les coordonnées de 3 points A, B et C, notés $(x_A, y_A)$, $(x_B, y_B)$ et $(x_C, y_C)$\n",
    "2. affecte une variable booléenne *sont_alignes* qui vaut vrai ssi ces 3 points sont alignés\n",
    "3. affecte une variable booléenne *sont_orthogonaux* qui vaut vrai ssi les droites $(AB)$ et $(AC)$ sont orthogonales\n",
    "4. affiche la valeur de ces deux variables booléennes.\n",
    "\n",
    "Indications :  \n",
    "- A, B et C sont alignés ssi C appartient à la droite $(AB)$, c’est-à-dire ssi $(x_C, y_C)$ vérifie l’équation $y=m.x+p$ avec $m = \\frac{(y_B - y_A)}{(x_B - x_A)}$ et $p = y_A - m.x_A$.\n",
    "- $(AB)$ et $(AC)$ orthogonales ssi $\\overrightarrow{AB}.\\overrightarrow{AC} = 0$, c’est-à-dire ssi :\n",
    "$(x_B − x_A).(x_C − x_A)+(y_B − y_A).(y_C − y_A)=0$"
   ]
  },
  {
   "cell_type": "code",
   "execution_count": 3,
   "id": "f304d943",
   "metadata": {},
   "outputs": [],
   "source": [
    "from typing import Tuple\n",
    "\n",
    "Point = Tuple[int, int] # Définit un type synonyme (int * int)\n",
    "\n",
    "def lire3points() -> Tuple[Point, Point, Point]:\n",
    "    print(\"Point A\")\n",
    "    a : Point # a est de type Point\n",
    "    xa = int(input('Saisissez un entier x : '))\n",
    "    ya = int(input('Saisissez un entier y : '))\n",
    "    a = (xa, ya)\n",
    "    \n",
    "    print(\"Point B\")\n",
    "    b : Point # b est de type Point\n",
    "    xb = int(input('Saisissez un entier x : '))\n",
    "    yb = int(input('Saisissez un entier y : '))\n",
    "    b = (xb, yb)\n",
    "    \n",
    "    print(\"Point C\")\n",
    "    c : Point # c est de type Point\n",
    "    xc = int(input('Saisissez un entier x : '))\n",
    "    yc = int(input('Saisissez un entier y : '))\n",
    "    c = (xc, yc)\n",
    "    \n",
    "    return (a, b, c)"
   ]
  },
  {
   "cell_type": "code",
   "execution_count": 5,
   "id": "55f503bb",
   "metadata": {},
   "outputs": [
    {
     "name": "stdout",
     "output_type": "stream",
     "text": [
      "Point A\n"
     ]
    },
    {
     "name": "stdout",
     "output_type": "stream",
     "text": [
      "Saisissez un entier x :  0\n",
      "Saisissez un entier y :  0\n"
     ]
    },
    {
     "name": "stdout",
     "output_type": "stream",
     "text": [
      "Point B\n"
     ]
    },
    {
     "name": "stdout",
     "output_type": "stream",
     "text": [
      "Saisissez un entier x :  -1\n",
      "Saisissez un entier y :  -1\n"
     ]
    },
    {
     "name": "stdout",
     "output_type": "stream",
     "text": [
      "Point C\n"
     ]
    },
    {
     "name": "stdout",
     "output_type": "stream",
     "text": [
      "Saisissez un entier x :  1\n",
      "Saisissez un entier y :  -1\n"
     ]
    },
    {
     "data": {
      "text/plain": [
       "((0, 0), (-1, -1), (1, -1))"
      ]
     },
     "execution_count": 5,
     "metadata": {},
     "output_type": "execute_result"
    }
   ],
   "source": [
    "lire3points()"
   ]
  },
  {
   "cell_type": "code",
   "execution_count": 6,
   "id": "cc148323",
   "metadata": {},
   "outputs": [
    {
     "data": {
      "text/plain": [
       "3"
      ]
     },
     "execution_count": 6,
     "metadata": {},
     "output_type": "execute_result"
    }
   ],
   "source": [
    "t = (5, 6, 7)\n",
    "len(t)"
   ]
  },
  {
   "cell_type": "code",
   "execution_count": 7,
   "id": "7d1be8cb-d87a-4ab7-a056-830e6898b89b",
   "metadata": {},
   "outputs": [
    {
     "data": {
      "text/plain": [
       "5"
      ]
     },
     "execution_count": 7,
     "metadata": {},
     "output_type": "execute_result"
    }
   ],
   "source": [
    "t[0]"
   ]
  },
  {
   "cell_type": "code",
   "execution_count": 8,
   "id": "5257ca48-dfab-40a1-b423-0dffc1a91260",
   "metadata": {},
   "outputs": [
    {
     "data": {
      "text/plain": [
       "7"
      ]
     },
     "execution_count": 8,
     "metadata": {},
     "output_type": "execute_result"
    }
   ],
   "source": [
    "t[2]"
   ]
  },
  {
   "cell_type": "code",
   "execution_count": 9,
   "id": "4d6192e2-69c0-4160-be48-a9c3581b0333",
   "metadata": {},
   "outputs": [
    {
     "name": "stderr",
     "output_type": "stream",
     "text": [
      "<cell>1: \u001b[1m\u001b[31merror:\u001b[m Tuple index out of range  \u001b[m\u001b[33m[misc]\u001b[m\n"
     ]
    },
    {
     "ename": "IndexError",
     "evalue": "tuple index out of range",
     "output_type": "error",
     "traceback": [
      "\u001b[0;31m---------------------------------------------------------------------------\u001b[0m",
      "\u001b[0;31mIndexError\u001b[0m                                Traceback (most recent call last)",
      "Cell \u001b[0;32mIn[9], line 1\u001b[0m\n\u001b[0;32m----> 1\u001b[0m \u001b[43mt\u001b[49m\u001b[43m[\u001b[49m\u001b[38;5;241;43m3\u001b[39;49m\u001b[43m]\u001b[49m\n",
      "\u001b[0;31mIndexError\u001b[0m: tuple index out of range"
     ]
    }
   ],
   "source": [
    "t[3]"
   ]
  },
  {
   "cell_type": "code",
   "execution_count": null,
   "id": "89b6e9ff",
   "metadata": {},
   "outputs": [],
   "source": [
    "def alignes(pa : Point, pb : Point, pc : Point) -> bool:\n",
    "    \n",
    "    xa = pa[0]; ya = pa[1]\n",
    "    xb = pb[0]; yb = pb[1]\n",
    "    xc = pc[0]; yc = pc[1]\n",
    "\n",
    "    # Paramètres de l'équation de la droite (AB)\n",
    "    m = (yb - ya)/(xb - xa)\n",
    "    p = ya - m * xa\n",
    "\n",
    "    #Version Raphael\n",
    "    return yc == m*xc+p\n",
    "\n",
    "    #Version Humbert\n",
    "    # Je mets les coordonnées de C(xc, yc) dans l'équation de (AB)\n",
    "    test = yc - (m * xc + p)\n",
    "    \n",
    "    if (test == 0):\n",
    "        # A, B et C sont alignés\n",
    "        return True\n",
    "    else:\n",
    "        return False"
   ]
  },
  {
   "cell_type": "code",
   "execution_count": 12,
   "id": "3d420e0a",
   "metadata": {},
   "outputs": [
    {
     "data": {
      "text/plain": [
       "True"
      ]
     },
     "execution_count": 12,
     "metadata": {},
     "output_type": "execute_result"
    }
   ],
   "source": [
    "alignes((0, 1), (1, 1), (2, 1))"
   ]
  },
  {
   "cell_type": "code",
   "execution_count": 13,
   "id": "9e5de685-0b5b-435f-aa39-d44ffda845e0",
   "metadata": {},
   "outputs": [],
   "source": [
    "t = ((8, 6), (5, -5))"
   ]
  },
  {
   "cell_type": "code",
   "execution_count": 14,
   "id": "22a5d2d6-a316-4146-aeba-92821224b1be",
   "metadata": {},
   "outputs": [
    {
     "data": {
      "text/plain": [
       "(8, 6)"
      ]
     },
     "execution_count": 14,
     "metadata": {},
     "output_type": "execute_result"
    }
   ],
   "source": [
    "t[0]"
   ]
  },
  {
   "cell_type": "code",
   "execution_count": 15,
   "id": "8bc17889-dc5c-440b-b095-f625fbf00b43",
   "metadata": {},
   "outputs": [
    {
     "data": {
      "text/plain": [
       "8"
      ]
     },
     "execution_count": 15,
     "metadata": {},
     "output_type": "execute_result"
    }
   ],
   "source": [
    "t[0][0]"
   ]
  },
  {
   "cell_type": "code",
   "execution_count": 16,
   "id": "10cc8ad5-1c54-4d4a-ad2c-97a69e804310",
   "metadata": {},
   "outputs": [
    {
     "data": {
      "text/plain": [
       "-5"
      ]
     },
     "execution_count": 16,
     "metadata": {},
     "output_type": "execute_result"
    }
   ],
   "source": [
    "t[1][1]"
   ]
  },
  {
   "cell_type": "code",
   "execution_count": 19,
   "id": "9223b07c",
   "metadata": {},
   "outputs": [],
   "source": [
    "Vecteur = Tuple[Point, Point] # Définit le type Vecteur\n",
    "\n",
    "def orthogonales(ab : Vecteur, ac : Vecteur) -> bool:\n",
    "    \n",
    "    xa = ab[0][0]; ya = ab[0][1]\n",
    "    xb = ab[1][0]; yb = ab[1][1]\n",
    "    xc = ac[1][0]; yc = ac[1][1]\n",
    "    \n",
    "    test = (xb - xa) * (xc - xa) + (yb - ya) * (yc - ya)\n",
    "    \n",
    "    if (test == 0):\n",
    "        return True\n",
    "    else:\n",
    "        return False"
   ]
  },
  {
   "cell_type": "code",
   "execution_count": 18,
   "id": "0bed4429",
   "metadata": {},
   "outputs": [
    {
     "data": {
      "text/plain": [
       "True"
      ]
     },
     "execution_count": 18,
     "metadata": {},
     "output_type": "execute_result"
    }
   ],
   "source": [
    "ab = ((0, 0), (-1, -1))\n",
    "ac = ((0, 0), (1, -1))\n",
    "\n",
    "orthogonales(ab, ac)"
   ]
  },
  {
   "cell_type": "code",
   "execution_count": 26,
   "id": "eb38a920-1555-4fd2-9cdd-de1b14a520df",
   "metadata": {},
   "outputs": [
    {
     "data": {
      "text/plain": [
       "'Le surnom de Maxime est \"Max\" '"
      ]
     },
     "execution_count": 26,
     "metadata": {},
     "output_type": "execute_result"
    }
   ],
   "source": [
    "'Le surnom de Maxime est' + ' \"Max\" '"
   ]
  },
  {
   "cell_type": "code",
   "execution_count": 20,
   "id": "c547f0bf",
   "metadata": {},
   "outputs": [
    {
     "name": "stdout",
     "output_type": "stream",
     "text": [
      "Point A\n"
     ]
    },
    {
     "name": "stdout",
     "output_type": "stream",
     "text": [
      "Saisissez un entier x :  0\n",
      "Saisissez un entier y :  1\n"
     ]
    },
    {
     "name": "stdout",
     "output_type": "stream",
     "text": [
      "Point B\n"
     ]
    },
    {
     "name": "stdout",
     "output_type": "stream",
     "text": [
      "Saisissez un entier x :  5\n",
      "Saisissez un entier y :  1\n"
     ]
    },
    {
     "name": "stdout",
     "output_type": "stream",
     "text": [
      "Point C\n"
     ]
    },
    {
     "name": "stdout",
     "output_type": "stream",
     "text": [
      "Saisissez un entier x :  -6\n",
      "Saisissez un entier y :  1\n"
     ]
    },
    {
     "name": "stdout",
     "output_type": "stream",
     "text": [
      "Les trois points sont alignés : vrai\n",
      "Les deux droites sont orthogonales : faux\n"
     ]
    }
   ],
   "source": [
    "(pa, pb, pc) = lire3points()\n",
    "sont_alignes = alignes(pa, pb, pc)\n",
    "sont_orthogonaux = orthogonales((pa, pb), (pa, pc))\n",
    "print(\"Les trois points sont alignés : \" + (\"vrai\" if sont_alignes else \"faux\"))\n",
    "print(\"Les deux droites sont orthogonales : \" + (\"vrai\" if sont_orthogonaux else \"faux\"))"
   ]
  },
  {
   "cell_type": "markdown",
   "id": "92cd69dd",
   "metadata": {},
   "source": [
    "## Exercice 2 - A propos de dates\n",
    "\n",
    "Le programme Python ci-dessous représente des dates sous la forme d’un tuple (Jour, Mois, Annee). \n",
    "\n",
    "Q1. Complétez ce programme pour :\n",
    "   \n",
    "1. Lire une date au clavier (en lisant successivement un Jour, un Mois et une Annee)\n",
    "2. Afficher cette date à l’écran\n",
    "3. Afficher un message indiquant si cette date est \"correcte\" ou non. On considérera qu’une date est correcte si elle remplit les conditions suivantes :\n",
    "- le jour est un entier entre 1 et 28 (ou 29, ou 30, ou 31, selon le mois et l’année considérée) ;\n",
    "- les années bissextiles (qui ont 29 jours en février) sont celles qui sont soit divisibles par 4 mais pas\n",
    "par 100, soit divisibles par 400.  \n",
    "\n",
    "Indications :\n",
    "- pour lire une date au clavier vous pouvez saisir un entier pour le mois (1 pour janvier, 2 pour février, etc.)\n",
    "- pour afficher une date à l’écran vous pouvez utilisez la fonction afficheDate fournie\n",
    "\n",
    "Q2. Complétez maintenant ce programme pour qu’il lise deux dates au clavier, et, si elles sont correctes, les\n",
    "affiche par ordre chronologique."
   ]
  },
  {
   "cell_type": "code",
   "execution_count": 1,
   "id": "54e94772",
   "metadata": {},
   "outputs": [],
   "source": [
    "from typing import Dict, Tuple\n",
    "\n",
    "Mois_Annee = Dict[str, Tuple[str, int]] # Définition du type Mois_Annee\n",
    "\n",
    "mois_annee : Mois_Annee # Déclaration de mois_annee comme étant du type Mois_Annee\n",
    "\n",
    "# dictionnaire = association clé --> valeur. Attention les clés sont uniques !\n",
    "mois_annee = {\n",
    "    \"01\": (\"janvier\", 31),\n",
    "    \"02\": (\"février\", 28),\n",
    "    \"03\": (\"mars\", 31),\n",
    "    \"04\": (\"avril\", 30),\n",
    "    \"05\": (\"mai\", 31),\n",
    "    \"06\": (\"juin\", 30),\n",
    "    \"07\": (\"juillet\", 31),\n",
    "    \"08\": (\"août\", 31),\n",
    "    \"09\": (\"septembre\", 30),\n",
    "    \"10\": (\"octobre\", 31),\n",
    "    \"11\": (\"novembre\", 30),\n",
    "    \"12\": (\"décembre\", 31)\n",
    "}"
   ]
  },
  {
   "cell_type": "code",
   "execution_count": 2,
   "id": "2d1fe90c",
   "metadata": {},
   "outputs": [
    {
     "data": {
      "text/plain": [
       "('janvier', 31)"
      ]
     },
     "execution_count": 2,
     "metadata": {},
     "output_type": "execute_result"
    }
   ],
   "source": [
    "mois_annee[\"01\"]"
   ]
  },
  {
   "cell_type": "markdown",
   "id": "2000aabf",
   "metadata": {},
   "source": [
    "Raisonnement:\n",
    "Vérifier que les valeurs sont crédibles (si 0 < jour <= 31 et 0 < mois <= 12)\n",
    "    si 1 <= jour <= 28 OK\n",
    "    sinon si jour = 29\n",
    "        si mois = 2 \n",
    "            vérifier année bissextile. Si oui OK sinon non\n",
    "        sinon OK\n",
    "    sinon si jour = 30 \n",
    "        si mois != 2 alors OK sinon non\n",
    "    sinon si jour = 31\n",
    "        si mois in (mois31) alors OK sinon non"
   ]
  },
  {
   "cell_type": "code",
   "execution_count": 3,
   "id": "6b2b4525",
   "metadata": {},
   "outputs": [],
   "source": [
    "Jour = str\n",
    "Mois = str\n",
    "Annee = str\n",
    "Date = Tuple[Jour, Mois, Annee]\n",
    "\n",
    "def afficheDate(date : Date, mois_annee : Mois_Annee) -> None:\n",
    "    jour : Jour\n",
    "    mois : Mois\n",
    "    annee : Annee\n",
    "        \n",
    "    jour = date[0]\n",
    "    mois = date[1]\n",
    "    annee = date[2]\n",
    "    \n",
    "    print(jour + \" \" + mois_annee[mois][0] + \" \" + annee)"
   ]
  },
  {
   "cell_type": "code",
   "execution_count": 4,
   "id": "901081ec",
   "metadata": {},
   "outputs": [
    {
     "name": "stdout",
     "output_type": "stream",
     "text": [
      "28 septembre 2021\n"
     ]
    }
   ],
   "source": [
    "date : Date\n",
    "date = (\"28\", \"09\", \"2021\")\n",
    "afficheDate(date, mois_annee)"
   ]
  },
  {
   "cell_type": "code",
   "execution_count": 5,
   "id": "3311a230",
   "metadata": {},
   "outputs": [],
   "source": [
    "def dateCorrecte(date : Date, mois_annee : Mois_Annee) -> bool:\n",
    "    estBissextile : bool\n",
    "    \n",
    "    jour = int(date[0])\n",
    "    mois = int(date[1])\n",
    "    annee = int(date[2])\n",
    "    \n",
    "    if (((annee % 4 == 0) and (annee % 100 != 0)) or (annee % 400 == 0)):\n",
    "        estBissextile = True\n",
    "    else:\n",
    "        estBissextile = False\n",
    "        \n",
    "    if (mois == 2):\n",
    "        if estBissextile:\n",
    "            estCorrecte = (jour >= 1) and (jour < 30)\n",
    "        else:\n",
    "            estCorrecte = (jour >= 1) and (jour < 29)\n",
    "    else:\n",
    "        estCorrecte = (jour >= 1) and (jour <= mois_annee[str(mois) if (mois > 9) else \"0\" + str(mois)][1])\n",
    "        \n",
    "    return estCorrecte"
   ]
  },
  {
   "cell_type": "code",
   "execution_count": 6,
   "id": "f790aaf9",
   "metadata": {},
   "outputs": [
    {
     "data": {
      "text/plain": [
       "True"
      ]
     },
     "execution_count": 6,
     "metadata": {},
     "output_type": "execute_result"
    }
   ],
   "source": [
    "date = (\"29\", \"02\", \"2020\")\n",
    "dateCorrecte(date, mois_annee)"
   ]
  },
  {
   "cell_type": "code",
   "execution_count": 7,
   "id": "44022933",
   "metadata": {},
   "outputs": [
    {
     "data": {
      "text/plain": [
       "False"
      ]
     },
     "execution_count": 7,
     "metadata": {},
     "output_type": "execute_result"
    }
   ],
   "source": [
    "date = (\"29\", \"02\", \"2021\")\n",
    "dateCorrecte(date, mois_annee)"
   ]
  },
  {
   "cell_type": "code",
   "execution_count": 8,
   "id": "9a8a6f68-bf9d-497d-af53-853e8153eace",
   "metadata": {},
   "outputs": [
    {
     "data": {
      "text/plain": [
       "False"
      ]
     },
     "execution_count": 8,
     "metadata": {},
     "output_type": "execute_result"
    }
   ],
   "source": [
    "date = (\"31\", \"09\", \"2024\")\n",
    "dateCorrecte(date, mois_annee)"
   ]
  },
  {
   "cell_type": "markdown",
   "id": "94b224e7-5a58-4c2c-b530-7d80e971bb86",
   "metadata": {},
   "source": [
    "**Boucle conditionnelle**"
   ]
  },
  {
   "cell_type": "code",
   "execution_count": 9,
   "id": "3eed00cf-b721-4d53-bab7-2a6fb6fc1e39",
   "metadata": {},
   "outputs": [
    {
     "name": "stdout",
     "output_type": "stream",
     "text": [
      "0\n",
      "1\n",
      "2\n",
      "3\n",
      "4\n",
      "5\n",
      "6\n",
      "7\n",
      "8\n",
      "9\n"
     ]
    }
   ],
   "source": [
    "i = 0\n",
    "while (i < 10): # on itère tant que la condition est vraie !\n",
    "    print(i)\n",
    "    i = i + 1"
   ]
  },
  {
   "cell_type": "code",
   "execution_count": 10,
   "id": "b16714f0",
   "metadata": {},
   "outputs": [],
   "source": [
    "def lireDate(mois_annee : Mois_Annee) -> Date:\n",
    "    date : Date\n",
    "    estCorrecte : bool = False\n",
    "    # estCorrecte = False\n",
    "\n",
    "    # Boucle conditionnelle : on itère tant que la condition est vraie\n",
    "    while (not estCorrecte):\n",
    "    \n",
    "        jour = input(\"Saisissez le jour : \")\n",
    "        mois = input(\"Saisissez le mois : \")\n",
    "        annee = input(\"Saisissez l'année : \")\n",
    "        \n",
    "        date = (jour, mois, annee)\n",
    "        estCorrecte = dateCorrecte(date, mois_annee)\n",
    "        \n",
    "        if estCorrecte:\n",
    "            print(\"Date correcte\")\n",
    "        else:\n",
    "            print(\"Date incorrecte. Recommencez !\")\n",
    "    \n",
    "    return date"
   ]
  },
  {
   "cell_type": "code",
   "execution_count": 12,
   "id": "5d9a7f0c",
   "metadata": {},
   "outputs": [
    {
     "name": "stdout",
     "output_type": "stream",
     "text": [
      "Saisissez le jour :  20\n",
      "Saisissez le mois :  01\n",
      "Saisissez l'année :  2020\n"
     ]
    },
    {
     "name": "stdout",
     "output_type": "stream",
     "text": [
      "Date correcte\n"
     ]
    },
    {
     "data": {
      "text/plain": [
       "('20', '01', '2020')"
      ]
     },
     "execution_count": 12,
     "metadata": {},
     "output_type": "execute_result"
    }
   ],
   "source": [
    "lireDate(mois_annee)"
   ]
  },
  {
   "cell_type": "code",
   "execution_count": 17,
   "id": "fbcd7134",
   "metadata": {},
   "outputs": [],
   "source": [
    "def gt(date1 : Date, date2 : Date) -> bool:\n",
    "    \"\"\"Greater than. Return True iff date1 > date2. Otherwise False.\n",
    "\n",
    "    Keyword arguments:\n",
    "    date1 -- Date\n",
    "    date2 -- Date\n",
    "    \"\"\"\n",
    "    (jour1, mois1, annee1) = date1\n",
    "    (jour2, mois2, annee2) = date2\n",
    "    \n",
    "    if (int(annee1) > int(annee2)):\n",
    "        return True\n",
    "    elif (int(annee1) < int(annee2)):\n",
    "        return False\n",
    "    else:\n",
    "        # annee1 = annee2\n",
    "        if (int(mois1) > int(mois2)):\n",
    "            return True\n",
    "        elif (int(mois1) < int(mois2)):\n",
    "            return False\n",
    "        else:\n",
    "            # mois1 = mois2\n",
    "            if (int(jour1) > int(jour2)):\n",
    "                return True\n",
    "            else:\n",
    "                return False"
   ]
  },
  {
   "cell_type": "code",
   "execution_count": 14,
   "id": "0326a328",
   "metadata": {},
   "outputs": [
    {
     "data": {
      "text/plain": [
       "False"
      ]
     },
     "execution_count": 14,
     "metadata": {},
     "output_type": "execute_result"
    }
   ],
   "source": [
    "gt((\"20\", \"03\", \"2023\"), (\"20\", \"03\", \"2023\"))"
   ]
  },
  {
   "cell_type": "code",
   "execution_count": 15,
   "id": "af342877",
   "metadata": {},
   "outputs": [
    {
     "data": {
      "text/plain": [
       "True"
      ]
     },
     "execution_count": 15,
     "metadata": {},
     "output_type": "execute_result"
    }
   ],
   "source": [
    "gt((\"20\", \"03\", \"2023\"), (\"20\", \"03\", \"2019\"))"
   ]
  },
  {
   "cell_type": "code",
   "execution_count": 16,
   "id": "b9907146",
   "metadata": {},
   "outputs": [
    {
     "data": {
      "text/plain": [
       "True"
      ]
     },
     "execution_count": 16,
     "metadata": {},
     "output_type": "execute_result"
    }
   ],
   "source": [
    "gt((\"21\", \"03\", \"2023\"), (\"20\", \"03\", \"2023\"))"
   ]
  },
  {
   "cell_type": "code",
   "execution_count": 18,
   "id": "3d10ceff",
   "metadata": {},
   "outputs": [
    {
     "data": {
      "text/plain": [
       "True"
      ]
     },
     "execution_count": 18,
     "metadata": {},
     "output_type": "execute_result"
    }
   ],
   "source": [
    "gt((\"21\", \"03\", \"2023\"), (\"20\", \"02\", \"2023\"))"
   ]
  },
  {
   "cell_type": "code",
   "execution_count": 19,
   "id": "a531d355",
   "metadata": {},
   "outputs": [
    {
     "name": "stdout",
     "output_type": "stream",
     "text": [
      "Saisissez le jour :  10\n",
      "Saisissez le mois :  10\n",
      "Saisissez l'année :  2024\n"
     ]
    },
    {
     "name": "stdout",
     "output_type": "stream",
     "text": [
      "Date correcte\n"
     ]
    },
    {
     "name": "stdout",
     "output_type": "stream",
     "text": [
      "Saisissez le jour :  10\n",
      "Saisissez le mois :  07\n",
      "Saisissez l'année :  2024\n"
     ]
    },
    {
     "name": "stdout",
     "output_type": "stream",
     "text": [
      "Date correcte\n",
      "('10', '07', '2024')\n",
      "('10', '10', '2024')\n"
     ]
    }
   ],
   "source": [
    "date1 = lireDate(mois_annee)\n",
    "date2 = lireDate(mois_annee)\n",
    "\n",
    "if gt(date1, date2):\n",
    "    print(date2)\n",
    "    print(date1)\n",
    "else:\n",
    "    print(date1)\n",
    "    print(date2)"
   ]
  },
  {
   "cell_type": "markdown",
   "id": "3b7df430",
   "metadata": {},
   "source": [
    "## Exercice 3 - Relations sur des intervalles d’entiers\n",
    "\n",
    "Q1. Compléter l’implantation du type Intervalle :"
   ]
  },
  {
   "cell_type": "code",
   "execution_count": 22,
   "id": "e00fd019",
   "metadata": {},
   "outputs": [],
   "source": [
    "Intervalle = Tuple[float, float]"
   ]
  },
  {
   "cell_type": "markdown",
   "id": "9bc4bbfe",
   "metadata": {},
   "source": [
    "Soit les fonctions suivantes :\n",
    "\n",
    "- dans(x, i) = vrai si et seulement si 𝑥∈𝑖 avec 𝑖 un intervalle\n",
    "- precede(x, i) = vrai si et seulement si 𝑥 est inférieur à tout $y \\in i$\n",
    "- suit(x, i) = vrai si et seulement si 𝑥 est supérieur à tout $y \\in i$\n",
    "- coteAcote($i_1$, $i_2$) = vrai si et seulement si $i_1$ et $i_2$ sont contigus sans se toucher\n",
    "- chevauche($i_1$, $i_2$) = vrai si et seulement si $i_1$ et $i_2$ n’ont pas de bornes communes, aucun n’est inclus dans l’autre mais ils ont une intersection non vide."
   ]
  },
  {
   "cell_type": "markdown",
   "id": "e8914b36",
   "metadata": {},
   "source": [
    "Q2. Donner un ensemble significatif de jeux d’essais permettant de tester les fonctions precede, dans et suit."
   ]
  },
  {
   "cell_type": "markdown",
   "id": "e8e29639",
   "metadata": {},
   "source": [
    "- precede(-1, (1, 7)) = vrai\n",
    "- precede(1, (1, 7)) = faux\n",
    "- precede(2, (1, 7)) = faux\n",
    "- precede(7, (1, 7)) = faux\n",
    "- precede(7.1, (1, 7)) = faux\n",
    "- dans(-1, (1, 7)) = faux\n",
    "- dans(1, (1, 7)) = vrai\n",
    "- dans(2, (1, 7)) = vrai\n",
    "- dans(7, (1, 7)) = vrai\n",
    "- dans(7.1, (1, 7)) = faux\n",
    "- suit(-1, (1, 7)) = faux\n",
    "- suit(1, (1, 7)) = faux\n",
    "- suit(2, (1, 7)) = faux\n",
    "- suit(7, (1, 7)) = faux\n",
    "- suit(7.1, (1, 7)) = vrai"
   ]
  },
  {
   "cell_type": "markdown",
   "id": "b5be06ef",
   "metadata": {},
   "source": [
    "Q3. Implémenter les fonctions precede, dans, suit."
   ]
  },
  {
   "cell_type": "code",
   "execution_count": 21,
   "id": "fdb35487",
   "metadata": {},
   "outputs": [],
   "source": [
    "def precede(x : float, i : Intervalle) -> bool:\n",
    "    (i1, i2) = i\n",
    "    # i1 = i[0]; i2 = i[1]\n",
    "    return (x < i1) and (x < i2)"
   ]
  },
  {
   "cell_type": "code",
   "execution_count": 27,
   "id": "36c44afa",
   "metadata": {},
   "outputs": [],
   "source": [
    "def dans(x : float, i : Intervalle) -> bool:\n",
    "    # (i1, i2) = i\n",
    "    i1 = i[0]; i2 = i[1]\n",
    "    return (x >= i1) and (x <= i2)"
   ]
  },
  {
   "cell_type": "code",
   "execution_count": 28,
   "id": "5fe0c2e1",
   "metadata": {},
   "outputs": [],
   "source": [
    "def suit(x : float, i : Intervalle) -> bool:\n",
    "    return (not precede(x, i)) and (not dans(x, i))"
   ]
  },
  {
   "cell_type": "markdown",
   "id": "3690d08d",
   "metadata": {},
   "source": [
    "Q4. Tester les trois fonctions avec les jeux d’essai définis plus haut."
   ]
  },
  {
   "cell_type": "code",
   "execution_count": 29,
   "id": "e37d43ff",
   "metadata": {},
   "outputs": [
    {
     "data": {
      "text/plain": [
       "True"
      ]
     },
     "execution_count": 29,
     "metadata": {},
     "output_type": "execute_result"
    }
   ],
   "source": [
    "precede(-1, (1, 7))"
   ]
  },
  {
   "cell_type": "code",
   "execution_count": 30,
   "id": "26e3b062",
   "metadata": {},
   "outputs": [
    {
     "data": {
      "text/plain": [
       "False"
      ]
     },
     "execution_count": 30,
     "metadata": {},
     "output_type": "execute_result"
    }
   ],
   "source": [
    "precede(7, (1, 7))"
   ]
  },
  {
   "cell_type": "code",
   "execution_count": 31,
   "id": "6ae63027",
   "metadata": {},
   "outputs": [
    {
     "data": {
      "text/plain": [
       "False"
      ]
     },
     "execution_count": 31,
     "metadata": {},
     "output_type": "execute_result"
    }
   ],
   "source": [
    "dans(7.1, (1, 7))"
   ]
  },
  {
   "cell_type": "code",
   "execution_count": 32,
   "id": "87dc9a30",
   "metadata": {
    "scrolled": true
   },
   "outputs": [
    {
     "data": {
      "text/plain": [
       "False"
      ]
     },
     "execution_count": 32,
     "metadata": {},
     "output_type": "execute_result"
    }
   ],
   "source": [
    "suit(7, (1, 7))"
   ]
  },
  {
   "cell_type": "code",
   "execution_count": 33,
   "id": "6728cb71",
   "metadata": {},
   "outputs": [
    {
     "data": {
      "text/plain": [
       "True"
      ]
     },
     "execution_count": 33,
     "metadata": {},
     "output_type": "execute_result"
    }
   ],
   "source": [
    "suit(7.1, (1, 7))"
   ]
  },
  {
   "cell_type": "markdown",
   "id": "689cd361",
   "metadata": {},
   "source": [
    "Q5. Donner un ensemble significatif de jeux d’essai permettant de tester les fonctions coteAcote et chevauche"
   ]
  },
  {
   "cell_type": "markdown",
   "id": "10f8c037-3a6e-4b1f-a234-00a422799f3d",
   "metadata": {},
   "source": [
    "coteAcote((1, 7),(8, 12)) = vrai"
   ]
  },
  {
   "cell_type": "markdown",
   "id": "9c6d6eda-51fa-4c5f-a5b1-9ca35d09def3",
   "metadata": {},
   "source": [
    "coteAcote((8, 12), (14, 15)) = vrai"
   ]
  },
  {
   "cell_type": "markdown",
   "id": "6c470e6b-9370-42ea-8cbc-74c479606f0e",
   "metadata": {},
   "source": [
    "coteAcote((1, 9),(8, 12)) = faux"
   ]
  },
  {
   "cell_type": "markdown",
   "id": "c2f2b33b-f9b0-4dac-9ed1-47abe1876371",
   "metadata": {},
   "source": [
    "chevauche((1, 9),(8, 12)) = vrai"
   ]
  },
  {
   "cell_type": "markdown",
   "id": "0c5c65b9-3866-411e-a03d-0de648d14bab",
   "metadata": {},
   "source": [
    "chevauche((8, 9), (7, 9)) = vrai"
   ]
  },
  {
   "cell_type": "markdown",
   "id": "f1eebbbd-006d-4318-ac05-bb9257514038",
   "metadata": {},
   "source": [
    "chevauche((1, 7),(8, 12)) = faux"
   ]
  },
  {
   "cell_type": "markdown",
   "id": "0364d106",
   "metadata": {},
   "source": [
    "Q6. Implémenter les deux fonctions et les tester."
   ]
  },
  {
   "cell_type": "code",
   "execution_count": 36,
   "id": "13aaee68",
   "metadata": {},
   "outputs": [],
   "source": [
    "def coteAcote(i1 : Intervalle, i2 : Intervalle) -> bool:\n",
    "    (x1, x2) = i1\n",
    "    (y1, y2) = i2\n",
    "    return precede(x2, i2) or suit(x1, i2)"
   ]
  },
  {
   "cell_type": "code",
   "execution_count": null,
   "id": "4d039d66-e241-4d2e-a98a-e1f62f39d6fb",
   "metadata": {},
   "outputs": [],
   "source": [
    "def chevauche(i1 : Intervalle, i2 : Intervalle) -> bool:\n",
    "\n",
    "    return not(coteAcote(i1, i2)) and i1[0]!= i2[1]"
   ]
  },
  {
   "cell_type": "code",
   "execution_count": 39,
   "id": "96e5203e-701d-447e-a9f3-a0706290bd72",
   "metadata": {},
   "outputs": [
    {
     "data": {
      "text/plain": [
       "True"
      ]
     },
     "execution_count": 39,
     "metadata": {},
     "output_type": "execute_result"
    }
   ],
   "source": [
    "coteAcote((1, 7),(8, 12))"
   ]
  },
  {
   "cell_type": "code",
   "execution_count": 40,
   "id": "13bb3294-6fab-4edf-8b8b-9d6421aba8d2",
   "metadata": {},
   "outputs": [
    {
     "data": {
      "text/plain": [
       "True"
      ]
     },
     "execution_count": 40,
     "metadata": {},
     "output_type": "execute_result"
    }
   ],
   "source": [
    "coteAcote((8, 12), (14, 15))"
   ]
  },
  {
   "cell_type": "code",
   "execution_count": 41,
   "id": "d7ab934f-caf9-41c6-a1aa-7cb4bda81429",
   "metadata": {},
   "outputs": [
    {
     "data": {
      "text/plain": [
       "False"
      ]
     },
     "execution_count": 41,
     "metadata": {},
     "output_type": "execute_result"
    }
   ],
   "source": [
    "coteAcote((1, 9),(8, 12))"
   ]
  },
  {
   "cell_type": "code",
   "execution_count": 42,
   "id": "87f95336-b36b-4846-ace1-b2833491ec69",
   "metadata": {},
   "outputs": [
    {
     "data": {
      "text/plain": [
       "True"
      ]
     },
     "execution_count": 42,
     "metadata": {},
     "output_type": "execute_result"
    }
   ],
   "source": [
    "chevauche((1, 9),(8, 12))"
   ]
  },
  {
   "cell_type": "code",
   "execution_count": 43,
   "id": "09413210-97ea-4fee-a23f-f7c349c848d0",
   "metadata": {},
   "outputs": [
    {
     "data": {
      "text/plain": [
       "True"
      ]
     },
     "execution_count": 43,
     "metadata": {},
     "output_type": "execute_result"
    }
   ],
   "source": [
    "chevauche((8, 9), (7, 9)) "
   ]
  },
  {
   "cell_type": "code",
   "execution_count": 44,
   "id": "1455c0c1-439e-4330-abf4-c32d4fe1f105",
   "metadata": {},
   "outputs": [
    {
     "data": {
      "text/plain": [
       "False"
      ]
     },
     "execution_count": 44,
     "metadata": {},
     "output_type": "execute_result"
    }
   ],
   "source": [
    "chevauche((1, 7),(8, 12))"
   ]
  },
  {
   "cell_type": "code",
   "execution_count": null,
   "id": "43f47451-a374-40bd-a2f2-49e30c104973",
   "metadata": {},
   "outputs": [],
   "source": []
  }
 ],
 "metadata": {
  "kernelspec": {
   "display_name": "Python 3 (ipykernel)",
   "language": "python",
   "name": "python3"
  },
  "language_info": {
   "codemirror_mode": {
    "name": "ipython",
    "version": 3
   },
   "file_extension": ".py",
   "mimetype": "text/x-python",
   "name": "python",
   "nbconvert_exporter": "python",
   "pygments_lexer": "ipython3",
   "version": "3.11.7"
  },
  "latex_envs": {
   "LaTeX_envs_menu_present": true,
   "autoclose": false,
   "autocomplete": true,
   "bibliofile": "biblio.bib",
   "cite_by": "apalike",
   "current_citInitial": 1,
   "eqLabelWithNumbers": true,
   "eqNumInitial": 1,
   "hotkeys": {
    "equation": "Ctrl-E",
    "itemize": "Ctrl-I"
   },
   "labels_anchors": false,
   "latex_user_defs": false,
   "report_style_numbering": false,
   "user_envs_cfg": false
  }
 },
 "nbformat": 4,
 "nbformat_minor": 5
}
