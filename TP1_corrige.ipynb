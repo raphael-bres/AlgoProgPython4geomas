{
 "cells": [
  {
   "cell_type": "markdown",
   "id": "9511dd17",
   "metadata": {},
   "source": [
    "# Premiers pas avec le langage Python\n",
    "\n",
    "Pour commencer, nous utiliserons ce tutoriel : https://rgilliotte.gitbook.io/byte-of-python/\n",
    "\n",
    "Un autre livre à étudier est https://greenteapress.com/thinkpython2/thinkpython2.pdf"
   ]
  },
  {
   "cell_type": "markdown",
   "id": "236f47a3-e2f5-4915-999c-2728fdea15a4",
   "metadata": {},
   "source": [
    "Commande d'instalation du type checker : python3 -m pip install nb_mypy ou bien..."
   ]
  },
  {
   "cell_type": "code",
   "execution_count": 1,
   "id": "82934865-0979-4f2a-9ee7-01944b79aba4",
   "metadata": {},
   "outputs": [
    {
     "name": "stdout",
     "output_type": "stream",
     "text": [
      "Collecting nb_mypy\n",
      "  Using cached nb_mypy-1.0.5-py3-none-any.whl\n",
      "Collecting astor<1,>=0.8 (from nb_mypy)\n",
      "  Using cached astor-0.8.1-py2.py3-none-any.whl.metadata (4.2 kB)\n",
      "Collecting mypy<2,>=1 (from nb_mypy)\n",
      "  Using cached mypy-1.11.2-cp311-cp311-manylinux_2_17_x86_64.manylinux2014_x86_64.manylinux_2_28_x86_64.whl.metadata (1.9 kB)\n",
      "Requirement already satisfied: ipython<9,>=8.0 in /opt/conda/lib/python3.11/site-packages (from nb_mypy) (8.27.0)\n",
      "Requirement already satisfied: decorator in /opt/conda/lib/python3.11/site-packages (from ipython<9,>=8.0->nb_mypy) (5.1.1)\n",
      "Requirement already satisfied: jedi>=0.16 in /opt/conda/lib/python3.11/site-packages (from ipython<9,>=8.0->nb_mypy) (0.19.1)\n",
      "Requirement already satisfied: matplotlib-inline in /opt/conda/lib/python3.11/site-packages (from ipython<9,>=8.0->nb_mypy) (0.1.7)\n",
      "Requirement already satisfied: prompt-toolkit<3.1.0,>=3.0.41 in /opt/conda/lib/python3.11/site-packages (from ipython<9,>=8.0->nb_mypy) (3.0.47)\n",
      "Requirement already satisfied: pygments>=2.4.0 in /opt/conda/lib/python3.11/site-packages (from ipython<9,>=8.0->nb_mypy) (2.18.0)\n",
      "Requirement already satisfied: stack-data in /opt/conda/lib/python3.11/site-packages (from ipython<9,>=8.0->nb_mypy) (0.6.2)\n",
      "Requirement already satisfied: traitlets>=5.13.0 in /opt/conda/lib/python3.11/site-packages (from ipython<9,>=8.0->nb_mypy) (5.14.3)\n",
      "Requirement already satisfied: typing-extensions>=4.6 in /opt/conda/lib/python3.11/site-packages (from ipython<9,>=8.0->nb_mypy) (4.12.2)\n",
      "Requirement already satisfied: pexpect>4.3 in /opt/conda/lib/python3.11/site-packages (from ipython<9,>=8.0->nb_mypy) (4.9.0)\n",
      "Collecting mypy-extensions>=1.0.0 (from mypy<2,>=1->nb_mypy)\n",
      "  Using cached mypy_extensions-1.0.0-py3-none-any.whl.metadata (1.1 kB)\n",
      "Requirement already satisfied: parso<0.9.0,>=0.8.3 in /opt/conda/lib/python3.11/site-packages (from jedi>=0.16->ipython<9,>=8.0->nb_mypy) (0.8.4)\n",
      "Requirement already satisfied: ptyprocess>=0.5 in /opt/conda/lib/python3.11/site-packages (from pexpect>4.3->ipython<9,>=8.0->nb_mypy) (0.7.0)\n",
      "Requirement already satisfied: wcwidth in /opt/conda/lib/python3.11/site-packages (from prompt-toolkit<3.1.0,>=3.0.41->ipython<9,>=8.0->nb_mypy) (0.2.13)\n",
      "Requirement already satisfied: executing>=1.2.0 in /opt/conda/lib/python3.11/site-packages (from stack-data->ipython<9,>=8.0->nb_mypy) (2.1.0)\n",
      "Requirement already satisfied: asttokens>=2.1.0 in /opt/conda/lib/python3.11/site-packages (from stack-data->ipython<9,>=8.0->nb_mypy) (2.4.1)\n",
      "Requirement already satisfied: pure-eval in /opt/conda/lib/python3.11/site-packages (from stack-data->ipython<9,>=8.0->nb_mypy) (0.2.3)\n",
      "Requirement already satisfied: six>=1.12.0 in /opt/conda/lib/python3.11/site-packages (from asttokens>=2.1.0->stack-data->ipython<9,>=8.0->nb_mypy) (1.16.0)\n",
      "Using cached astor-0.8.1-py2.py3-none-any.whl (27 kB)\n",
      "Using cached mypy-1.11.2-cp311-cp311-manylinux_2_17_x86_64.manylinux2014_x86_64.manylinux_2_28_x86_64.whl (12.4 MB)\n",
      "Using cached mypy_extensions-1.0.0-py3-none-any.whl (4.7 kB)\n",
      "Installing collected packages: mypy-extensions, astor, mypy, nb_mypy\n",
      "Successfully installed astor-0.8.1 mypy-1.11.2 mypy-extensions-1.0.0 nb_mypy-1.0.5\n"
     ]
    }
   ],
   "source": [
    "!python3 -m pip install nb_mypy"
   ]
  },
  {
   "cell_type": "code",
   "execution_count": 12,
   "id": "68a793a5",
   "metadata": {},
   "outputs": [
    {
     "name": "stderr",
     "output_type": "stream",
     "text": [
      "Version 1.0.5\n"
     ]
    }
   ],
   "source": [
    "%load_ext nb_mypy"
   ]
  },
  {
   "cell_type": "markdown",
   "id": "55b499e6",
   "metadata": {},
   "source": [
    "## Exercice 1 : Moyenne olympique\n",
    "\n",
    "La moyenne olympique de $n$ nombres est la moyenne des $n-2$ nombres restant après avoir enlevé deux des nombres donnés, l’un ayant la valeur maximum et l’autre la valeur minimum. Décrire une fonction qui étant donnés quatre entiers positifs ou nuls, leur associe leur moyenne olympique. Par exemple, la moyenne olympique des quatre nombres 10, 8, 12, 24 est 11, celle des nombres 12, 12, 12, 12 est 12.  \n",
    "\n",
    "{spécification des fonctions}  \n",
    "mo : fonction (u, v, w, x : entiers $\\geq$ 0) $\\rightarrow$ réel $\\geq$ 0 {moyenne olympique de 4 nombres}  \n",
    "minquatre : fonction (i, j, k, l : entiers $\\geq$ 0) $\\rightarrow$ entier $\\geq$ 0 {minimum de 4 nombres}  \n",
    "maxquatre : fonction (i, j, k, l : entiers $\\geq$ 0) $\\rightarrow$ entier $\\geq$ 0 {maximum de 4 nombres}  \n",
    "maxdeux, mindeux : fonction (a,b : deux entiers $\\geq$ 0) $\\rightarrow$ entier $\\geq$ 0 {maximum et minimum de 2 nombres}"
   ]
  },
  {
   "cell_type": "code",
   "execution_count": 3,
   "id": "519f9f47",
   "metadata": {},
   "outputs": [],
   "source": [
    "def maxdeux(a: int, b : int) -> int:\n",
    "    return (a if (a > b) else b)"
   ]
  },
  {
   "cell_type": "code",
   "execution_count": 4,
   "id": "5a3c0e3d",
   "metadata": {},
   "outputs": [
    {
     "data": {
      "text/plain": [
       "5"
      ]
     },
     "execution_count": 4,
     "metadata": {},
     "output_type": "execute_result"
    }
   ],
   "source": [
    "maxdeux(5, -6)"
   ]
  },
  {
   "cell_type": "code",
   "execution_count": 5,
   "id": "fef95359-2ee0-45dc-80f0-dd104cb93b6f",
   "metadata": {},
   "outputs": [
    {
     "data": {
      "text/plain": [
       "56"
      ]
     },
     "execution_count": 5,
     "metadata": {},
     "output_type": "execute_result"
    }
   ],
   "source": [
    "maxdeux(56, 8)"
   ]
  },
  {
   "cell_type": "code",
   "execution_count": 14,
   "id": "505123cf",
   "metadata": {},
   "outputs": [
    {
     "data": {
      "text/plain": [
       "-4"
      ]
     },
     "execution_count": 14,
     "metadata": {},
     "output_type": "execute_result"
    }
   ],
   "source": [
    "maxdeux(-4, -12)"
   ]
  },
  {
   "cell_type": "code",
   "execution_count": 10,
   "id": "e598ffba",
   "metadata": {},
   "outputs": [],
   "source": [
    "def mindeux(a : int, b : int) -> int:\n",
    "    resultat : int\n",
    "    resultat = (b if (a > b) else a)\n",
    "    return resultat"
   ]
  },
  {
   "cell_type": "code",
   "execution_count": 7,
   "id": "c23f4fc8",
   "metadata": {},
   "outputs": [
    {
     "data": {
      "text/plain": [
       "-5"
      ]
     },
     "execution_count": 7,
     "metadata": {},
     "output_type": "execute_result"
    }
   ],
   "source": [
    "mindeux(-5, 7)"
   ]
  },
  {
   "cell_type": "code",
   "execution_count": 11,
   "id": "77b8d30a",
   "metadata": {},
   "outputs": [],
   "source": [
    "def maxquatre(i : int, j : int, k : int, l : int) -> int:\n",
    "    return maxdeux (maxdeux (maxdeux(i,j), k), l)"
   ]
  },
  {
   "cell_type": "code",
   "execution_count": 12,
   "id": "f99a598e",
   "metadata": {},
   "outputs": [
    {
     "data": {
      "text/plain": [
       "4"
      ]
     },
     "execution_count": 12,
     "metadata": {},
     "output_type": "execute_result"
    }
   ],
   "source": [
    "maxquatre(2, 4, -1, 0)"
   ]
  },
  {
   "cell_type": "code",
   "execution_count": 15,
   "id": "d20617f8-14c1-4107-b718-f2f449567766",
   "metadata": {},
   "outputs": [
    {
     "data": {
      "text/plain": [
       "8"
      ]
     },
     "execution_count": 15,
     "metadata": {},
     "output_type": "execute_result"
    }
   ],
   "source": [
    "maxquatre(3, maxquatre(5, 7, 0, 0), 1, maxdeux(8, 6))"
   ]
  },
  {
   "cell_type": "code",
   "execution_count": 17,
   "id": "3e934d1a",
   "metadata": {},
   "outputs": [],
   "source": [
    "def minquatre(i : int, j : int, k : int, l : int) -> int:\n",
    "    return mindeux (mindeux (mindeux(i,j), k), l)\n",
    "\n",
    "def mo(u : int, v : int, w : int, x : int) -> float:\n",
    "    return (u+v+w+x - minquatre(u,v,w,x) - maxquatre(u,v,w,x)) / 2"
   ]
  },
  {
   "cell_type": "code",
   "execution_count": 18,
   "id": "89811843",
   "metadata": {},
   "outputs": [
    {
     "data": {
      "text/plain": [
       "11.0"
      ]
     },
     "execution_count": 18,
     "metadata": {},
     "output_type": "execute_result"
    }
   ],
   "source": [
    "mo(10, 8, 12, 24)"
   ]
  },
  {
   "cell_type": "code",
   "execution_count": 19,
   "id": "93c87b62-cc6b-4e6e-8167-d9cbf63fc6ba",
   "metadata": {},
   "outputs": [
    {
     "data": {
      "text/plain": [
       "12.0"
      ]
     },
     "execution_count": 19,
     "metadata": {},
     "output_type": "execute_result"
    }
   ],
   "source": [
    "mo(12, 12, 12, 12)"
   ]
  },
  {
   "cell_type": "code",
   "execution_count": 20,
   "id": "b55931e3-1121-4b0c-9cbb-5c6d45581103",
   "metadata": {},
   "outputs": [
    {
     "name": "stderr",
     "output_type": "stream",
     "text": [
      "<cell>1: \u001b[1m\u001b[31merror:\u001b[m Too many arguments for \u001b[m\u001b[1m\"mo\"\u001b[m  \u001b[m\u001b[33m[call-arg]\u001b[m\n"
     ]
    },
    {
     "ename": "TypeError",
     "evalue": "mo() takes 4 positional arguments but 5 were given",
     "output_type": "error",
     "traceback": [
      "\u001b[0;31m---------------------------------------------------------------------------\u001b[0m",
      "\u001b[0;31mTypeError\u001b[0m                                 Traceback (most recent call last)",
      "Cell \u001b[0;32mIn[20], line 1\u001b[0m\n\u001b[0;32m----> 1\u001b[0m \u001b[43mmo\u001b[49m\u001b[43m(\u001b[49m\u001b[38;5;241;43m12\u001b[39;49m\u001b[43m,\u001b[49m\u001b[43m \u001b[49m\u001b[38;5;241;43m12\u001b[39;49m\u001b[43m,\u001b[49m\u001b[43m \u001b[49m\u001b[38;5;241;43m12\u001b[39;49m\u001b[43m,\u001b[49m\u001b[43m \u001b[49m\u001b[38;5;241;43m12\u001b[39;49m\u001b[43m,\u001b[49m\u001b[43m \u001b[49m\u001b[38;5;241;43m12\u001b[39;49m\u001b[43m)\u001b[49m\n",
      "\u001b[0;31mTypeError\u001b[0m: mo() takes 4 positional arguments but 5 were given"
     ]
    }
   ],
   "source": [
    "mo(12, 12, 12, 12, 12)"
   ]
  },
  {
   "cell_type": "markdown",
   "id": "f11d8036",
   "metadata": {},
   "source": [
    "## Exercice 2 : Maximum de trois entiers"
   ]
  },
  {
   "cell_type": "markdown",
   "id": "fed2e22d",
   "metadata": {},
   "source": [
    "Décrire une fonction qui détermine le maximum de trois entiers distincts deux à deux. Il n'y a pas de \"selon\" en Python.  \n",
    "\n",
    "Maxtrois : fonction (a, b, c : entiers) $\\rightarrow$ entier {maximum de 3 nombres distincts deux à deux}"
   ]
  },
  {
   "cell_type": "code",
   "execution_count": 2,
   "id": "c78f30e9",
   "metadata": {},
   "outputs": [],
   "source": [
    "def maxtrois(a : int, b : int, c : int) -> int:\n",
    "    if (a > b):\n",
    "        if (a > c):\n",
    "            return a\n",
    "        else:\n",
    "            # {a < c} blablabla... ceci est un commentaire !\n",
    "            return c \n",
    "    # {a < b}\n",
    "    else: \n",
    "        if (b > c): \n",
    "            return b \n",
    "        # {b < c}\n",
    "        else:\n",
    "            return c"
   ]
  },
  {
   "cell_type": "code",
   "execution_count": 3,
   "id": "e60c0271",
   "metadata": {},
   "outputs": [
    {
     "data": {
      "text/plain": [
       "45"
      ]
     },
     "execution_count": 3,
     "metadata": {},
     "output_type": "execute_result"
    }
   ],
   "source": [
    "maxtrois(1, 45, -6)"
   ]
  },
  {
   "cell_type": "code",
   "execution_count": 23,
   "id": "73411d4a",
   "metadata": {},
   "outputs": [],
   "source": [
    "def maxthree(a : int, b : int, c : int) -> int:\n",
    "    return maxdeux(maxdeux(a, b), c)"
   ]
  },
  {
   "cell_type": "code",
   "execution_count": 24,
   "id": "a15b6087",
   "metadata": {},
   "outputs": [
    {
     "data": {
      "text/plain": [
       "6"
      ]
     },
     "execution_count": 24,
     "metadata": {},
     "output_type": "execute_result"
    }
   ],
   "source": [
    "maxtrois(3, 5, 6)"
   ]
  },
  {
   "cell_type": "markdown",
   "id": "995f5b6c",
   "metadata": {},
   "source": [
    "## Exercice 3 : Somme des chiffres d’un nombre"
   ]
  },
  {
   "cell_type": "markdown",
   "id": "3e786acb",
   "metadata": {},
   "source": [
    "Décrire une fonction qui à un entier compris entre 0 et 9999 associe la somme des chiffres qui le composent dans sa représentation en base 10. Exemple : donnée 9639, résultat : 27."
   ]
  },
  {
   "cell_type": "markdown",
   "id": "e65fc096",
   "metadata": {},
   "source": [
    "Les chiffres formant l’entier donné peuvent être déterminés à l’aide de divisions par 10. On introduit une fonction qui à deux nombres associe le quotient et le reste de leur division :"
   ]
  },
  {
   "cell_type": "code",
   "execution_count": 5,
   "id": "0c102bd0",
   "metadata": {},
   "outputs": [],
   "source": [
    "from typing import Tuple\n",
    "\n",
    "def QR(n : int, d : int) -> Tuple[int, int]:\n",
    "    return (n // d, n % d)"
   ]
  },
  {
   "cell_type": "code",
   "execution_count": 6,
   "id": "bc0d46be",
   "metadata": {},
   "outputs": [],
   "source": [
    "def SC(x : int) -> int:\n",
    "    (q1, c0) = QR (x, 10)\n",
    "    (q2, c1) = QR (q1, 10)\n",
    "    (c3, c2) = QR (q2, 10)\n",
    "    return c0 + c1 + c2 + c3"
   ]
  },
  {
   "cell_type": "code",
   "execution_count": 7,
   "id": "331c6d80",
   "metadata": {},
   "outputs": [
    {
     "data": {
      "text/plain": [
       "27"
      ]
     },
     "execution_count": 7,
     "metadata": {},
     "output_type": "execute_result"
    }
   ],
   "source": [
    "SC(9639)"
   ]
  },
  {
   "cell_type": "code",
   "execution_count": 8,
   "id": "541e1a63-cbba-4d4f-9151-82eb1b7b70dd",
   "metadata": {},
   "outputs": [
    {
     "data": {
      "text/plain": [
       "(963, 9)"
      ]
     },
     "execution_count": 8,
     "metadata": {},
     "output_type": "execute_result"
    }
   ],
   "source": [
    "QR(9639, 10)"
   ]
  },
  {
   "cell_type": "code",
   "execution_count": 9,
   "id": "76fffc8f-9a41-48f6-94d4-b63261a2adc0",
   "metadata": {},
   "outputs": [
    {
     "data": {
      "text/plain": [
       "(96, 3)"
      ]
     },
     "execution_count": 9,
     "metadata": {},
     "output_type": "execute_result"
    }
   ],
   "source": [
    "QR(963, 10)"
   ]
  },
  {
   "cell_type": "code",
   "execution_count": 10,
   "id": "781b3599-c4a9-45f9-8687-e30882557b5d",
   "metadata": {},
   "outputs": [
    {
     "data": {
      "text/plain": [
       "(9, 6)"
      ]
     },
     "execution_count": 10,
     "metadata": {},
     "output_type": "execute_result"
    }
   ],
   "source": [
    "QR(96, 10)"
   ]
  },
  {
   "cell_type": "markdown",
   "id": "ec2adc51",
   "metadata": {},
   "source": [
    "## Exercice 4 : signe du produit"
   ]
  },
  {
   "cell_type": "markdown",
   "id": "b011c871",
   "metadata": {},
   "source": [
    "On donne ci-dessous un algorithme qui lit au clavier deux entiers $x$ et $y$ et qui affiche à l'écran un message indiquant le signe du produit $x \\times y$ sans calculer ce produit."
   ]
  },
  {
   "cell_type": "markdown",
   "id": "85d71b9a",
   "metadata": {},
   "source": [
    "**Signe du produit :**  \n",
    "x, y : entiers  \n",
    "    \n",
    "lire(x) ; lire(y)  \n",
    "si (((x > 0) et (y > 0)) ou ((x < 0) et (y < 0)))  \n",
    "&nbsp;&nbsp;&nbsp;&nbsp;alors ecrire (”le produit de” & LeTexteE(x) & ”et” & LeTexteE(y) & ”est strictement positif”) sinon si ((x = 0) ou (y  = 0))  \n",
    "&nbsp;&nbsp;&nbsp;&nbsp;alors ecrire (”le produit de” & LeTexteE(x) & ”et” & LeTexteE(y) & ”est nul”)  \n",
    "&nbsp;&nbsp;&nbsp;&nbsp;sinon ecrire (”le produit de” & LeTexteE(x) & ”et” & LeTexteE(y) & ”est strictement négatif”)"
   ]
  },
  {
   "cell_type": "code",
   "execution_count": 16,
   "id": "5a08ad6d",
   "metadata": {},
   "outputs": [],
   "source": [
    "def sdp() -> None:\n",
    "    \n",
    "    x = int(input('Saisissez un entier x : '))\n",
    "    y = int(input('Saisissez un entier y : '))\n",
    "    \n",
    "    if (((x > 0) and (y > 0)) or ((x < 0) and (y < 0))):\n",
    "        print('le produit de ' + str(x) + ' et ' + str(y) + ' est strictement positif')   \n",
    "    \n",
    "    # elif permet imbriquer plusieurs si ... alors ... sinon ...\n",
    "    elif ((x == 0) or (y == 0)):\n",
    "        print(\"le produit de \" + str(x) + \" et \" + str(y) + \" est strictement nul\")\n",
    "    else:\n",
    "        print(\"le produit de \" + str(x) + \" et \" + str(y) + \" est strictement négatif\")  "
   ]
  },
  {
   "cell_type": "code",
   "execution_count": 18,
   "id": "6da9e580",
   "metadata": {},
   "outputs": [
    {
     "name": "stdin",
     "output_type": "stream",
     "text": [
      "Saisissez un entier x :  7\n",
      "Saisissez un entier y :  8\n"
     ]
    },
    {
     "name": "stdout",
     "output_type": "stream",
     "text": [
      "le produit de 7 et 8 est strictement positif\n"
     ]
    }
   ],
   "source": [
    "sdp()"
   ]
  },
  {
   "cell_type": "code",
   "execution_count": 22,
   "id": "2a945172-b842-4416-ac99-13be048557a1",
   "metadata": {},
   "outputs": [],
   "source": [
    "def sdp() -> None:\n",
    "    \n",
    "    x = int(input('Saisissez un entier x : '))\n",
    "    y = int(input('Saisissez un entier y : '))\n",
    "    \n",
    "    if (((x > 0) and (y > 0)) or ((x < 0) and (y < 0))):\n",
    "        print('le produit de ' + str(x) + ' et ' + str(y) + ' est strictement positif')   \n",
    "        if ((x == 0) or (y == 0)):\n",
    "            print(\"le produit de \" + str(x) + \" et \" + str(y) + \" est strictement nul\")\n",
    "    else:\n",
    "            print(\"le produit de \" + str(x) + \" et \" + str(y) + \" est strictement négatif\")  "
   ]
  },
  {
   "cell_type": "code",
   "execution_count": 23,
   "id": "b0273872-f53b-4d14-a021-a08ad9760008",
   "metadata": {},
   "outputs": [
    {
     "name": "stdin",
     "output_type": "stream",
     "text": [
      "Saisissez un entier x :  -6\n",
      "Saisissez un entier y :  6\n"
     ]
    },
    {
     "name": "stdout",
     "output_type": "stream",
     "text": [
      "le produit de -6 et 6 est strictement négatif\n"
     ]
    }
   ],
   "source": [
    "sdp()"
   ]
  },
  {
   "cell_type": "markdown",
   "id": "9cc913fe",
   "metadata": {},
   "source": [
    "## Exercice 5 - classement de trois valeurs"
   ]
  },
  {
   "cell_type": "markdown",
   "id": "ba7977ad",
   "metadata": {},
   "source": [
    "On souhaite écrire un programme qui lit trois entiers au clavier et les affiche à l'écran en ordre croissant (du plus petit au plus grand)."
   ]
  },
  {
   "cell_type": "code",
   "execution_count": 32,
   "id": "ed6c8e2b",
   "metadata": {},
   "outputs": [],
   "source": [
    "def classer3V() -> None:\n",
    "    a = int(input('Saisissez un entier a : '))\n",
    "    b = int(input('Saisissez un entier b : '))\n",
    "    c = int(input('Saisissez un entier c : '))\n",
    "    \n",
    "    x = maxtrois(a, b, c)\n",
    "    # a est le plus grand\n",
    "    if (x == a):\n",
    "        y = maxdeux(b, c)\n",
    "        if (y == b):\n",
    "            print(str(a) + \" > \" + str(b) + \" > \" + str(c))\n",
    "        else:\n",
    "            print(str(a) + \" > \" + str(c) + \" > \" + str(b))\n",
    "    # b est le plus grand\n",
    "    elif (x == b):\n",
    "        y = maxdeux(a, c)\n",
    "        if (y == a):\n",
    "            print(str(b) + \" > \" + str(a) + \" > \" + str(c))\n",
    "        else:\n",
    "            print(str(b) + \" > \" + str(c) + \" > \" + str(a))\n",
    "    # c est le plus grand\n",
    "    else:\n",
    "        y = maxdeux(a, b)\n",
    "        if (y == a):\n",
    "            print(str(c) + \" > \" + str(a) + \" > \" + str(b))\n",
    "        else:\n",
    "            print(str(c) + \" > \" + str(b) + \" > \" + str(a))"
   ]
  },
  {
   "cell_type": "code",
   "execution_count": 33,
   "id": "b31d40aa",
   "metadata": {},
   "outputs": [
    {
     "name": "stdout",
     "output_type": "stream",
     "text": [
      "Saisissez un entier a : 6\n",
      "Saisissez un entier b : -8\n",
      "Saisissez un entier c : 9\n",
      "9 > 6 > -8\n"
     ]
    }
   ],
   "source": [
    "classer3V()"
   ]
  },
  {
   "cell_type": "markdown",
   "id": "337e50bf",
   "metadata": {},
   "source": [
    "## Exercice 6 - Puissance"
   ]
  },
  {
   "cell_type": "markdown",
   "id": "7c332ae9",
   "metadata": {},
   "source": [
    "On donne ci-dessous un algorithme qui lit au clavier deux entiers (positifs) x et y et affiche la valeur de $x^y$ :"
   ]
  },
  {
   "cell_type": "markdown",
   "id": "b6b2a9c3",
   "metadata": {},
   "source": [
    "**Puissance :**  \n",
    "x, y : entiers  \n",
    "p : un entier $\\geq$ 0 {valeur courante de $x^y$}  \n",
    "\n",
    "lire(x) ; lire(y)  \n",
    "p $\\leftarrow$ 1  \n",
    "i parcourant [1..y]  \n",
    "&nbsp;&nbsp;&nbsp;&nbsp;p $\\leftarrow$ p * x  \n",
    "ecrire(p)"
   ]
  },
  {
   "cell_type": "markdown",
   "id": "6a38fcc0-c755-494b-8992-a5b87afbafe8",
   "metadata": {},
   "source": [
    "**Boucle inconditionnelle** \"for\":"
   ]
  },
  {
   "cell_type": "code",
   "execution_count": 1,
   "id": "4657af83",
   "metadata": {},
   "outputs": [],
   "source": [
    "def puissance() -> None:\n",
    "    x = int(input('Saisissez un entier x : '))\n",
    "    y = int(input('Saisissez un entier y : '))\n",
    "    p = 1\n",
    "    for i in range(0, y): # i prend les valeurs de 0 à y - 1\n",
    "        p = p * x\n",
    "        print(\"valeur de p = \" + str(p))\n",
    "        print(\"valeur de i = \" + str(i))\n",
    "    print(str(x) + \" puissance \" + str(y) + \" = \" + str(p))"
   ]
  },
  {
   "cell_type": "code",
   "execution_count": 2,
   "id": "830cf281",
   "metadata": {},
   "outputs": [
    {
     "name": "stdin",
     "output_type": "stream",
     "text": [
      "Saisissez un entier x :  2\n",
      "Saisissez un entier y :  3\n"
     ]
    },
    {
     "name": "stdout",
     "output_type": "stream",
     "text": [
      "valeur de p = 2\n",
      "valeur de i = 0\n",
      "valeur de p = 4\n",
      "valeur de i = 1\n",
      "valeur de p = 8\n",
      "valeur de i = 2\n",
      "2 puissance 3 = 8\n"
     ]
    }
   ],
   "source": [
    "puissance()"
   ]
  },
  {
   "cell_type": "code",
   "execution_count": 3,
   "id": "7fa379a4-56f4-46f6-bfa5-465d8dcf21be",
   "metadata": {},
   "outputs": [
    {
     "data": {
      "text/plain": [
       "8"
      ]
     },
     "execution_count": 3,
     "metadata": {},
     "output_type": "execute_result"
    }
   ],
   "source": [
    "2 ** 3"
   ]
  },
  {
   "cell_type": "markdown",
   "id": "3ad46d78",
   "metadata": {},
   "source": [
    "## Exercice 7 - Factorielle"
   ]
  },
  {
   "cell_type": "markdown",
   "id": "a403653c",
   "metadata": {},
   "source": [
    "Ecrire un programme python qui lit un entier positif x au clavier et affiche la valeur de $!x$."
   ]
  },
  {
   "cell_type": "code",
   "execution_count": 4,
   "id": "0b9a62c8",
   "metadata": {},
   "outputs": [],
   "source": [
    "def factorielle(x : int) -> None:\n",
    "    fac = 1\n",
    "    if (x >= 0):\n",
    "        for i in range(2, x + 1):\n",
    "            fac = fac * i\n",
    "        print(\"!x = \" + str(fac))\n",
    "    else:\n",
    "        print(\"Calcul impossible\")"
   ]
  },
  {
   "cell_type": "code",
   "execution_count": 5,
   "id": "4428c81c",
   "metadata": {},
   "outputs": [
    {
     "name": "stdin",
     "output_type": "stream",
     "text": [
      "Saisissez un entier x :  3\n"
     ]
    },
    {
     "name": "stdout",
     "output_type": "stream",
     "text": [
      "!x = 6\n"
     ]
    }
   ],
   "source": [
    "x = int(input('Saisissez un entier x : '))\n",
    "factorielle(x)"
   ]
  },
  {
   "cell_type": "code",
   "execution_count": 6,
   "id": "10a517d4",
   "metadata": {},
   "outputs": [
    {
     "name": "stdin",
     "output_type": "stream",
     "text": [
      "Saisissez un entier x :  4\n"
     ]
    },
    {
     "name": "stdout",
     "output_type": "stream",
     "text": [
      "!x = 24\n"
     ]
    }
   ],
   "source": [
    "x = int(input('Saisissez un entier x : '))\n",
    "factorielle(x)"
   ]
  },
  {
   "cell_type": "markdown",
   "id": "9d2370b4",
   "metadata": {},
   "source": [
    "Une autre possibilité est d'utiliser des *appels récursifs* :"
   ]
  },
  {
   "cell_type": "code",
   "execution_count": 14,
   "id": "0c379b7e",
   "metadata": {},
   "outputs": [],
   "source": [
    "from typing import Union\n",
    "\n",
    "def factorielle_rec(x : int) -> Union[int, str]:\n",
    "    if (x < 0):\n",
    "        return \"Impossible\"\n",
    "    else:\n",
    "        if (x == 0):\n",
    "            return 1\n",
    "        else:\n",
    "            return x * factorielle_rec(x - 1) # Appel récursif de factorielle_rec"
   ]
  },
  {
   "cell_type": "markdown",
   "id": "1c8464ec-9c0c-4ca6-9467-a9ef90cc9404",
   "metadata": {},
   "source": [
    "factorielle_rec(4) = 4 * factorielle_rec(3)\n",
    "                            3 * factorielle_rec(2)\n",
    "                                2 * factorielle_rec(1)\n",
    "                                    1"
   ]
  },
  {
   "cell_type": "code",
   "execution_count": 9,
   "id": "5c4e46b5",
   "metadata": {},
   "outputs": [
    {
     "name": "stdin",
     "output_type": "stream",
     "text": [
      "Saisissez un entier x :  6\n"
     ]
    },
    {
     "data": {
      "text/plain": [
       "720"
      ]
     },
     "execution_count": 9,
     "metadata": {},
     "output_type": "execute_result"
    }
   ],
   "source": [
    "x = int(input('Saisissez un entier x : '))\n",
    "factorielle_rec(x)"
   ]
  },
  {
   "cell_type": "code",
   "execution_count": 10,
   "id": "e8ce9617",
   "metadata": {},
   "outputs": [
    {
     "name": "stdin",
     "output_type": "stream",
     "text": [
      "Saisissez un entier x :  -4\n"
     ]
    },
    {
     "data": {
      "text/plain": [
       "'Impossible'"
      ]
     },
     "execution_count": 10,
     "metadata": {},
     "output_type": "execute_result"
    }
   ],
   "source": [
    "x = int(input('Saisissez un entier x : '))\n",
    "factorielle_rec(x)"
   ]
  },
  {
   "cell_type": "code",
   "execution_count": null,
   "id": "bc578102-0bfe-4afa-a679-ef99e656b93e",
   "metadata": {},
   "outputs": [],
   "source": []
  }
 ],
 "metadata": {
  "kernelspec": {
   "display_name": "Python 3 (ipykernel)",
   "language": "python",
   "name": "python3"
  },
  "language_info": {
   "codemirror_mode": {
    "name": "ipython",
    "version": 3
   },
   "file_extension": ".py",
   "mimetype": "text/x-python",
   "name": "python",
   "nbconvert_exporter": "python",
   "pygments_lexer": "ipython3",
   "version": "3.11.7"
  },
  "latex_envs": {
   "LaTeX_envs_menu_present": true,
   "autoclose": false,
   "autocomplete": true,
   "bibliofile": "biblio.bib",
   "cite_by": "apalike",
   "current_citInitial": 1,
   "eqLabelWithNumbers": true,
   "eqNumInitial": 1,
   "hotkeys": {
    "equation": "Ctrl-E",
    "itemize": "Ctrl-I"
   },
   "labels_anchors": false,
   "latex_user_defs": false,
   "report_style_numbering": false,
   "user_envs_cfg": false
  },
  "vscode": {
   "interpreter": {
    "hash": "aee8b7b246df8f9039afb4144a1f6fd8d2ca17a180786b69acc140d282b71a49"
   }
  }
 },
 "nbformat": 4,
 "nbformat_minor": 5
}
