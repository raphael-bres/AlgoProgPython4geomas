{
 "cells": [
  {
   "cell_type": "markdown",
   "id": "97c761d8",
   "metadata": {},
   "source": [
    "# Structures de données : les listes"
   ]
  },
  {
   "cell_type": "code",
   "execution_count": 2,
   "id": "06008caa-801b-4ac9-923e-134b7bac7dc5",
   "metadata": {
    "scrolled": true
   },
   "outputs": [
    {
     "name": "stdout",
     "output_type": "stream",
     "text": [
      "Collecting nb_mypy\n",
      "  Using cached nb_mypy-1.0.5-py3-none-any.whl\n",
      "Collecting astor<1,>=0.8 (from nb_mypy)\n",
      "  Using cached astor-0.8.1-py2.py3-none-any.whl.metadata (4.2 kB)\n",
      "Collecting mypy<2,>=1 (from nb_mypy)\n",
      "  Downloading mypy-1.12.0-cp311-cp311-manylinux_2_17_x86_64.manylinux2014_x86_64.manylinux_2_28_x86_64.whl.metadata (2.0 kB)\n",
      "Requirement already satisfied: ipython<9,>=8.0 in /opt/conda/lib/python3.11/site-packages (from nb_mypy) (8.27.0)\n",
      "Requirement already satisfied: decorator in /opt/conda/lib/python3.11/site-packages (from ipython<9,>=8.0->nb_mypy) (5.1.1)\n",
      "Requirement already satisfied: jedi>=0.16 in /opt/conda/lib/python3.11/site-packages (from ipython<9,>=8.0->nb_mypy) (0.19.1)\n",
      "Requirement already satisfied: matplotlib-inline in /opt/conda/lib/python3.11/site-packages (from ipython<9,>=8.0->nb_mypy) (0.1.7)\n",
      "Requirement already satisfied: prompt-toolkit<3.1.0,>=3.0.41 in /opt/conda/lib/python3.11/site-packages (from ipython<9,>=8.0->nb_mypy) (3.0.47)\n",
      "Requirement already satisfied: pygments>=2.4.0 in /opt/conda/lib/python3.11/site-packages (from ipython<9,>=8.0->nb_mypy) (2.18.0)\n",
      "Requirement already satisfied: stack-data in /opt/conda/lib/python3.11/site-packages (from ipython<9,>=8.0->nb_mypy) (0.6.2)\n",
      "Requirement already satisfied: traitlets>=5.13.0 in /opt/conda/lib/python3.11/site-packages (from ipython<9,>=8.0->nb_mypy) (5.14.3)\n",
      "Requirement already satisfied: typing-extensions>=4.6 in /opt/conda/lib/python3.11/site-packages (from ipython<9,>=8.0->nb_mypy) (4.12.2)\n",
      "Requirement already satisfied: pexpect>4.3 in /opt/conda/lib/python3.11/site-packages (from ipython<9,>=8.0->nb_mypy) (4.9.0)\n",
      "Collecting mypy-extensions>=1.0.0 (from mypy<2,>=1->nb_mypy)\n",
      "  Using cached mypy_extensions-1.0.0-py3-none-any.whl.metadata (1.1 kB)\n",
      "Requirement already satisfied: parso<0.9.0,>=0.8.3 in /opt/conda/lib/python3.11/site-packages (from jedi>=0.16->ipython<9,>=8.0->nb_mypy) (0.8.4)\n",
      "Requirement already satisfied: ptyprocess>=0.5 in /opt/conda/lib/python3.11/site-packages (from pexpect>4.3->ipython<9,>=8.0->nb_mypy) (0.7.0)\n",
      "Requirement already satisfied: wcwidth in /opt/conda/lib/python3.11/site-packages (from prompt-toolkit<3.1.0,>=3.0.41->ipython<9,>=8.0->nb_mypy) (0.2.13)\n",
      "Requirement already satisfied: executing>=1.2.0 in /opt/conda/lib/python3.11/site-packages (from stack-data->ipython<9,>=8.0->nb_mypy) (2.1.0)\n",
      "Requirement already satisfied: asttokens>=2.1.0 in /opt/conda/lib/python3.11/site-packages (from stack-data->ipython<9,>=8.0->nb_mypy) (2.4.1)\n",
      "Requirement already satisfied: pure-eval in /opt/conda/lib/python3.11/site-packages (from stack-data->ipython<9,>=8.0->nb_mypy) (0.2.3)\n",
      "Requirement already satisfied: six>=1.12.0 in /opt/conda/lib/python3.11/site-packages (from asttokens>=2.1.0->stack-data->ipython<9,>=8.0->nb_mypy) (1.16.0)\n",
      "Using cached astor-0.8.1-py2.py3-none-any.whl (27 kB)\n",
      "Downloading mypy-1.12.0-cp311-cp311-manylinux_2_17_x86_64.manylinux2014_x86_64.manylinux_2_28_x86_64.whl (12.5 MB)\n",
      "\u001b[2K   \u001b[90m━━━━━━━━━━━━━━━━━━━━━━━━━━━━━━━━━━━━━━━━\u001b[0m \u001b[32m12.5/12.5 MB\u001b[0m \u001b[31m24.2 MB/s\u001b[0m eta \u001b[36m0:00:00\u001b[0m:00:01\u001b[0m\n",
      "\u001b[?25hUsing cached mypy_extensions-1.0.0-py3-none-any.whl (4.7 kB)\n",
      "Installing collected packages: mypy-extensions, astor, mypy, nb_mypy\n",
      "Successfully installed astor-0.8.1 mypy-1.12.0 mypy-extensions-1.0.0 nb_mypy-1.0.5\n",
      "Note: you may need to restart the kernel to use updated packages.\n"
     ]
    }
   ],
   "source": [
    "pip install nb_mypy"
   ]
  },
  {
   "cell_type": "code",
   "execution_count": 3,
   "id": "7c21c883",
   "metadata": {},
   "outputs": [
    {
     "name": "stderr",
     "output_type": "stream",
     "text": [
      "Version 1.0.5\n"
     ]
    }
   ],
   "source": [
    "%load_ext nb_mypy"
   ]
  },
  {
   "cell_type": "markdown",
   "id": "880db8c0-d076-4a71-ab61-32b4036a921e",
   "metadata": {},
   "source": [
    "Les listes (on dit aussi tableau) sont des séquences d'éléments :"
   ]
  },
  {
   "cell_type": "code",
   "execution_count": 5,
   "id": "4e0f35b6-b5e9-4133-adbe-77a5c34c81a4",
   "metadata": {},
   "outputs": [],
   "source": [
    "fruits = [\"bananes\", \"pommes\", \"poires\"]"
   ]
  },
  {
   "cell_type": "code",
   "execution_count": 6,
   "id": "dd1aae3e-41e8-46bb-bbf0-317f912388fa",
   "metadata": {},
   "outputs": [],
   "source": [
    "panier_marie = [(\"bananes\", 4), (\"pommes\", 1), (\"poires\", 0)]"
   ]
  },
  {
   "cell_type": "markdown",
   "id": "a081dffe-0379-40a8-bbd5-8c0d83b3111a",
   "metadata": {},
   "source": [
    "Ici on a une liste de couples str * int"
   ]
  },
  {
   "cell_type": "code",
   "execution_count": 7,
   "id": "3deac193-c9d9-4636-8c6b-9ee4c4c7f3df",
   "metadata": {},
   "outputs": [],
   "source": [
    "panier_pierre = [(\"bananes\", 4), (\"pommes\", 1), (\"poires\", 0), (\"cerises\", 25)]"
   ]
  },
  {
   "cell_type": "code",
   "execution_count": 8,
   "id": "7661b681-7470-4ee1-ae33-343e79a59814",
   "metadata": {},
   "outputs": [],
   "source": [
    "paniers_personnes = [panier_pierre, panier_marie]"
   ]
  },
  {
   "cell_type": "code",
   "execution_count": 29,
   "id": "0b5703f1-de11-4307-90bb-ed1a99f26c09",
   "metadata": {},
   "outputs": [
    {
     "data": {
      "text/plain": [
       "[[('bananes', 4), ('pommes', 1), ('poires', 0), ('cerises', 25)],\n",
       " [('bananes', 4), ('pommes', 1), ('poires', 0)]]"
      ]
     },
     "execution_count": 29,
     "metadata": {},
     "output_type": "execute_result"
    }
   ],
   "source": [
    "paniers_personnes"
   ]
  },
  {
   "cell_type": "code",
   "execution_count": 30,
   "id": "1dcaefb7-da83-48b5-a04d-131cbc44df26",
   "metadata": {},
   "outputs": [
    {
     "ename": "TypeError",
     "evalue": "'tuple' object does not support item assignment",
     "output_type": "error",
     "traceback": [
      "\u001b[0;31m---------------------------------------------------------------------------\u001b[0m",
      "\u001b[0;31mTypeError\u001b[0m                                 Traceback (most recent call last)",
      "Cell \u001b[0;32mIn[30], line 1\u001b[0m\n\u001b[0;32m----> 1\u001b[0m \u001b[43mpanier_pierre\u001b[49m\u001b[43m[\u001b[49m\u001b[38;5;241;43m0\u001b[39;49m\u001b[43m]\u001b[49m\u001b[43m[\u001b[49m\u001b[38;5;241;43m1\u001b[39;49m\u001b[43m]\u001b[49m \u001b[38;5;241m=\u001b[39m \u001b[38;5;241m5\u001b[39m\n",
      "\u001b[0;31mTypeError\u001b[0m: 'tuple' object does not support item assignment"
     ]
    }
   ],
   "source": [
    "panier_pierre[0][1] = 5"
   ]
  },
  {
   "cell_type": "markdown",
   "id": "0ab140ce-b634-4723-a5db-6bb071b64365",
   "metadata": {},
   "source": [
    "Tous les éléments d'une liste doivent être du même type. Une liste peut contenir plusieurs éléments identiques"
   ]
  },
  {
   "cell_type": "code",
   "execution_count": 31,
   "id": "84601bb8-8535-4378-a039-e5f337850a3b",
   "metadata": {},
   "outputs": [],
   "source": [
    "personnes = [\"pierre\", \"marie\", \"pierre\"]"
   ]
  },
  {
   "cell_type": "code",
   "execution_count": 32,
   "id": "4b5202bb-d948-43c9-b1be-c38939e4b8e4",
   "metadata": {
    "scrolled": true
   },
   "outputs": [
    {
     "data": {
      "text/plain": [
       "['pierre', 'marie', 'pierre']"
      ]
     },
     "execution_count": 32,
     "metadata": {},
     "output_type": "execute_result"
    }
   ],
   "source": [
    "personnes"
   ]
  },
  {
   "cell_type": "markdown",
   "id": "013609f1-c715-41ad-a828-2492157a357a",
   "metadata": {},
   "source": [
    "Comme les listes sont des séquences, il y a un premier élément, un dernier élément etc."
   ]
  },
  {
   "cell_type": "code",
   "execution_count": 33,
   "id": "96b27fea-f514-4652-805a-b07361c370ee",
   "metadata": {},
   "outputs": [
    {
     "data": {
      "text/plain": [
       "'pierre'"
      ]
     },
     "execution_count": 33,
     "metadata": {},
     "output_type": "execute_result"
    }
   ],
   "source": [
    "personnes[0]"
   ]
  },
  {
   "cell_type": "code",
   "execution_count": 34,
   "id": "d71a1151-c544-49ff-956e-6fc84975089b",
   "metadata": {},
   "outputs": [
    {
     "data": {
      "text/plain": [
       "'pierre'"
      ]
     },
     "execution_count": 34,
     "metadata": {},
     "output_type": "execute_result"
    }
   ],
   "source": [
    "personnes[2]"
   ]
  },
  {
   "cell_type": "code",
   "execution_count": 35,
   "id": "cca57ba8-0f90-43ba-8c46-52a7052dfe21",
   "metadata": {},
   "outputs": [
    {
     "data": {
      "text/plain": [
       "'pierre'"
      ]
     },
     "execution_count": 35,
     "metadata": {},
     "output_type": "execute_result"
    }
   ],
   "source": [
    "personnes[len(personnes) - 1]"
   ]
  },
  {
   "cell_type": "code",
   "execution_count": 36,
   "id": "63f08a0f-1085-4c5e-a5be-e3f2d993ddb3",
   "metadata": {},
   "outputs": [],
   "source": [
    "personnes.append(\"paul\")"
   ]
  },
  {
   "cell_type": "code",
   "execution_count": 37,
   "id": "e4fcf5b7-dcbd-4058-8a22-51b18b86fcc8",
   "metadata": {
    "scrolled": true
   },
   "outputs": [
    {
     "data": {
      "text/plain": [
       "['pierre', 'marie', 'pierre', 'paul']"
      ]
     },
     "execution_count": 37,
     "metadata": {},
     "output_type": "execute_result"
    }
   ],
   "source": [
    "personnes"
   ]
  },
  {
   "cell_type": "code",
   "execution_count": 38,
   "id": "dd412847-f7cd-48ee-af90-16cf704ec21a",
   "metadata": {},
   "outputs": [
    {
     "data": {
      "text/plain": [
       "['marie', 'pierre', 'paul']"
      ]
     },
     "execution_count": 38,
     "metadata": {},
     "output_type": "execute_result"
    }
   ],
   "source": [
    "personnes[1:]"
   ]
  },
  {
   "cell_type": "code",
   "execution_count": 39,
   "id": "3b9a06c5-f831-4284-a412-6db3291f097f",
   "metadata": {},
   "outputs": [
    {
     "data": {
      "text/plain": [
       "['pierre']"
      ]
     },
     "execution_count": 39,
     "metadata": {},
     "output_type": "execute_result"
    }
   ],
   "source": [
    "personnes[:1]"
   ]
  },
  {
   "cell_type": "code",
   "execution_count": 40,
   "id": "6811b601-a02b-4864-9cf4-554692d29312",
   "metadata": {},
   "outputs": [
    {
     "data": {
      "text/plain": [
       "['marie']"
      ]
     },
     "execution_count": 40,
     "metadata": {},
     "output_type": "execute_result"
    }
   ],
   "source": [
    "personnes[1:2]"
   ]
  },
  {
   "cell_type": "code",
   "execution_count": 41,
   "id": "cae0d483-86be-420e-96fd-034c211fd324",
   "metadata": {},
   "outputs": [
    {
     "name": "stdout",
     "output_type": "stream",
     "text": [
      "paul est une personne !\n"
     ]
    }
   ],
   "source": [
    "x = \"paul\"\n",
    "if x in personnes:\n",
    "    print(x + \" est une personne !\")\n",
    "else:\n",
    "    print(x + \" n'est pas une personne !\")"
   ]
  },
  {
   "cell_type": "markdown",
   "id": "08bea01b-b8d1-4e5b-a7b0-7a214657a2c7",
   "metadata": {},
   "source": [
    "Concatenation de listes :"
   ]
  },
  {
   "cell_type": "code",
   "execution_count": 42,
   "id": "45a9f37c-60f4-4c37-8a89-257d7b5961ba",
   "metadata": {},
   "outputs": [],
   "source": [
    "tous_les_paniers = panier_marie + panier_pierre"
   ]
  },
  {
   "cell_type": "code",
   "execution_count": 43,
   "id": "cc83df8b-75fe-4875-8b55-b767ad3063ab",
   "metadata": {
    "scrolled": true
   },
   "outputs": [
    {
     "data": {
      "text/plain": [
       "[('bananes', 4),\n",
       " ('pommes', 1),\n",
       " ('poires', 0),\n",
       " ('bananes', 4),\n",
       " ('pommes', 1),\n",
       " ('poires', 0),\n",
       " ('cerises', 25)]"
      ]
     },
     "execution_count": 43,
     "metadata": {},
     "output_type": "execute_result"
    }
   ],
   "source": [
    "tous_les_paniers"
   ]
  },
  {
   "cell_type": "code",
   "execution_count": 44,
   "id": "514cbcab-1e62-43a9-b80f-036d9e29d6ac",
   "metadata": {},
   "outputs": [],
   "source": [
    "tous_les_paniers.remove((\"bananes\", 4))"
   ]
  },
  {
   "cell_type": "code",
   "execution_count": 45,
   "id": "84c16889-a1f4-4504-9a01-85c2d0729252",
   "metadata": {},
   "outputs": [
    {
     "data": {
      "text/plain": [
       "[('pommes', 1),\n",
       " ('poires', 0),\n",
       " ('bananes', 4),\n",
       " ('pommes', 1),\n",
       " ('poires', 0),\n",
       " ('cerises', 25)]"
      ]
     },
     "execution_count": 45,
     "metadata": {},
     "output_type": "execute_result"
    }
   ],
   "source": [
    "tous_les_paniers"
   ]
  },
  {
   "cell_type": "markdown",
   "id": "6e2fd9a1-0f9e-494d-8d0f-c3445cf5e4da",
   "metadata": {},
   "source": [
    "le 'remove' retire la première occurrence d'un élement dans la liste."
   ]
  },
  {
   "cell_type": "code",
   "execution_count": 47,
   "id": "3775bf37-8b76-4212-9239-3fb5d6d17709",
   "metadata": {},
   "outputs": [],
   "source": [
    "test = [1, 2, 45, 7, 7, 89, 7, 0]"
   ]
  },
  {
   "cell_type": "code",
   "execution_count": 48,
   "id": "c1e79b9e-abdb-483a-bed1-d2ef3bc8e3d1",
   "metadata": {},
   "outputs": [
    {
     "name": "stdout",
     "output_type": "stream",
     "text": [
      "[1, 2, 45, 89, 0]\n"
     ]
    }
   ],
   "source": [
    "while (7 in test):\n",
    "    test.remove(7)\n",
    "print(test)    "
   ]
  },
  {
   "cell_type": "code",
   "execution_count": 49,
   "id": "91c726cf-be0a-4789-bd4e-f275ead47adc",
   "metadata": {},
   "outputs": [],
   "source": [
    "tous_les_paniers.insert(2, (\"fraises\", 14))"
   ]
  },
  {
   "cell_type": "code",
   "execution_count": 51,
   "id": "61cfd733-3fe4-4e84-a8fd-6c9370ad6dfd",
   "metadata": {
    "scrolled": true
   },
   "outputs": [
    {
     "data": {
      "text/plain": [
       "[('pommes', 1),\n",
       " ('poires', 0),\n",
       " ('fraises', 14),\n",
       " ('bananes', 4),\n",
       " ('pommes', 1),\n",
       " ('poires', 0),\n",
       " ('cerises', 25)]"
      ]
     },
     "execution_count": 51,
     "metadata": {},
     "output_type": "execute_result"
    }
   ],
   "source": [
    "tous_les_paniers"
   ]
  },
  {
   "cell_type": "code",
   "execution_count": 52,
   "id": "e9ddb647-890a-4ed9-85b1-2322547feef6",
   "metadata": {},
   "outputs": [],
   "source": [
    "tous_les_paniers.clear()"
   ]
  },
  {
   "cell_type": "code",
   "execution_count": 53,
   "id": "5ed73469-76ac-4dc8-b985-ce3dc3e68df2",
   "metadata": {
    "scrolled": true
   },
   "outputs": [
    {
     "data": {
      "text/plain": [
       "[]"
      ]
     },
     "execution_count": 53,
     "metadata": {},
     "output_type": "execute_result"
    }
   ],
   "source": [
    "tous_les_paniers"
   ]
  },
  {
   "cell_type": "markdown",
   "id": "aa7a846f",
   "metadata": {},
   "source": [
    "## Exercice 1 - Somme des éléments d’une liste\n",
    "\n",
    "On considère l’algorithme suivant qui permet d’initialiser une liste par lecture au clavier puis de calculer la somme de ses éléments.  \n",
    "\n",
    "**lexique**  \n",
    "N : constante entière 10  \n",
    "T : liste\n",
    "sur [0..N - 1] d’entiers  \n",
    "Somme : entier {pour calculer la somme}\n",
    "\n",
    "**début**  \n",
    "pour i allant de 0 a N - 1 : Ecrire(“Saisissez un entier”); Lire($T_i$)  \n",
    "Somme $\\leftarrow$ 0  \n",
    "pour i allant de 0 a N - 1 : Somme $\\leftarrow$ Somme + $T_i$  \n",
    "Ecrire(Somme)  \n",
    "**fin**  \n",
    "\n",
    "Q1. Traduire cet algorithme *somme_liste* en Python.\n",
    "\n",
    "Q2. Créez un fichier de nom donnees.txt contenant 10 entiers (un par ligne). Exécutez maintenant le\n",
    "programme *somme_donnees* ci-dessous."
   ]
  },
  {
   "cell_type": "code",
   "execution_count": 58,
   "id": "6cadfcda",
   "metadata": {},
   "outputs": [],
   "source": [
    "def somme_liste() -> None:\n",
    "    nb_elem = 10\n",
    "    data = []\n",
    "    for i in range(0, nb_elem):\n",
    "        x = int(input('Saisissez un entier : '))\n",
    "        data.append(x)\n",
    "    somme = 0\n",
    "    for i in range(0, nb_elem):\n",
    "        #somme += data[i]\n",
    "        somme = somme + data[i]\n",
    "        print(somme)\n",
    "    print(\"La somme est \", somme)"
   ]
  },
  {
   "cell_type": "code",
   "execution_count": 59,
   "id": "eb909b34",
   "metadata": {},
   "outputs": [
    {
     "name": "stdout",
     "output_type": "stream",
     "text": [
      "Saisissez un entier :  1\n",
      "Saisissez un entier :  2\n",
      "Saisissez un entier :  3\n",
      "Saisissez un entier :  1\n",
      "Saisissez un entier :  -2\n",
      "Saisissez un entier :  -3\n",
      "Saisissez un entier :  1\n",
      "Saisissez un entier :  1\n",
      "Saisissez un entier :  1\n",
      "Saisissez un entier :  1\n"
     ]
    },
    {
     "name": "stdout",
     "output_type": "stream",
     "text": [
      "1\n",
      "3\n",
      "6\n",
      "7\n",
      "5\n",
      "2\n",
      "3\n",
      "4\n",
      "5\n",
      "6\n",
      "La somme est  6\n"
     ]
    }
   ],
   "source": [
    "somme_liste()"
   ]
  },
  {
   "cell_type": "code",
   "execution_count": 60,
   "id": "66a19390",
   "metadata": {},
   "outputs": [],
   "source": [
    "def somme_donnees() -> None:\n",
    "    \n",
    "    # Si le mode n'est pas indiqué,\n",
    "    # le mode lecture est utilisé par défaut ('r'ead)\n",
    "    f = open('donnees.txt', 'r')\n",
    "    line = f.readline()\n",
    "    somme = int(line)\n",
    "    # Une longueur de zéro indique fin de fichier\n",
    "    while (len(line) > 0):\n",
    "        line = f.readline()\n",
    "        # line contient déjà un caractère de\n",
    "        # retour à la ligne à la fin de chaque ligne\n",
    "        # car nous lisons un fichier.\n",
    "        if line:\n",
    "            somme = somme + int(line)\n",
    "    \n",
    "    # Ferme le fichier\n",
    "    f.close()\n",
    "    print(\"La somme est \", somme)"
   ]
  },
  {
   "cell_type": "code",
   "execution_count": 65,
   "id": "83d696c1",
   "metadata": {},
   "outputs": [
    {
     "name": "stdout",
     "output_type": "stream",
     "text": [
      "La somme est  114\n"
     ]
    }
   ],
   "source": [
    "somme_donnees()"
   ]
  },
  {
   "cell_type": "markdown",
   "id": "18f8a7fe",
   "metadata": {},
   "source": [
    "Q3. Calculer la somme d'une liste d'entiers quelle que soit la taille de cette liste. Donner une version itérative et une version récursive."
   ]
  },
  {
   "cell_type": "code",
   "execution_count": 68,
   "id": "93ab6d81-cddf-4ba5-9d87-0619695129fb",
   "metadata": {},
   "outputs": [
    {
     "name": "stderr",
     "output_type": "stream",
     "text": [
      "Version 1.0.5\n"
     ]
    }
   ],
   "source": [
    "%load_ext nb_mypy"
   ]
  },
  {
   "cell_type": "code",
   "execution_count": 83,
   "id": "637c9832",
   "metadata": {},
   "outputs": [],
   "source": [
    "from typing import List\n",
    "\n",
    "def sumL(l : List[int]) -> int:\n",
    "    somme : int = 0\n",
    "    #for e in l: # équivalent à for i in range(0, len(l)):\n",
    "    \"\"\"\n",
    "    for i in range(0, len(l)):\n",
    "        somme = somme + l[i]\n",
    "    \"\"\"\n",
    "    for e in l:\n",
    "        somme += e # équivalent à somme = somme + e\n",
    "    return somme"
   ]
  },
  {
   "cell_type": "code",
   "execution_count": 6,
   "id": "3c527e9e",
   "metadata": {},
   "outputs": [],
   "source": [
    "test = [3, 6, 90]"
   ]
  },
  {
   "cell_type": "code",
   "execution_count": 85,
   "id": "76c5f62a",
   "metadata": {},
   "outputs": [
    {
     "data": {
      "text/plain": [
       "[6, 90]"
      ]
     },
     "execution_count": 85,
     "metadata": {},
     "output_type": "execute_result"
    }
   ],
   "source": [
    "test[1:]"
   ]
  },
  {
   "cell_type": "code",
   "execution_count": 86,
   "id": "796fef0a",
   "metadata": {},
   "outputs": [
    {
     "data": {
      "text/plain": [
       "99"
      ]
     },
     "execution_count": 86,
     "metadata": {},
     "output_type": "execute_result"
    }
   ],
   "source": [
    "sumL(test)"
   ]
  },
  {
   "cell_type": "markdown",
   "id": "3e315621",
   "metadata": {},
   "source": [
    "Equations de récurrence :\n",
    "\n",
    "- sumL([]) = 0 # la somme d'une liste vide est 0\n",
    "- sumL(l) = l[0] + sumL(l[1:]) # sinon c'est la valeur du 1er élément + sumL du reste de la liste"
   ]
  },
  {
   "cell_type": "code",
   "execution_count": 87,
   "id": "dc3ac901",
   "metadata": {},
   "outputs": [],
   "source": [
    "def sumL_rec(l : List[int]) -> int:\n",
    "    if (l == []):\n",
    "        return 0\n",
    "    else:\n",
    "        premier_elem = l[0]\n",
    "        reste_de_la_liste = l[1:]\n",
    "        return premier_elem + sumL_rec(reste_de_la_liste)"
   ]
  },
  {
   "cell_type": "code",
   "execution_count": 88,
   "id": "82d16c1c",
   "metadata": {},
   "outputs": [
    {
     "data": {
      "text/plain": [
       "99"
      ]
     },
     "execution_count": 88,
     "metadata": {},
     "output_type": "execute_result"
    }
   ],
   "source": [
    "sumL_rec(test)"
   ]
  },
  {
   "cell_type": "markdown",
   "id": "1154910a",
   "metadata": {},
   "source": [
    "## Exercice 2 - Recherche séquentielle\n",
    "On considère une liste de 10 entiers. On souhaite savoir si cette liste contient un entier x donné. On utilise pour cela l’algorithme suivant :  \n",
    "\n",
    "**lexique**  \n",
    "N : constante entière 10  \n",
    "T : liste sur [0..N - 1] d’entiers x : entier  \n",
    "j : entier sur 0..N  \n",
    "\n",
    "**début**  \n",
    "{Lecture de la liste}  \n",
    "pour i allant de 0 a N - 1 : Ecrire(“Saisissez un entier”); Lire($T_i$)  \n",
    "Ecrire(“Entier à chercher ?”) ; Lire(x)  \n",
    "{Recherche de l’entier x dans T}  \n",
    "j $\\leftarrow$ 0  \n",
    "tantque $j<N$ etpuis $T_j \\neq x: j \\leftarrow j+1$  \n",
    "si $j < N$ alors Ecrire(“trouvé” j) sinon Ecrire(“non trouvé”)  \n",
    "**fin**\n",
    "    \n",
    "Q1. Traduire cet algorithme en Python."
   ]
  },
  {
   "cell_type": "code",
   "execution_count": 90,
   "id": "68d98b30",
   "metadata": {},
   "outputs": [],
   "source": [
    "def rechercher() -> None:\n",
    "    nb_elem = 10\n",
    "    tableau = []\n",
    "    isFound = False\n",
    "    j = 0\n",
    "\n",
    "    # Saisir au clavier 10 entiers\n",
    "    for i in range(0, nb_elem):\n",
    "        x = int(input('Saisissez un entier : '))\n",
    "        tableau.append(x)\n",
    "    # Donner le nombre toBeFound à rechercher\n",
    "    toBeFound = int(input('Entier à chercher ? '))\n",
    "    # toBeFound est-il dans tableau ?\n",
    "    while (j < len(tableau)) and not isFound:\n",
    "        x = tableau[j]\n",
    "        j += 1\n",
    "        if (x == toBeFound):\n",
    "            isFound = True\n",
    "\n",
    "    if isFound: # équivalent à (isFound == True):\n",
    "        print(\"Trouvé \", toBeFound)\n",
    "    else:\n",
    "        print(\"Non Trouvé\")"
   ]
  },
  {
   "cell_type": "code",
   "execution_count": 92,
   "id": "f785babe",
   "metadata": {},
   "outputs": [
    {
     "name": "stdout",
     "output_type": "stream",
     "text": [
      "Saisissez un entier :  5\n",
      "Saisissez un entier :  66\n",
      "Saisissez un entier :  4\n",
      "Saisissez un entier :  3\n",
      "Saisissez un entier :  7\n",
      "Saisissez un entier :  8\n",
      "Saisissez un entier :  -6\n",
      "Saisissez un entier :  7\n",
      "Saisissez un entier :  0\n",
      "Saisissez un entier :  9\n",
      "Entier à chercher ?  10\n"
     ]
    },
    {
     "name": "stdout",
     "output_type": "stream",
     "text": [
      "Non Trouvé\n"
     ]
    }
   ],
   "source": [
    "rechercher()"
   ]
  },
  {
   "cell_type": "code",
   "execution_count": 94,
   "id": "053d32dc-c3c3-4838-bb11-32400e7c6d5d",
   "metadata": {},
   "outputs": [],
   "source": [
    "def recherche(x : int, l : List[int]) -> str:\n",
    "    if x in l:\n",
    "        return str(x) + \" est dans la liste !\"\n",
    "    else:\n",
    "        return str(x) + \" n'est pas dans la liste !\""
   ]
  },
  {
   "cell_type": "code",
   "execution_count": 95,
   "id": "81c9e75d-07f1-4708-8e9c-ef36528c7fc3",
   "metadata": {},
   "outputs": [
    {
     "data": {
      "text/plain": [
       "'5 est dans la liste !'"
      ]
     },
     "execution_count": 95,
     "metadata": {},
     "output_type": "execute_result"
    }
   ],
   "source": [
    "recherche(5, [1, 4, 7, 89, 5])"
   ]
  },
  {
   "cell_type": "code",
   "execution_count": 96,
   "id": "e9372b59-76d3-49dd-9fe6-db8c806c42c2",
   "metadata": {},
   "outputs": [
    {
     "data": {
      "text/plain": [
       "\"5 n'est pas dans la liste !\""
      ]
     },
     "execution_count": 96,
     "metadata": {},
     "output_type": "execute_result"
    }
   ],
   "source": [
    "recherche(5, [1, 56, 7, 8])"
   ]
  },
  {
   "cell_type": "markdown",
   "id": "a56c799a",
   "metadata": {},
   "source": [
    "Q2. Généraliser la fonction recherche pour une liste et un nombre quelconque :\n",
    "    \n",
    "```python \n",
    "def rechercher(t : List[int], x : int) -> bool\n",
    "```\n",
    " ...\n",
    "\n",
    "Faire une version itérative et une version récursive (commencer par donner les équations de récurrence)"
   ]
  },
  {
   "cell_type": "code",
   "execution_count": 97,
   "id": "eec15956",
   "metadata": {},
   "outputs": [],
   "source": [
    "def rechercher(t : List[int], x : int) -> bool:\n",
    "    \n",
    "    isThere = False\n",
    "    index_max = len(t) - 1\n",
    "    i = 0\n",
    "    # Tant que isThere n'est pas vrai et i est inférieur ou égal à l'indice max:\n",
    "    while (not isThere) and (i <= index_max):\n",
    "        isThere = (t[i] == x)\n",
    "        i = i + 1\n",
    "    \n",
    "    return isThere    "
   ]
  },
  {
   "cell_type": "code",
   "execution_count": 98,
   "id": "f498f5a8",
   "metadata": {},
   "outputs": [
    {
     "data": {
      "text/plain": [
       "True"
      ]
     },
     "execution_count": 98,
     "metadata": {},
     "output_type": "execute_result"
    }
   ],
   "source": [
    "rechercher(test, 6)"
   ]
  },
  {
   "cell_type": "code",
   "execution_count": 20,
   "id": "20d8fe8b",
   "metadata": {},
   "outputs": [
    {
     "data": {
      "text/plain": [
       "True"
      ]
     },
     "execution_count": 20,
     "metadata": {},
     "output_type": "execute_result"
    }
   ],
   "source": [
    "rechercher(test, 90)"
   ]
  },
  {
   "cell_type": "code",
   "execution_count": 21,
   "id": "63b2534c",
   "metadata": {
    "scrolled": true
   },
   "outputs": [
    {
     "data": {
      "text/plain": [
       "True"
      ]
     },
     "execution_count": 21,
     "metadata": {},
     "output_type": "execute_result"
    }
   ],
   "source": [
    "rechercher(test, 3)"
   ]
  },
  {
   "cell_type": "code",
   "execution_count": 22,
   "id": "95de96d9",
   "metadata": {},
   "outputs": [
    {
     "data": {
      "text/plain": [
       "False"
      ]
     },
     "execution_count": 22,
     "metadata": {},
     "output_type": "execute_result"
    }
   ],
   "source": [
    "rechercher(test, -90)"
   ]
  },
  {
   "cell_type": "markdown",
   "id": "3c390866",
   "metadata": {},
   "source": [
    "Equations de récurrence :\n",
    "    \n",
    "- rechercher([], x) = faux\n",
    "- rechercher(l, x) = (l[0] == x) ou rechercher(l[1:], x)"
   ]
  },
  {
   "cell_type": "code",
   "execution_count": 116,
   "id": "1bd6a4cd",
   "metadata": {},
   "outputs": [],
   "source": [
    "def rechercher_rec(t : List[int], x : int) -> bool:\n",
    "    if (t == []):\n",
    "        return False\n",
    "    else:\n",
    "        premier_elem = t[0]\n",
    "        reste_de_la_liste = t[1:]\n",
    "        \n",
    "        if (premier_elem == x):\n",
    "            return True\n",
    "        else:\n",
    "            return rechercher_rec(reste_de_la_liste, x)"
   ]
  },
  {
   "cell_type": "code",
   "execution_count": 110,
   "id": "2707540e",
   "metadata": {},
   "outputs": [
    {
     "data": {
      "text/plain": [
       "True"
      ]
     },
     "execution_count": 110,
     "metadata": {},
     "output_type": "execute_result"
    }
   ],
   "source": [
    "rechercher_rec(test, 6)"
   ]
  },
  {
   "cell_type": "code",
   "execution_count": 117,
   "id": "4c31271f",
   "metadata": {
    "scrolled": true
   },
   "outputs": [
    {
     "data": {
      "text/plain": [
       "True"
      ]
     },
     "execution_count": 117,
     "metadata": {},
     "output_type": "execute_result"
    }
   ],
   "source": [
    "rechercher_rec(test, 90)"
   ]
  },
  {
   "cell_type": "code",
   "execution_count": 118,
   "id": "5ef5181d",
   "metadata": {},
   "outputs": [
    {
     "data": {
      "text/plain": [
       "False"
      ]
     },
     "execution_count": 118,
     "metadata": {},
     "output_type": "execute_result"
    }
   ],
   "source": [
    "rechercher_rec(test, -90)"
   ]
  },
  {
   "cell_type": "code",
   "execution_count": 120,
   "id": "badf7a4e-4e05-4b9d-a664-7da3b9f344c3",
   "metadata": {},
   "outputs": [
    {
     "data": {
      "text/plain": [
       "False"
      ]
     },
     "execution_count": 120,
     "metadata": {},
     "output_type": "execute_result"
    }
   ],
   "source": [
    "rechercher_rec([], 7)"
   ]
  },
  {
   "cell_type": "code",
   "execution_count": 125,
   "id": "27d76d55",
   "metadata": {},
   "outputs": [],
   "source": [
    "def rechercher_rec(t : List[int], x : int) -> bool:\n",
    "    if (t == []):\n",
    "        return False\n",
    "    else:\n",
    "        return (t[0] == x) or rechercher_rec(t[1:], x)"
   ]
  },
  {
   "cell_type": "code",
   "execution_count": 126,
   "id": "31d2f319",
   "metadata": {},
   "outputs": [
    {
     "data": {
      "text/plain": [
       "True"
      ]
     },
     "execution_count": 126,
     "metadata": {},
     "output_type": "execute_result"
    }
   ],
   "source": [
    "rechercher_rec(test, 6)"
   ]
  },
  {
   "cell_type": "code",
   "execution_count": 127,
   "id": "f67c28b5",
   "metadata": {},
   "outputs": [
    {
     "data": {
      "text/plain": [
       "False"
      ]
     },
     "execution_count": 127,
     "metadata": {},
     "output_type": "execute_result"
    }
   ],
   "source": [
    "rechercher(test, -90)"
   ]
  },
  {
   "cell_type": "code",
   "execution_count": 128,
   "id": "493c3ee4-de8c-4a96-8471-a58286827ecd",
   "metadata": {},
   "outputs": [
    {
     "data": {
      "text/plain": [
       "False"
      ]
     },
     "execution_count": 128,
     "metadata": {},
     "output_type": "execute_result"
    }
   ],
   "source": [
    "rechercher_rec([], 8)"
   ]
  },
  {
   "cell_type": "markdown",
   "id": "1631d70d",
   "metadata": {},
   "source": [
    "## Exercice 3 -  Inversion d'une liste d'entiers"
   ]
  },
  {
   "cell_type": "markdown",
   "id": "ff8f446c",
   "metadata": {},
   "source": [
    "Soit la fonction :\n",
    "\n",
    "```python\n",
    "def inverse(t : List[int]) -> List[int]\n",
    "```\n",
    "avec inverse([3, 6, 90]) = [90, 6, 3] et inverse([]) = []\n",
    "\n",
    "Donner une version itérative et récursive de cette fonction.\n",
    "\n",
    "\n",
    "\n",
    "\n",
    "\n",
    "\n"
   ]
  },
  {
   "cell_type": "code",
   "execution_count": 5,
   "id": "ce114e67",
   "metadata": {},
   "outputs": [],
   "source": [
    "from typing import List\n",
    "\n",
    "def inverse(t : List[int]) -> List[int]:\n",
    "    \n",
    "    t_inverse : List[int] = []\n",
    "    \n",
    "    for elem in t:\n",
    "        print(elem)\n",
    "        t_inverse = [elem] + t_inverse # Concaténation de la liste [elem] avec t_inverse\n",
    "    \n",
    "    return t_inverse"
   ]
  },
  {
   "cell_type": "code",
   "execution_count": 7,
   "id": "4357de51",
   "metadata": {},
   "outputs": [
    {
     "name": "stdout",
     "output_type": "stream",
     "text": [
      "3\n",
      "6\n",
      "90\n"
     ]
    },
    {
     "data": {
      "text/plain": [
       "[90, 6, 3]"
      ]
     },
     "execution_count": 7,
     "metadata": {},
     "output_type": "execute_result"
    }
   ],
   "source": [
    "inverse(test)"
   ]
  },
  {
   "cell_type": "code",
   "execution_count": 17,
   "id": "202b865d-5c87-4967-acf6-c000ea5c844b",
   "metadata": {},
   "outputs": [
    {
     "name": "stdout",
     "output_type": "stream",
     "text": [
      "[5, 6, 7, 89]\n"
     ]
    }
   ],
   "source": [
    "essai = [6, 7, 89]\n",
    "essai.insert(0, 5)\n",
    "print(essai)"
   ]
  },
  {
   "cell_type": "markdown",
   "id": "a09299df",
   "metadata": {},
   "source": [
    "Equations de récurrence :\n",
    "- inverse([]) = []\n",
    "- inverse(t) = inverse(t[1:]) + [t[0]]"
   ]
  },
  {
   "cell_type": "code",
   "execution_count": 134,
   "id": "47f1ce89",
   "metadata": {},
   "outputs": [],
   "source": [
    "def inverse_rec(t : List[int]) -> List[int]:\n",
    "    # Cas de base\n",
    "    if (t == []):\n",
    "        return []\n",
    "    # Récursion\n",
    "    else:\n",
    "        l = inverse_rec(t[1:])\n",
    "        l.append(t[0])\n",
    "        return l"
   ]
  },
  {
   "cell_type": "code",
   "execution_count": 132,
   "id": "4af0f255-2b65-449f-ab2c-fa2232e0acda",
   "metadata": {},
   "outputs": [
    {
     "data": {
      "text/plain": [
       "[3, 6, 90]"
      ]
     },
     "execution_count": 132,
     "metadata": {},
     "output_type": "execute_result"
    }
   ],
   "source": [
    "test"
   ]
  },
  {
   "cell_type": "code",
   "execution_count": 131,
   "id": "103908ff",
   "metadata": {},
   "outputs": [
    {
     "data": {
      "text/plain": [
       "[90, 6, 3]"
      ]
     },
     "execution_count": 131,
     "metadata": {},
     "output_type": "execute_result"
    }
   ],
   "source": [
    "inverse_rec(test)"
   ]
  },
  {
   "cell_type": "markdown",
   "id": "6c3b32e9",
   "metadata": {},
   "source": [
    "## Exercice 4 - Algorithme de tri"
   ]
  },
  {
   "cell_type": "markdown",
   "id": "a83ce247",
   "metadata": {},
   "source": [
    "### Tri par insertion"
   ]
  },
  {
   "cell_type": "markdown",
   "id": "6b716132",
   "metadata": {},
   "source": [
    "Nous allons utiliser un *tri par insertion*. Il existe de nombreux autres algorithmes de tri. Ce qui les distingue est leur performance. Voici le principe du tri par insertion :\n",
    "\n",
    "- créer une liste vide appelé \"sorted\". On appelle la liste à trier \"toSort\",\n",
    "- rechercher le plus petit élément de toSort et le placer à la première position de sorted,\n",
    "- rechercher ensuite le deuxième élément le plus petit dans toSort et le placer en deuxième position de sorted,\n",
    "- continuer de la même façon jusqu’à ce que la liste sorted soit entièrement trié.\n",
    "\n",
    "Voici un exemple du fonctionnement de l’algorithme sur la liste [10, 9, 5, 7, 3] :\n",
    "\n",
    "| sorted     | toSort |\n",
    "| :---:      |    :----:   |\n",
    "| []      | [10, 9, 5, 7, 3]       |\n",
    "| [3]      | [10, 9, 5, 7]       |\n",
    "| [3, 5]      | [10, 9, 7]       |\n",
    "| [3, 5, 7]      | [10, 9]       |\n",
    "| [3, 5, 7, 9]      | [10]       |\n",
    "| [3, 5, 7, 9, 10]      | []       |"
   ]
  },
  {
   "cell_type": "markdown",
   "id": "bda8870a",
   "metadata": {},
   "source": [
    "Q1. Ecrire l'algorithme de tri par insertion  \n",
    "Q2. Traduire cet algorithme en Python (de manière itérative et de manière récursive)  \n",
    "Q3. Evaluer les performances de votre programme par rapport à celles de la méthode *sorted()* de la bibliothèque standard de Python."
   ]
  },
  {
   "cell_type": "code",
   "execution_count": null,
   "id": "b399e75f-b609-4cfa-ab01-e4c0f40f884d",
   "metadata": {},
   "outputs": [
    {
     "name": "stdout",
     "output_type": "stream",
     "text": [
      "5\n",
      "6\n",
      "8\n",
      "-4\n"
     ]
    }
   ],
   "source": [
    "essai = [5, 6, 8, -4]\n",
    "#for elem in essai:\n",
    "    #print(elem)\n",
    "for i in range(0, len(essai)):\n",
    "    print(essai[i])\n",
    "for j in (essai):\n",
    "    print(j)"
   ]
  },
  {
   "cell_type": "code",
   "execution_count": 38,
   "id": "1918a840-182c-49fa-829a-da07102f1a2d",
   "metadata": {},
   "outputs": [],
   "source": [
    "def lePlusPetitInt(t : List[int]) -> int:\n",
    "    lpp = t[0]\n",
    "    for elem in t:\n",
    "        #print(\"elem = \", elem)\n",
    "        #print (\"Avant test lpp = \", lpp)\n",
    "        if elem < lpp:\n",
    "            lpp = elem\n",
    "        #print (\"Après test lpp = \", lpp)\n",
    "    return lpp    "
   ]
  },
  {
   "cell_type": "code",
   "execution_count": 23,
   "id": "027d0ed5-1a4d-40be-8aba-ee9c2566a27c",
   "metadata": {},
   "outputs": [
    {
     "name": "stdout",
     "output_type": "stream",
     "text": [
      "elem =  1\n",
      "Avant test lpp =  1\n",
      "Après test lpp =  1\n",
      "elem =  5\n",
      "Avant test lpp =  1\n",
      "Après test lpp =  1\n",
      "elem =  -6\n",
      "Avant test lpp =  1\n",
      "Après test lpp =  -6\n",
      "elem =  89\n",
      "Avant test lpp =  -6\n",
      "Après test lpp =  -6\n"
     ]
    },
    {
     "data": {
      "text/plain": [
       "-6"
      ]
     },
     "execution_count": 23,
     "metadata": {},
     "output_type": "execute_result"
    }
   ],
   "source": [
    "lePlusPetit([1, 5, -6, 89])"
   ]
  },
  {
   "cell_type": "code",
   "execution_count": 4,
   "id": "19175be1",
   "metadata": {},
   "outputs": [],
   "source": [
    "from typing import List, Tuple\n",
    "\n",
    "def lePlusPetit(xs : List[int]) -> Tuple[int, int]:\n",
    "    lpp = xs[0]\n",
    "    index = 0\n",
    "    for i in range(0, len(xs)):\n",
    "        if (xs[i] < lpp):\n",
    "            lpp = xs[i]\n",
    "            index = i\n",
    "    return (index, lpp)"
   ]
  },
  {
   "cell_type": "code",
   "execution_count": 26,
   "id": "1669a36a",
   "metadata": {},
   "outputs": [
    {
     "data": {
      "text/plain": [
       "(3, -45)"
      ]
     },
     "execution_count": 26,
     "metadata": {},
     "output_type": "execute_result"
    }
   ],
   "source": [
    "lePlusPetit([1, 6, 0, -45, 2])"
   ]
  },
  {
   "cell_type": "code",
   "execution_count": 27,
   "id": "b9d96eae",
   "metadata": {},
   "outputs": [],
   "source": [
    "def insertionSort_rec(sorted = [], toSort = []) -> List[int]:\n",
    "    if len(toSort) == 0: # la syntaxe conseillée est 'if not toSort:' ou 'if toSort == []:'\n",
    "        return sorted\n",
    "    else:\n",
    "        (index, lpp) = lePlusPetit(toSort)\n",
    "        toSort.pop(index)\n",
    "        # print(\"toSort \", toSort)\n",
    "        sorted.append(lpp)\n",
    "        # print(\"sorted \", sorted)\n",
    "        return insertionSort_rec(sorted, toSort)"
   ]
  },
  {
   "cell_type": "code",
   "execution_count": 28,
   "id": "6f0fb20a",
   "metadata": {},
   "outputs": [
    {
     "name": "stdout",
     "output_type": "stream",
     "text": [
      "[-45, 0, 1, 2, 6]\n"
     ]
    }
   ],
   "source": [
    "xs = insertionSort_rec(toSort = [1, 6, 0, -45, 2])\n",
    "print(xs)"
   ]
  },
  {
   "cell_type": "markdown",
   "id": "106ac582-3516-42dc-a659-061b745219e9",
   "metadata": {},
   "source": [
    "InsertionSort en itératif :"
   ]
  },
  {
   "cell_type": "code",
   "execution_count": 39,
   "id": "0297ec90-5416-409b-b99a-e1b54cbae961",
   "metadata": {},
   "outputs": [],
   "source": [
    "def insertionSort(toSort : List[int]) -> List[int]:\n",
    "    sorted = []\n",
    "    lpp = lePlusPetitInt(toSort)\n",
    "    nb_iterations = len(toSort)\n",
    "    for i in range(0, nb_iterations):\n",
    "        lpp = lePlusPetitInt(toSort)\n",
    "        sorted.append(lpp)\n",
    "        toSort.remove(lpp)\n",
    "    return sorted    "
   ]
  },
  {
   "cell_type": "code",
   "execution_count": 40,
   "id": "fd9d1aa9-3c6e-4162-84ca-7e08a9347ad5",
   "metadata": {},
   "outputs": [
    {
     "data": {
      "text/plain": [
       "[-6, 3, 78, 100]"
      ]
     },
     "execution_count": 40,
     "metadata": {},
     "output_type": "execute_result"
    }
   ],
   "source": [
    "insertionSort([3, 78, -6, 100])"
   ]
  },
  {
   "cell_type": "markdown",
   "id": "bb321f66",
   "metadata": {},
   "source": [
    "La librairie standard de Python fournit de nombreuses méthodes permettant d'améliorer le code :"
   ]
  },
  {
   "cell_type": "code",
   "execution_count": 5,
   "id": "0b81e91d",
   "metadata": {},
   "outputs": [],
   "source": [
    "def customizedInsertionSort(sorted = [], toSort = []) -> List[int]:\n",
    "    if not toSort:\n",
    "        return sorted\n",
    "    else:\n",
    "        # En itératif\n",
    "        while toSort: \n",
    "        # while not (toSort == []):\n",
    "            lpp = min(toSort)\n",
    "            sorted.append(lpp)\n",
    "            toSort.remove(lpp)\n",
    "        return sorted"
   ]
  },
  {
   "cell_type": "code",
   "execution_count": 44,
   "id": "29c9af9c",
   "metadata": {},
   "outputs": [
    {
     "name": "stdout",
     "output_type": "stream",
     "text": [
      "[-45, 0, 1, 2, 6]\n"
     ]
    }
   ],
   "source": [
    "print(customizedInsertionSort(sorted = [], toSort = [1, 6, 0, -45, 2]))"
   ]
  },
  {
   "cell_type": "markdown",
   "id": "34969d43",
   "metadata": {},
   "source": [
    "Notez que Python fournit déjà une méthode de tri dans la librairie standard :"
   ]
  },
  {
   "cell_type": "code",
   "execution_count": 40,
   "id": "ee857fc1",
   "metadata": {},
   "outputs": [
    {
     "data": {
      "text/plain": [
       "[-45, 0, 1, 2, 6]"
      ]
     },
     "execution_count": 40,
     "metadata": {},
     "output_type": "execute_result"
    }
   ],
   "source": [
    "sorted([1, 6, 0, -45, 2])"
   ]
  },
  {
   "cell_type": "markdown",
   "id": "6a649515",
   "metadata": {},
   "source": [
    "Nous allons maintenant comparer les performances des deux algorithmes de tri sur des listes aléatoires de tailles croissantes."
   ]
  },
  {
   "cell_type": "code",
   "execution_count": 1,
   "id": "49554d66",
   "metadata": {},
   "outputs": [
    {
     "name": "stdout",
     "output_type": "stream",
     "text": [
      "[27, 26, 14, 25, 21]\n"
     ]
    }
   ],
   "source": [
    "import random\n",
    "#Generate 5 random numbers between 10 and 30\n",
    "randomlist = random.sample(range(10, 30), 5)\n",
    "print(randomlist)"
   ]
  },
  {
   "cell_type": "code",
   "execution_count": 6,
   "id": "bdfeeead",
   "metadata": {
    "scrolled": true
   },
   "outputs": [
    {
     "name": "stdout",
     "output_type": "stream",
     "text": [
      "Fini !\n"
     ]
    }
   ],
   "source": [
    "import time\n",
    "\n",
    "# Création d'un fichier csv\n",
    "\n",
    "head = \"size;algo;time\\n\"\n",
    "f = open('performances.csv', 'w')\n",
    "f.write(head)\n",
    "\n",
    "# Tailles des listes : 10, 100, 1000, 10000\n",
    "for i in range(2, 6):\n",
    "    # 100 listes de chaque taille\n",
    "    for j in range (0, 100):\n",
    "        \n",
    "        randomlist = random.sample(range(1, 10 ** i), 10 ** (i - 1))\n",
    "        start_time = time.time()\n",
    "        sorted(randomlist)\n",
    "        duration = time.time() - start_time\n",
    "        f.write(str(10 ** (i - 1)) + \";\" + \"sorted()\" + \";\" + str(duration) + \"\\n\")\n",
    "        \n",
    "        start_time = time.time()\n",
    "        customizedInsertionSort([], randomlist)\n",
    "        duration = time.time() - start_time\n",
    "        f.write(str(10 ** (i - 1)) + \";\" + \"customizedInsertionSort()\" + \";\" + str(duration) + \"\\n\")\n",
    "        \n",
    "# Ferme le fichier\n",
    "f.close()\n",
    "print(\"Fini !\")"
   ]
  },
  {
   "cell_type": "markdown",
   "id": "ee10d976",
   "metadata": {},
   "source": [
    "Trois librairies importantes à connaitre en python pour l'analyse des données et leur visualisation sont respectivement numpy, [pandas](https://pandas.pydata.org/docs/) et [matplotlib](https://matplotlib.org). Nous explorerons plus précisément la librairie pandas dans le TP4."
   ]
  },
  {
   "cell_type": "code",
   "execution_count": 7,
   "id": "f0e564e5",
   "metadata": {},
   "outputs": [
    {
     "data": {
      "text/html": [
       "<div>\n",
       "<style scoped>\n",
       "    .dataframe tbody tr th:only-of-type {\n",
       "        vertical-align: middle;\n",
       "    }\n",
       "\n",
       "    .dataframe tbody tr th {\n",
       "        vertical-align: top;\n",
       "    }\n",
       "\n",
       "    .dataframe thead th {\n",
       "        text-align: right;\n",
       "    }\n",
       "</style>\n",
       "<table border=\"1\" class=\"dataframe\">\n",
       "  <thead>\n",
       "    <tr style=\"text-align: right;\">\n",
       "      <th></th>\n",
       "      <th>size</th>\n",
       "      <th>algo</th>\n",
       "      <th>time</th>\n",
       "    </tr>\n",
       "  </thead>\n",
       "  <tbody>\n",
       "    <tr>\n",
       "      <th>0</th>\n",
       "      <td>10</td>\n",
       "      <td>sorted()</td>\n",
       "      <td>0.000005</td>\n",
       "    </tr>\n",
       "    <tr>\n",
       "      <th>1</th>\n",
       "      <td>10</td>\n",
       "      <td>customizedInsertionSort()</td>\n",
       "      <td>0.000015</td>\n",
       "    </tr>\n",
       "    <tr>\n",
       "      <th>2</th>\n",
       "      <td>10</td>\n",
       "      <td>sorted()</td>\n",
       "      <td>0.000002</td>\n",
       "    </tr>\n",
       "    <tr>\n",
       "      <th>3</th>\n",
       "      <td>10</td>\n",
       "      <td>customizedInsertionSort()</td>\n",
       "      <td>0.000010</td>\n",
       "    </tr>\n",
       "    <tr>\n",
       "      <th>4</th>\n",
       "      <td>10</td>\n",
       "      <td>sorted()</td>\n",
       "      <td>0.000002</td>\n",
       "    </tr>\n",
       "    <tr>\n",
       "      <th>...</th>\n",
       "      <td>...</td>\n",
       "      <td>...</td>\n",
       "      <td>...</td>\n",
       "    </tr>\n",
       "    <tr>\n",
       "      <th>795</th>\n",
       "      <td>10000</td>\n",
       "      <td>customizedInsertionSort()</td>\n",
       "      <td>0.887095</td>\n",
       "    </tr>\n",
       "    <tr>\n",
       "      <th>796</th>\n",
       "      <td>10000</td>\n",
       "      <td>sorted()</td>\n",
       "      <td>0.001358</td>\n",
       "    </tr>\n",
       "    <tr>\n",
       "      <th>797</th>\n",
       "      <td>10000</td>\n",
       "      <td>customizedInsertionSort()</td>\n",
       "      <td>0.830632</td>\n",
       "    </tr>\n",
       "    <tr>\n",
       "      <th>798</th>\n",
       "      <td>10000</td>\n",
       "      <td>sorted()</td>\n",
       "      <td>0.001453</td>\n",
       "    </tr>\n",
       "    <tr>\n",
       "      <th>799</th>\n",
       "      <td>10000</td>\n",
       "      <td>customizedInsertionSort()</td>\n",
       "      <td>0.848972</td>\n",
       "    </tr>\n",
       "  </tbody>\n",
       "</table>\n",
       "<p>800 rows × 3 columns</p>\n",
       "</div>"
      ],
      "text/plain": [
       "      size                       algo      time\n",
       "0       10                   sorted()  0.000005\n",
       "1       10  customizedInsertionSort()  0.000015\n",
       "2       10                   sorted()  0.000002\n",
       "3       10  customizedInsertionSort()  0.000010\n",
       "4       10                   sorted()  0.000002\n",
       "..     ...                        ...       ...\n",
       "795  10000  customizedInsertionSort()  0.887095\n",
       "796  10000                   sorted()  0.001358\n",
       "797  10000  customizedInsertionSort()  0.830632\n",
       "798  10000                   sorted()  0.001453\n",
       "799  10000  customizedInsertionSort()  0.848972\n",
       "\n",
       "[800 rows x 3 columns]"
      ]
     },
     "execution_count": 7,
     "metadata": {},
     "output_type": "execute_result"
    }
   ],
   "source": [
    "import pandas as pd\n",
    "import matplotlib.pyplot as plt\n",
    "\n",
    "# Lecture d'un fichier csv\n",
    "df = pd.read_csv(\"./performances.csv\", sep = \";\")\n",
    "df"
   ]
  },
  {
   "cell_type": "code",
   "execution_count": 8,
   "id": "7a7c2025",
   "metadata": {},
   "outputs": [],
   "source": [
    "# time en ms\n",
    "df[\"time\"] = df[\"time\"] * 1000000"
   ]
  },
  {
   "cell_type": "code",
   "execution_count": 9,
   "id": "9cfbfdfa-20cd-4950-80b2-74c12867d5c4",
   "metadata": {},
   "outputs": [
    {
     "data": {
      "text/html": [
       "<div>\n",
       "<style scoped>\n",
       "    .dataframe tbody tr th:only-of-type {\n",
       "        vertical-align: middle;\n",
       "    }\n",
       "\n",
       "    .dataframe tbody tr th {\n",
       "        vertical-align: top;\n",
       "    }\n",
       "\n",
       "    .dataframe thead th {\n",
       "        text-align: right;\n",
       "    }\n",
       "</style>\n",
       "<table border=\"1\" class=\"dataframe\">\n",
       "  <thead>\n",
       "    <tr style=\"text-align: right;\">\n",
       "      <th></th>\n",
       "      <th>size</th>\n",
       "      <th>algo</th>\n",
       "      <th>time</th>\n",
       "    </tr>\n",
       "  </thead>\n",
       "  <tbody>\n",
       "    <tr>\n",
       "      <th>0</th>\n",
       "      <td>10</td>\n",
       "      <td>sorted()</td>\n",
       "      <td>4.529953</td>\n",
       "    </tr>\n",
       "    <tr>\n",
       "      <th>1</th>\n",
       "      <td>10</td>\n",
       "      <td>customizedInsertionSort()</td>\n",
       "      <td>15.497208</td>\n",
       "    </tr>\n",
       "    <tr>\n",
       "      <th>2</th>\n",
       "      <td>10</td>\n",
       "      <td>sorted()</td>\n",
       "      <td>2.384186</td>\n",
       "    </tr>\n",
       "    <tr>\n",
       "      <th>3</th>\n",
       "      <td>10</td>\n",
       "      <td>customizedInsertionSort()</td>\n",
       "      <td>10.013580</td>\n",
       "    </tr>\n",
       "    <tr>\n",
       "      <th>4</th>\n",
       "      <td>10</td>\n",
       "      <td>sorted()</td>\n",
       "      <td>2.145767</td>\n",
       "    </tr>\n",
       "    <tr>\n",
       "      <th>...</th>\n",
       "      <td>...</td>\n",
       "      <td>...</td>\n",
       "      <td>...</td>\n",
       "    </tr>\n",
       "    <tr>\n",
       "      <th>795</th>\n",
       "      <td>10000</td>\n",
       "      <td>customizedInsertionSort()</td>\n",
       "      <td>887094.974518</td>\n",
       "    </tr>\n",
       "    <tr>\n",
       "      <th>796</th>\n",
       "      <td>10000</td>\n",
       "      <td>sorted()</td>\n",
       "      <td>1357.793808</td>\n",
       "    </tr>\n",
       "    <tr>\n",
       "      <th>797</th>\n",
       "      <td>10000</td>\n",
       "      <td>customizedInsertionSort()</td>\n",
       "      <td>830631.971359</td>\n",
       "    </tr>\n",
       "    <tr>\n",
       "      <th>798</th>\n",
       "      <td>10000</td>\n",
       "      <td>sorted()</td>\n",
       "      <td>1452.684402</td>\n",
       "    </tr>\n",
       "    <tr>\n",
       "      <th>799</th>\n",
       "      <td>10000</td>\n",
       "      <td>customizedInsertionSort()</td>\n",
       "      <td>848971.843719</td>\n",
       "    </tr>\n",
       "  </tbody>\n",
       "</table>\n",
       "<p>800 rows × 3 columns</p>\n",
       "</div>"
      ],
      "text/plain": [
       "      size                       algo           time\n",
       "0       10                   sorted()       4.529953\n",
       "1       10  customizedInsertionSort()      15.497208\n",
       "2       10                   sorted()       2.384186\n",
       "3       10  customizedInsertionSort()      10.013580\n",
       "4       10                   sorted()       2.145767\n",
       "..     ...                        ...            ...\n",
       "795  10000  customizedInsertionSort()  887094.974518\n",
       "796  10000                   sorted()    1357.793808\n",
       "797  10000  customizedInsertionSort()  830631.971359\n",
       "798  10000                   sorted()    1452.684402\n",
       "799  10000  customizedInsertionSort()  848971.843719\n",
       "\n",
       "[800 rows x 3 columns]"
      ]
     },
     "execution_count": 9,
     "metadata": {},
     "output_type": "execute_result"
    }
   ],
   "source": [
    "df"
   ]
  },
  {
   "cell_type": "code",
   "execution_count": 11,
   "id": "8ef766a1",
   "metadata": {},
   "outputs": [
    {
     "data": {
      "text/html": [
       "<div>\n",
       "<style scoped>\n",
       "    .dataframe tbody tr th:only-of-type {\n",
       "        vertical-align: middle;\n",
       "    }\n",
       "\n",
       "    .dataframe tbody tr th {\n",
       "        vertical-align: top;\n",
       "    }\n",
       "\n",
       "    .dataframe thead th {\n",
       "        text-align: right;\n",
       "    }\n",
       "</style>\n",
       "<table border=\"1\" class=\"dataframe\">\n",
       "  <thead>\n",
       "    <tr style=\"text-align: right;\">\n",
       "      <th></th>\n",
       "      <th>size</th>\n",
       "      <th>algo</th>\n",
       "      <th>time</th>\n",
       "    </tr>\n",
       "  </thead>\n",
       "  <tbody>\n",
       "    <tr>\n",
       "      <th>0</th>\n",
       "      <td>10</td>\n",
       "      <td>customizedInsertionSort()</td>\n",
       "      <td>7.216930</td>\n",
       "    </tr>\n",
       "    <tr>\n",
       "      <th>1</th>\n",
       "      <td>10</td>\n",
       "      <td>sorted()</td>\n",
       "      <td>1.444817</td>\n",
       "    </tr>\n",
       "    <tr>\n",
       "      <th>2</th>\n",
       "      <td>100</td>\n",
       "      <td>customizedInsertionSort()</td>\n",
       "      <td>126.492977</td>\n",
       "    </tr>\n",
       "    <tr>\n",
       "      <th>3</th>\n",
       "      <td>100</td>\n",
       "      <td>sorted()</td>\n",
       "      <td>7.722378</td>\n",
       "    </tr>\n",
       "    <tr>\n",
       "      <th>4</th>\n",
       "      <td>1000</td>\n",
       "      <td>customizedInsertionSort()</td>\n",
       "      <td>8936.634064</td>\n",
       "    </tr>\n",
       "    <tr>\n",
       "      <th>5</th>\n",
       "      <td>1000</td>\n",
       "      <td>sorted()</td>\n",
       "      <td>106.968880</td>\n",
       "    </tr>\n",
       "    <tr>\n",
       "      <th>6</th>\n",
       "      <td>10000</td>\n",
       "      <td>customizedInsertionSort()</td>\n",
       "      <td>883226.208687</td>\n",
       "    </tr>\n",
       "    <tr>\n",
       "      <th>7</th>\n",
       "      <td>10000</td>\n",
       "      <td>sorted()</td>\n",
       "      <td>1466.021538</td>\n",
       "    </tr>\n",
       "  </tbody>\n",
       "</table>\n",
       "</div>"
      ],
      "text/plain": [
       "    size                       algo           time\n",
       "0     10  customizedInsertionSort()       7.216930\n",
       "1     10                   sorted()       1.444817\n",
       "2    100  customizedInsertionSort()     126.492977\n",
       "3    100                   sorted()       7.722378\n",
       "4   1000  customizedInsertionSort()    8936.634064\n",
       "5   1000                   sorted()     106.968880\n",
       "6  10000  customizedInsertionSort()  883226.208687\n",
       "7  10000                   sorted()    1466.021538"
      ]
     },
     "execution_count": 11,
     "metadata": {},
     "output_type": "execute_result"
    }
   ],
   "source": [
    "# Calcul de la moyenne\n",
    "ag = df.groupby([\"size\", \"algo\"]).mean().reset_index()\n",
    "ag"
   ]
  },
  {
   "cell_type": "code",
   "execution_count": 12,
   "id": "9e539a5f",
   "metadata": {},
   "outputs": [],
   "source": [
    "x = ag[\"size\"].drop_duplicates()\n",
    "y_sorted = ag[ag[\"algo\"] == \"sorted()\"][\"time\"]\n",
    "y_custom = ag[ag[\"algo\"] == \"customizedInsertionSort()\"][\"time\"]"
   ]
  },
  {
   "cell_type": "code",
   "execution_count": 17,
   "id": "ba60de33",
   "metadata": {},
   "outputs": [
    {
     "data": {
      "text/plain": [
       "Text(0.5, 1.0, 'Algorithmes de tri')"
      ]
     },
     "execution_count": 17,
     "metadata": {},
     "output_type": "execute_result"
    },
    {
     "data": {
      "image/png": "[encoded data removed]",
      "text/plain": [
       "<Figure size 640x480 with 1 Axes>"
      ]
     },
     "metadata": {},
     "output_type": "display_data"
    }
   ],
   "source": [
    "plt.figure()\n",
    "plt.xscale(\"log\")\n",
    "plt.plot(x, y_sorted, label = \"Sorted\")\n",
    "plt.plot(x, y_custom, label = \"Customized\")\n",
    "plt.legend(framealpha = 1, frameon = True)\n",
    "plt.title(\"Algorithmes de tri\")"
   ]
  },
  {
   "cell_type": "markdown",
   "id": "1954ffe5",
   "metadata": {},
   "source": [
    "## Exercice complémentaire : fonctions d'ordre supérieur et design patterns"
   ]
  },
  {
   "cell_type": "markdown",
   "id": "a3a265cb",
   "metadata": {},
   "source": [
    "- Faire une fonction permettant de renvoyer la liste des nombres pairs d'une liste d'entiers"
   ]
  },
  {
   "cell_type": "code",
   "execution_count": 18,
   "id": "98dbf470",
   "metadata": {},
   "outputs": [],
   "source": [
    "def isEven(x : int) -> bool:\n",
    "    return (x % 2) == 0"
   ]
  },
  {
   "cell_type": "code",
   "execution_count": 19,
   "id": "9436c7f6",
   "metadata": {},
   "outputs": [
    {
     "data": {
      "text/plain": [
       "True"
      ]
     },
     "execution_count": 19,
     "metadata": {},
     "output_type": "execute_result"
    }
   ],
   "source": [
    "isEven(0)"
   ]
  },
  {
   "cell_type": "code",
   "execution_count": 20,
   "id": "d68bb351",
   "metadata": {},
   "outputs": [
    {
     "data": {
      "text/plain": [
       "True"
      ]
     },
     "execution_count": 20,
     "metadata": {},
     "output_type": "execute_result"
    }
   ],
   "source": [
    "isEven(4)"
   ]
  },
  {
   "cell_type": "code",
   "execution_count": 21,
   "id": "cf06e6f4",
   "metadata": {},
   "outputs": [
    {
     "data": {
      "text/plain": [
       "False"
      ]
     },
     "execution_count": 21,
     "metadata": {},
     "output_type": "execute_result"
    }
   ],
   "source": [
    "isEven(5)"
   ]
  },
  {
   "cell_type": "code",
   "execution_count": 22,
   "id": "298f5419",
   "metadata": {},
   "outputs": [],
   "source": [
    "def isOdd(x : int) -> bool:\n",
    "    return not isEven(x)"
   ]
  },
  {
   "cell_type": "code",
   "execution_count": 23,
   "id": "d552017b",
   "metadata": {},
   "outputs": [
    {
     "data": {
      "text/plain": [
       "True"
      ]
     },
     "execution_count": 23,
     "metadata": {},
     "output_type": "execute_result"
    }
   ],
   "source": [
    "isOdd(5)"
   ]
  },
  {
   "cell_type": "code",
   "execution_count": 24,
   "id": "96d1ccc0",
   "metadata": {},
   "outputs": [
    {
     "data": {
      "text/plain": [
       "False"
      ]
     },
     "execution_count": 24,
     "metadata": {},
     "output_type": "execute_result"
    }
   ],
   "source": [
    "isOdd(0)"
   ]
  },
  {
   "cell_type": "code",
   "execution_count": 25,
   "id": "47b9dad7",
   "metadata": {},
   "outputs": [],
   "source": [
    "from typing import List\n",
    "\n",
    "def extractEven(xs : List[int]) -> List[int]:\n",
    "    res : List[int] = []\n",
    "    for e in xs:\n",
    "        if isEven(e):\n",
    "            res.append(e)\n",
    "    return res        "
   ]
  },
  {
   "cell_type": "code",
   "execution_count": 26,
   "id": "ebaeaa58",
   "metadata": {},
   "outputs": [
    {
     "data": {
      "text/plain": [
       "[4, 6, 0]"
      ]
     },
     "execution_count": 26,
     "metadata": {},
     "output_type": "execute_result"
    }
   ],
   "source": [
    "extractEven([1, 4, 6, 7, 45, 0])"
   ]
  },
  {
   "cell_type": "code",
   "execution_count": 27,
   "id": "0f62269d",
   "metadata": {},
   "outputs": [],
   "source": [
    "from typing import Callable\n",
    "\n",
    "def extractInt(xs : List[int], testParite : Callable[[int], bool]) -> List[int]:\n",
    "# extractInt est une fonction d'ordre supérieur \n",
    "# parce que c'est une fonction qui a pour paramètre/argument une fonction\n",
    "    res = []\n",
    "    for elem in xs:\n",
    "        if testParite(elem):\n",
    "            res.append(elem)\n",
    "    return res "
   ]
  },
  {
   "cell_type": "code",
   "execution_count": 28,
   "id": "f0f1f026",
   "metadata": {},
   "outputs": [
    {
     "data": {
      "text/plain": [
       "[4, 6, 0]"
      ]
     },
     "execution_count": 28,
     "metadata": {},
     "output_type": "execute_result"
    }
   ],
   "source": [
    "extractInt([1, 4, 6, 7, 45, 0], isEven)"
   ]
  },
  {
   "cell_type": "code",
   "execution_count": 29,
   "id": "dd9f5368",
   "metadata": {},
   "outputs": [
    {
     "data": {
      "text/plain": [
       "[1, 7, 45]"
      ]
     },
     "execution_count": 29,
     "metadata": {},
     "output_type": "execute_result"
    }
   ],
   "source": [
    "extractInt([1, 4, 6, 7, 45, 0], isOdd)"
   ]
  },
  {
   "cell_type": "code",
   "execution_count": 30,
   "id": "7b3e5a06-2177-478e-9c8a-47b8a571cec5",
   "metadata": {},
   "outputs": [],
   "source": [
    "def isGreaterThanZero(x : int) -> bool:\n",
    "    return (x > 0)"
   ]
  },
  {
   "cell_type": "code",
   "execution_count": 31,
   "id": "472a6c79-94b4-4e4a-bc2c-17eea728e113",
   "metadata": {},
   "outputs": [
    {
     "data": {
      "text/plain": [
       "True"
      ]
     },
     "execution_count": 31,
     "metadata": {},
     "output_type": "execute_result"
    }
   ],
   "source": [
    "isGreaterThanZero(6)"
   ]
  },
  {
   "cell_type": "code",
   "execution_count": 32,
   "id": "72c14d76-0fc0-490a-aaed-6f2a5b884b12",
   "metadata": {},
   "outputs": [
    {
     "data": {
      "text/plain": [
       "False"
      ]
     },
     "execution_count": 32,
     "metadata": {},
     "output_type": "execute_result"
    }
   ],
   "source": [
    "isGreaterThanZero(-6)"
   ]
  },
  {
   "cell_type": "code",
   "execution_count": 33,
   "id": "6811b651-34ee-4f18-af49-3bdeacc19084",
   "metadata": {},
   "outputs": [
    {
     "data": {
      "text/plain": [
       "[3, 7, 8]"
      ]
     },
     "execution_count": 33,
     "metadata": {},
     "output_type": "execute_result"
    }
   ],
   "source": [
    "extractInt([3, -3, 7, 8, 0, -1], isGreaterThanZero)"
   ]
  },
  {
   "cell_type": "code",
   "execution_count": 60,
   "id": "7871a0e6",
   "metadata": {},
   "outputs": [
    {
     "data": {
      "text/plain": [
       "[45]"
      ]
     },
     "execution_count": 60,
     "metadata": {},
     "output_type": "execute_result"
    }
   ],
   "source": [
    "extractInt([1, 4, 6, 7, 45, 0], lambda x : x > 10) # lambda est une fonction anonyme"
   ]
  },
  {
   "cell_type": "markdown",
   "id": "071e98b0",
   "metadata": {},
   "source": [
    "Ici, `extractInt` est une *fonction d'ordre supérieur* car elle a pour paramètre une autre fonction.\n",
    "\n",
    "Ce style de programmation est très utile car il permet de coder les \"*design patterns*\". Nous ne rentrerons pas dans les détails ici, mais l'idée générale (peu évidente lorsqu'on débute en programmation et sa préoccupation première est d'écrire un code \"qui marche\") est qu'il existe des façons différentes de coder \"correctement \" une fonction et que certaines sont meilleures que d'autres.\n",
    "\n",
    "Par exemple, `extractInt([1, 4, 6, 7, 45, 0], isEven)` et `extractEven([1, 4, 6, 7, 45, 0])` font exactement la même chose mais `extractInt` est préférable à `extractEven` car elle utilise une approche \"divide and conquer\", le parcours des nombres entiers dans la liste est découplé du calcul de leurs parités. Il est donc plus simple de modifier la méthode de parcours (par exemple en utilisant une méthode plus performante ou en introduisant de nouveaux besoins utilisateur comme l'affichage des nombres etc.) ou la méthode de calcul de la parité. Ainsi la lisibilité du code, sa maintenance et son \"refactoring\" sont facilités tout en réduisant le risque d'introduire des bugs et de faire régresser le code. Sur un exemple aussi simple que `extractInt` et `extractEven` cela peut paraître peu évident mais il faut imaginer le cas général où un programme contient des milliers de lignes de code et des dizaines de \"fonctionnalités implicites/sous-jacentes\" (comme ici le parcours des entiers et le calcul de parité) entremêlées dans une même fonction explicite.\n",
    "\n",
    "L'explicitation de ces fonctionnalités et leur découplage est la finalité générale des design patterns."
   ]
  },
  {
   "cell_type": "markdown",
   "id": "d2a4f5cd",
   "metadata": {},
   "source": [
    "### Autre illustration possible :"
   ]
  },
  {
   "cell_type": "code",
   "execution_count": 61,
   "id": "5764dd5e",
   "metadata": {},
   "outputs": [],
   "source": [
    "def extractInt_very_bof_bof(xs : List[int], searchEven : bool) -> List[int]:\n",
    "    res : List[int] = []\n",
    "    for elem in xs:\n",
    "        if ((elem % 2) == 0) and searchEven:\n",
    "        # elem est pair et on cherche des entiers pairs (searchEven == True)\n",
    "                res.append(elem)\n",
    "        elif ((elem % 2) != 0) and (not searchEven):\n",
    "        # elem est impair et on cherche des entiers impairs (searchEven == False)\n",
    "                res.append(elem)\n",
    "    return res"
   ]
  },
  {
   "cell_type": "markdown",
   "id": "c68a1afd",
   "metadata": {},
   "source": [
    "Ca marche !"
   ]
  },
  {
   "cell_type": "code",
   "execution_count": 62,
   "id": "81141ca8",
   "metadata": {},
   "outputs": [
    {
     "data": {
      "text/plain": [
       "[4, 6, 0]"
      ]
     },
     "execution_count": 62,
     "metadata": {},
     "output_type": "execute_result"
    }
   ],
   "source": [
    "extractInt_very_bof_bof([1, 4, 6, 7, 45, 0], True)"
   ]
  },
  {
   "cell_type": "code",
   "execution_count": 63,
   "id": "a456d1e9",
   "metadata": {},
   "outputs": [
    {
     "data": {
      "text/plain": [
       "[1, 7, 45]"
      ]
     },
     "execution_count": 63,
     "metadata": {},
     "output_type": "execute_result"
    }
   ],
   "source": [
    "extractInt_very_bof_bof([1, 4, 6, 7, 45, 0], False)"
   ]
  },
  {
   "cell_type": "markdown",
   "id": "fe8b532f",
   "metadata": {},
   "source": [
    "Mais bonne chance pour démêler les spaghettis !"
   ]
  },
  {
   "cell_type": "markdown",
   "id": "55c4e03b",
   "metadata": {},
   "source": [
    "## Todo: Fonctions d'ordre supérieur et décorateurs"
   ]
  },
  {
   "cell_type": "code",
   "execution_count": null,
   "id": "d77f8c91",
   "metadata": {},
   "outputs": [],
   "source": []
  }
 ],
 "metadata": {
  "kernelspec": {
   "display_name": "Python 3 (ipykernel)",
   "language": "python",
   "name": "python3"
  },
  "language_info": {
   "codemirror_mode": {
    "name": "ipython",
    "version": 3
   },
   "file_extension": ".py",
   "mimetype": "text/x-python",
   "name": "python",
   "nbconvert_exporter": "python",
   "pygments_lexer": "ipython3",
   "version": "3.11.11"
  },
  "latex_envs": {
   "LaTeX_envs_menu_present": true,
   "autoclose": false,
   "autocomplete": true,
   "bibliofile": "biblio.bib",
   "cite_by": "apalike",
   "current_citInitial": 1,
   "eqLabelWithNumbers": true,
   "eqNumInitial": 1,
   "hotkeys": {
    "equation": "Ctrl-E",
    "itemize": "Ctrl-I"
   },
   "labels_anchors": false,
   "latex_user_defs": false,
   "report_style_numbering": false,
   "user_envs_cfg": false
  }
 },
 "nbformat": 4,
 "nbformat_minor": 5
}
