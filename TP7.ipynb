{
 "cells": [
  {
   "cell_type": "markdown",
   "id": "09205fb6",
   "metadata": {},
   "source": [
    "# Graphes : pathfinding avec A*"
   ]
  },
  {
   "cell_type": "markdown",
   "id": "8a47c0aa",
   "metadata": {},
   "source": [
    "L'algorithme $A^*$ (A étoile) permet de trouver **le plus court chemin entre 2 noeuds d'un graphe**. C'est un algorithme classique très utilisé dans de nombreux domaines tels que par exemple les jeux vidéo ou le calcul d'itinéraires. Il en existe d'autres comme Greedy Search ou Dijkstra.\n",
    "\n",
    "Les schémas ci-dessous sont tirés du livre de Peter Norvig, Stuart Russell, \"Intelligence artificielle, une approche moderne\".\n",
    "\n",
    "![Réseau routier](img/romania-distances.pdf)\n",
    "\n",
    "![Distances](img/romania-sld.pdf)\n",
    "\n",
    "Le principe de $A^*$ est le suivant : chaque noeud est caractérisé par ses coordonnées $(x, y)$, un coût pour atteindre ce noeud depuis le noeud initial, et une *valeur heuristique* c'est-à-dire une estimation du coût nécessaire pour atteindre le noeud final. Noter que $A^*$ peut être utilisé chaque fois qu'il est possible de décrire un problème dans ces termes et pas seulement dans le cas de la recherche d'un itinéraire. Mais dans notre exemple, le coût est la distance parcourue depuis le noeud de départ, et la valeur heuristique est la distance \"à vol d'oiseau\" pour atteindre la destination. La distance à vol d'oiseau est une estimation *minorante* de la distance qu'il faudra réellement parcourir. C'est une caractéristique important de l'heuristique pour garantir que le chemin trouvé sera *optimal* c'est-à-dire le plus court.  \n",
    "\n",
    "A partir d'un noeud donné, on regarde quels sont les noeuds immédiatement atteignables dans le graphe et on calcul leur valeur = coût + heuristique. On ajoute tous ces noeuds à une liste de noeuds à explorer, et on se rend sur le noeud ayant la valeur la plus basse. Puis l'on recommence cette procédure jusqu'au noeud final.  \n",
    "\n",
    "Prenons un exemple. On cherche le plus court chemin entre la ville de Arad et Bucarest. Voici l'exploration faite par $A^*$ :\n",
    "\n",
    "![A-étoile](img/astar-progress.pdf)"
   ]
  },
  {
   "cell_type": "markdown",
   "id": "853386b2",
   "metadata": {},
   "source": [
    "Voici l'algorithme $A^*$ (dans le cas où l'heuristique est minorante) en pseudo-code :"
   ]
  },
  {
   "cell_type": "markdown",
   "id": "9b70afae",
   "metadata": {},
   "source": [
    "**Fonction astart(g : Graphe, objectif : Noeud, depart : Noeud):**\n",
    "        \n",
    "        {Liste des noeuds déjà rencontrés}\n",
    "        closedList = []\n",
    "        \n",
    "        {Liste des noeuds à explorer}\n",
    "        openList = []\n",
    "        openList.ajouter(depart)\n",
    "        \n",
    "        tant que openList n'est pas vide:\n",
    "           u = openList.retirer_meilleur_noeud()\n",
    "           closedList.ajouter(u)\n",
    "           si u == objectif:\n",
    "               chemin = reconstituer_chemin(u , objectif)\n",
    "               retourner chemin\n",
    "           pour chaque voisin v de u dans g:\n",
    "               v.cout = u.cout + distance(u, v)\n",
    "               v.heuristique = v.cout + estimation_distance(v, objectif)\n",
    "               si non(v existe dans closedList):\n",
    "                    openList.ajouter(v)\n",
    "       retourner échec"
   ]
  },
  {
   "cell_type": "markdown",
   "id": "b2f04fe1",
   "metadata": {},
   "source": [
    "## Exercice :\n",
    "- Implémenter $A^*$ en python\n",
    "- Tester $A^*$ avec le graphe de l'exemple   "
   ]
  },
  {
   "cell_type": "code",
   "execution_count": null,
   "id": "1ae7529d",
   "metadata": {},
   "outputs": [],
   "source": []
  }
 ],
 "metadata": {
  "kernelspec": {
   "display_name": "Python 3 (ipykernel)",
   "language": "python",
   "name": "python3"
  },
  "language_info": {
   "codemirror_mode": {
    "name": "ipython",
    "version": 3
   },
   "file_extension": ".py",
   "mimetype": "text/x-python",
   "name": "python",
   "nbconvert_exporter": "python",
   "pygments_lexer": "ipython3",
   "version": "3.11.7"
  }
 },
 "nbformat": 4,
 "nbformat_minor": 5
}
