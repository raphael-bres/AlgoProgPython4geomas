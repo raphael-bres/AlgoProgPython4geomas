{
 "cells": [
  {
   "cell_type": "markdown",
   "metadata": {},
   "source": [
    "# Programmation Orientée Objet"
   ]
  },
  {
   "cell_type": "code",
   "execution_count": 33,
   "metadata": {
    "scrolled": true
   },
   "outputs": [
    {
     "name": "stdout",
     "output_type": "stream",
     "text": [
      "Requirement already satisfied: nb_mypy in /opt/conda/lib/python3.11/site-packages (1.0.5)\n",
      "Requirement already satisfied: astor<1,>=0.8 in /opt/conda/lib/python3.11/site-packages (from nb_mypy) (0.8.1)\n",
      "Requirement already satisfied: mypy<2,>=1 in /opt/conda/lib/python3.11/site-packages (from nb_mypy) (1.13.0)\n",
      "Requirement already satisfied: ipython<9,>=8.0 in /opt/conda/lib/python3.11/site-packages (from nb_mypy) (8.27.0)\n",
      "Requirement already satisfied: decorator in /opt/conda/lib/python3.11/site-packages (from ipython<9,>=8.0->nb_mypy) (5.1.1)\n",
      "Requirement already satisfied: jedi>=0.16 in /opt/conda/lib/python3.11/site-packages (from ipython<9,>=8.0->nb_mypy) (0.19.1)\n",
      "Requirement already satisfied: matplotlib-inline in /opt/conda/lib/python3.11/site-packages (from ipython<9,>=8.0->nb_mypy) (0.1.7)\n",
      "Requirement already satisfied: prompt-toolkit<3.1.0,>=3.0.41 in /opt/conda/lib/python3.11/site-packages (from ipython<9,>=8.0->nb_mypy) (3.0.47)\n",
      "Requirement already satisfied: pygments>=2.4.0 in /opt/conda/lib/python3.11/site-packages (from ipython<9,>=8.0->nb_mypy) (2.18.0)\n",
      "Requirement already satisfied: stack-data in /opt/conda/lib/python3.11/site-packages (from ipython<9,>=8.0->nb_mypy) (0.6.2)\n",
      "Requirement already satisfied: traitlets>=5.13.0 in /opt/conda/lib/python3.11/site-packages (from ipython<9,>=8.0->nb_mypy) (5.14.3)\n",
      "Requirement already satisfied: typing-extensions>=4.6 in /opt/conda/lib/python3.11/site-packages (from ipython<9,>=8.0->nb_mypy) (4.12.2)\n",
      "Requirement already satisfied: pexpect>4.3 in /opt/conda/lib/python3.11/site-packages (from ipython<9,>=8.0->nb_mypy) (4.9.0)\n",
      "Requirement already satisfied: mypy-extensions>=1.0.0 in /opt/conda/lib/python3.11/site-packages (from mypy<2,>=1->nb_mypy) (1.0.0)\n",
      "Requirement already satisfied: parso<0.9.0,>=0.8.3 in /opt/conda/lib/python3.11/site-packages (from jedi>=0.16->ipython<9,>=8.0->nb_mypy) (0.8.4)\n",
      "Requirement already satisfied: ptyprocess>=0.5 in /opt/conda/lib/python3.11/site-packages (from pexpect>4.3->ipython<9,>=8.0->nb_mypy) (0.7.0)\n",
      "Requirement already satisfied: wcwidth in /opt/conda/lib/python3.11/site-packages (from prompt-toolkit<3.1.0,>=3.0.41->ipython<9,>=8.0->nb_mypy) (0.2.13)\n",
      "Requirement already satisfied: executing>=1.2.0 in /opt/conda/lib/python3.11/site-packages (from stack-data->ipython<9,>=8.0->nb_mypy) (2.1.0)\n",
      "Requirement already satisfied: asttokens>=2.1.0 in /opt/conda/lib/python3.11/site-packages (from stack-data->ipython<9,>=8.0->nb_mypy) (2.4.1)\n",
      "Requirement already satisfied: pure-eval in /opt/conda/lib/python3.11/site-packages (from stack-data->ipython<9,>=8.0->nb_mypy) (0.2.3)\n",
      "Requirement already satisfied: six>=1.12.0 in /opt/conda/lib/python3.11/site-packages (from asttokens>=2.1.0->stack-data->ipython<9,>=8.0->nb_mypy) (1.16.0)\n",
      "Requirement already satisfied: requests in /opt/conda/lib/python3.11/site-packages (2.32.3)\n",
      "Requirement already satisfied: charset-normalizer<4,>=2 in /opt/conda/lib/python3.11/site-packages (from requests) (3.3.2)\n",
      "Requirement already satisfied: idna<4,>=2.5 in /opt/conda/lib/python3.11/site-packages (from requests) (3.8)\n",
      "Requirement already satisfied: urllib3<3,>=1.21.1 in /opt/conda/lib/python3.11/site-packages (from requests) (2.2.2)\n",
      "Requirement already satisfied: certifi>=2017.4.17 in /opt/conda/lib/python3.11/site-packages (from requests) (2024.8.30)\n",
      "Requirement already satisfied: folium in /opt/conda/lib/python3.11/site-packages (0.18.0)\n",
      "Requirement already satisfied: branca>=0.6.0 in /opt/conda/lib/python3.11/site-packages (from folium) (0.8.0)\n",
      "Requirement already satisfied: jinja2>=2.9 in /opt/conda/lib/python3.11/site-packages (from folium) (3.1.4)\n",
      "Requirement already satisfied: numpy in /opt/conda/lib/python3.11/site-packages (from folium) (1.26.4)\n",
      "Requirement already satisfied: requests in /opt/conda/lib/python3.11/site-packages (from folium) (2.32.3)\n",
      "Requirement already satisfied: xyzservices in /home/fiorinhu/.local/lib/python3.11/site-packages (from folium) (2024.9.0)\n",
      "Requirement already satisfied: MarkupSafe>=2.0 in /opt/conda/lib/python3.11/site-packages (from jinja2>=2.9->folium) (2.1.5)\n",
      "Requirement already satisfied: charset-normalizer<4,>=2 in /opt/conda/lib/python3.11/site-packages (from requests->folium) (3.3.2)\n",
      "Requirement already satisfied: idna<4,>=2.5 in /opt/conda/lib/python3.11/site-packages (from requests->folium) (3.8)\n",
      "Requirement already satisfied: urllib3<3,>=1.21.1 in /opt/conda/lib/python3.11/site-packages (from requests->folium) (2.2.2)\n",
      "Requirement already satisfied: certifi>=2017.4.17 in /opt/conda/lib/python3.11/site-packages (from requests->folium) (2024.8.30)\n"
     ]
    }
   ],
   "source": [
    "!pip install nb_mypy\n",
    "!pip install requests\n",
    "!pip install folium"
   ]
  },
  {
   "cell_type": "code",
   "execution_count": 18,
   "metadata": {},
   "outputs": [
    {
     "name": "stdout",
     "output_type": "stream",
     "text": [
      "The nb_mypy extension is already loaded. To reload it, use:\n",
      "  %reload_ext nb_mypy\n"
     ]
    }
   ],
   "source": [
    "%load_ext nb_mypy"
   ]
  },
  {
   "cell_type": "markdown",
   "metadata": {},
   "source": [
    "Il est important de bien comprendre la Programmation Orientée Objet (POO) car en python \"tout est objet\". \n",
    "\n",
    "On peut définir les **objets** (on dit aussi **instances**) comme les éléments d'un \"super dictionnaire\" qu'on appelle **classe d'objets**.  \n",
    "\n",
    "Pour rendre cela plus concret, voyons un exemple. Reprenons la liste des équipements de Grenoble :"
   ]
  },
  {
   "cell_type": "code",
   "execution_count": 19,
   "metadata": {},
   "outputs": [],
   "source": [
    "mdj = {\n",
    "    \"id_equip\" : 1907,\n",
    "    \"nom\" : \"Maison des Jeux\",\n",
    "    \"adresse\" : \"48 Quai de France\",\n",
    "    \"domaine\" : \"Sports et Loisirs\",\n",
    "    \"sous_domaine\" : \"Equipements socioculturels\"}"
   ]
  },
  {
   "cell_type": "code",
   "execution_count": 20,
   "metadata": {},
   "outputs": [
    {
     "data": {
      "text/plain": [
       "{'id_equip': 1907,\n",
       " 'nom': 'Maison des Jeux',\n",
       " 'adresse': '48 Quai de France',\n",
       " 'domaine': 'Sports et Loisirs',\n",
       " 'sous_domaine': 'Equipements socioculturels'}"
      ]
     },
     "execution_count": 20,
     "metadata": {},
     "output_type": "execute_result"
    }
   ],
   "source": [
    "mdj"
   ]
  },
  {
   "cell_type": "code",
   "execution_count": 21,
   "metadata": {},
   "outputs": [
    {
     "data": {
      "text/plain": [
       "dict"
      ]
     },
     "execution_count": 21,
     "metadata": {},
     "output_type": "execute_result"
    }
   ],
   "source": [
    "type(mdj)"
   ]
  },
  {
   "cell_type": "code",
   "execution_count": 22,
   "metadata": {},
   "outputs": [],
   "source": [
    "emhb = {\n",
    "   \"id_equip\" : 258,\n",
    "    \"nom\" : \"Ecole maternelle Houille Blanche\",\n",
    "    \"adresse\" : \"3 Rue de la Houille Blanche\",\n",
    "    \"domaine\" : \"Education\",\n",
    "    \"sous_domaine\" : \"Ecoles maternelles\"}"
   ]
  },
  {
   "cell_type": "code",
   "execution_count": 23,
   "metadata": {
    "scrolled": true
   },
   "outputs": [
    {
     "data": {
      "text/plain": [
       "{'id_equip': 258,\n",
       " 'nom': 'Ecole maternelle Houille Blanche',\n",
       " 'adresse': '3 Rue de la Houille Blanche',\n",
       " 'domaine': 'Education',\n",
       " 'sous_domaine': 'Ecoles maternelles'}"
      ]
     },
     "execution_count": 23,
     "metadata": {},
     "output_type": "execute_result"
    }
   ],
   "source": [
    "emhb"
   ]
  },
  {
   "cell_type": "code",
   "execution_count": 24,
   "metadata": {},
   "outputs": [
    {
     "data": {
      "text/plain": [
       "dict"
      ]
     },
     "execution_count": 24,
     "metadata": {},
     "output_type": "execute_result"
    }
   ],
   "source": [
    "type(emhb)"
   ]
  },
  {
   "cell_type": "markdown",
   "metadata": {},
   "source": [
    "Les équipements de type dictionnaire *mdj* et *emhb* partagent *implicitement* une même structure de données, c'est-à-dire le même **type**. Une bonne idée serait de rendre *explicite* ce type afin de s'assurer que tous les équipements auront bien tous la même structure. Ce type pourra aussi être réutilisée et partagée dans d'autres développements pour que tous les *objets de type équipements aient la même structure* ou \"modèle\". On obtient cela en créant une classe d'objets :"
   ]
  },
  {
   "cell_type": "code",
   "execution_count": 25,
   "metadata": {},
   "outputs": [],
   "source": [
    "class Equipement:\n",
    "    \n",
    "    # Tous les équipements auront un id, un nom, une adresse etc.\n",
    "    # Ceci est le constructeur d'objets\n",
    "    def __init__(self, id_equip : int, nom : str, adresse : str = \"\", domaine : str = \"\", sous_domaine : str = \"\") -> None:\n",
    "        self.id_equip = id_equip\n",
    "        self.nom = nom\n",
    "        self.adresse = adresse\n",
    "        self.domaine = domaine\n",
    "        self.sous_domaine = sous_domaine"
   ]
  },
  {
   "cell_type": "markdown",
   "metadata": {},
   "source": [
    "Création d'une objet :"
   ]
  },
  {
   "cell_type": "code",
   "execution_count": 26,
   "metadata": {},
   "outputs": [],
   "source": [
    "omdj = Equipement(id_equip = 1907, nom = \"Maison des Jeux\")"
   ]
  },
  {
   "cell_type": "markdown",
   "metadata": {},
   "source": [
    "On accède aux *attributs* d'un objet en utilisant la notation pointée :"
   ]
  },
  {
   "cell_type": "code",
   "execution_count": 27,
   "metadata": {},
   "outputs": [
    {
     "data": {
      "text/plain": [
       "'Maison des Jeux'"
      ]
     },
     "execution_count": 27,
     "metadata": {},
     "output_type": "execute_result"
    }
   ],
   "source": [
    "omdj.nom"
   ]
  },
  {
   "cell_type": "code",
   "execution_count": 28,
   "metadata": {},
   "outputs": [
    {
     "data": {
      "text/plain": [
       "''"
      ]
     },
     "execution_count": 28,
     "metadata": {},
     "output_type": "execute_result"
    }
   ],
   "source": [
    "omdj.adresse"
   ]
  },
  {
   "cell_type": "code",
   "execution_count": 29,
   "metadata": {},
   "outputs": [],
   "source": [
    "omdj.adresse = \"48 Quai de France\""
   ]
  },
  {
   "cell_type": "code",
   "execution_count": 30,
   "metadata": {},
   "outputs": [
    {
     "data": {
      "text/plain": [
       "'48 Quai de France'"
      ]
     },
     "execution_count": 30,
     "metadata": {},
     "output_type": "execute_result"
    }
   ],
   "source": [
    "omdj.adresse"
   ]
  },
  {
   "cell_type": "code",
   "execution_count": 31,
   "metadata": {},
   "outputs": [
    {
     "data": {
      "text/plain": [
       "__main__.Equipement"
      ]
     },
     "execution_count": 31,
     "metadata": {},
     "output_type": "execute_result"
    }
   ],
   "source": [
    "type(omdj)"
   ]
  },
  {
   "cell_type": "markdown",
   "metadata": {},
   "source": [
    "On a donc bien défini notre propre type Equipement."
   ]
  },
  {
   "cell_type": "markdown",
   "metadata": {},
   "source": [
    "Mais en quoi une classe d'objets est-elle un \"super dictionnaire\" ?  \n",
    "\n",
    "Tout d'abord elle permet de donner aux objets des *comportements* ou *méthodes* qui leurs sont propres. Ainsi, on peut décider que tout équipement peut déterminer sa position :"
   ]
  },
  {
   "cell_type": "code",
   "execution_count": 34,
   "metadata": {},
   "outputs": [],
   "source": [
    "from typing import Dict, Any, Optional\n",
    "import requests, json\n",
    "import urllib.parse\n",
    "\n",
    "class Equipement:\n",
    "    \"\"\"Equipement de la ville de Grenoble\"\"\"\n",
    "    \n",
    "    # Attribut 'statique' càd commun à tous les équipements\n",
    "    API_URL = \"https://api-adresse.data.gouv.fr/search/?q=\"\n",
    "    \n",
    "    # Ceci est le constructeur d'objets\n",
    "    def __init__(self, \n",
    "                 id_equip : int, \n",
    "                 nom : str, \n",
    "                 adresse : str = \"\", \n",
    "                 domaine : str = \"\", \n",
    "                 sous_domaine : str = \"\") -> None:\n",
    "        \n",
    "        self.id_equip = id_equip\n",
    "        self.nom = nom\n",
    "        self.adresse = adresse\n",
    "        self.domaine = domaine\n",
    "        self.sous_domaine = sous_domaine\n",
    "        \n",
    "    # Géocodage de l'équipement\n",
    "    def geocode(self) -> Optional[Dict[Any, Any]]:\n",
    "        if self.adresse:\n",
    "            r = requests.get(self.API_URL + urllib.parse.quote(self.adresse + \" Grenoble\"))\n",
    "            return json.loads(r.content.decode('utf-8'))\n",
    "        else:\n",
    "            print(\"Adresse vide. Géocodage impossible\")\n",
    "            return None"
   ]
  },
  {
   "cell_type": "code",
   "execution_count": 35,
   "metadata": {},
   "outputs": [
    {
     "data": {
      "text/plain": [
       "'https://api-adresse.data.gouv.fr/search/?q='"
      ]
     },
     "execution_count": 35,
     "metadata": {},
     "output_type": "execute_result"
    }
   ],
   "source": [
    "Equipement.API_URL"
   ]
  },
  {
   "cell_type": "code",
   "execution_count": 36,
   "metadata": {},
   "outputs": [],
   "source": [
    "olc = Equipement(id_equip = 136, nom = \"Le Ciel\", adresse = \"2 rue Général Marchand\", domaine = \"Culture\")"
   ]
  },
  {
   "cell_type": "code",
   "execution_count": 37,
   "metadata": {},
   "outputs": [
    {
     "data": {
      "text/plain": [
       "'2 rue Général Marchand'"
      ]
     },
     "execution_count": 37,
     "metadata": {},
     "output_type": "execute_result"
    }
   ],
   "source": [
    "olc.adresse"
   ]
  },
  {
   "cell_type": "code",
   "execution_count": 38,
   "metadata": {},
   "outputs": [
    {
     "data": {
      "text/plain": [
       "{'type': 'FeatureCollection',\n",
       " 'version': 'draft',\n",
       " 'features': [{'type': 'Feature',\n",
       "   'geometry': {'type': 'Point', 'coordinates': [5.73139, 45.189442]},\n",
       "   'properties': {'label': '2 Rue Général Marchand 38000 Grenoble',\n",
       "    'score': 0.9647945454545455,\n",
       "    'housenumber': '2',\n",
       "    'id': '38185_3130_00002',\n",
       "    'name': '2 Rue Général Marchand',\n",
       "    'postcode': '38000',\n",
       "    'citycode': '38185',\n",
       "    'x': 914461.26,\n",
       "    'y': 6458168.4,\n",
       "    'city': 'Grenoble',\n",
       "    'context': '38, Isère, Auvergne-Rhône-Alpes',\n",
       "    'type': 'housenumber',\n",
       "    'importance': 0.61274,\n",
       "    'street': 'Rue Général Marchand'}}],\n",
       " 'attribution': 'BAN',\n",
       " 'licence': 'ETALAB-2.0',\n",
       " 'query': '2 rue Général Marchand Grenoble',\n",
       " 'limit': 5}"
      ]
     },
     "execution_count": 38,
     "metadata": {},
     "output_type": "execute_result"
    }
   ],
   "source": [
    "Equipement.geocode(olc)"
   ]
  },
  {
   "cell_type": "markdown",
   "metadata": {},
   "source": [
    "Ou de façon équivalente :"
   ]
  },
  {
   "cell_type": "code",
   "execution_count": 39,
   "metadata": {},
   "outputs": [
    {
     "data": {
      "text/plain": [
       "{'type': 'FeatureCollection',\n",
       " 'version': 'draft',\n",
       " 'features': [{'type': 'Feature',\n",
       "   'geometry': {'type': 'Point', 'coordinates': [5.73139, 45.189442]},\n",
       "   'properties': {'label': '2 Rue Général Marchand 38000 Grenoble',\n",
       "    'score': 0.9647945454545455,\n",
       "    'housenumber': '2',\n",
       "    'id': '38185_3130_00002',\n",
       "    'name': '2 Rue Général Marchand',\n",
       "    'postcode': '38000',\n",
       "    'citycode': '38185',\n",
       "    'x': 914461.26,\n",
       "    'y': 6458168.4,\n",
       "    'city': 'Grenoble',\n",
       "    'context': '38, Isère, Auvergne-Rhône-Alpes',\n",
       "    'type': 'housenumber',\n",
       "    'importance': 0.61274,\n",
       "    'street': 'Rue Général Marchand'}}],\n",
       " 'attribution': 'BAN',\n",
       " 'licence': 'ETALAB-2.0',\n",
       " 'query': '2 rue Général Marchand Grenoble',\n",
       " 'limit': 5}"
      ]
     },
     "execution_count": 39,
     "metadata": {},
     "output_type": "execute_result"
    }
   ],
   "source": [
    "olc.geocode()"
   ]
  },
  {
   "cell_type": "code",
   "execution_count": 40,
   "metadata": {},
   "outputs": [
    {
     "name": "stdout",
     "output_type": "stream",
     "text": [
      "Adresse vide. Géocodage impossible\n"
     ]
    }
   ],
   "source": [
    "olps = Equipement(id_equip = 2120, nom = \"Le Prunier Sauvage\")\n",
    "olps.geocode()"
   ]
  },
  {
   "cell_type": "markdown",
   "metadata": {},
   "source": [
    "Un autre \"super pouvoir\" des classes de d'objets est la possibilité est le mécanisme *d'héritage*, c'est-à-dire la possibilité de définir des relations **types/sous-types** entre classes. Ainsi une école est un **sous-type** d'équipement. Il \"hérite\" de toutes les caractéristiques (attributs et méthodes) de la classe \"parente\" tout en ayant des caractéristiques qui lui sont propres."
   ]
  },
  {
   "cell_type": "markdown",
   "metadata": {},
   "source": [
    "![Instance d'une classe](./img/bibliotheque3.png)\n",
    "![heritage](./img/heritage.png)"
   ]
  },
  {
   "cell_type": "markdown",
   "metadata": {},
   "source": [
    "![hierarchie](./img/hierarchie2.png)\n",
    "![hierarchie2](./img/hierarchie.png)"
   ]
  },
  {
   "cell_type": "markdown",
   "metadata": {},
   "source": [
    "![tables](./img/tables.png)"
   ]
  },
  {
   "cell_type": "markdown",
   "metadata": {},
   "source": [
    "Autre exemple, un effectif d'élèves et une zone scolaire (où tous les enfants qui réside dans cette zone doivent aller à l'école correspondante). Par ce mécanisme d'héritage, une école est une *spécialisation* d'équipement, et équipement est une *généralisation* d'école :"
   ]
  },
  {
   "cell_type": "code",
   "execution_count": 41,
   "metadata": {},
   "outputs": [],
   "source": [
    "from enum import Enum\n",
    "# Une école est soit élémentaire soit maternelle\n",
    "class Type_Ecole(Enum):\n",
    "    ELEMENTAIRE = 0\n",
    "    MATERNELLE = 1"
   ]
  },
  {
   "cell_type": "code",
   "execution_count": 42,
   "metadata": {},
   "outputs": [
    {
     "data": {
      "text/plain": [
       "<Type_Ecole.ELEMENTAIRE: 0>"
      ]
     },
     "execution_count": 42,
     "metadata": {},
     "output_type": "execute_result"
    }
   ],
   "source": [
    "Type_Ecole.ELEMENTAIRE"
   ]
  },
  {
   "cell_type": "code",
   "execution_count": 43,
   "metadata": {},
   "outputs": [],
   "source": [
    "class Ecole(Equipement):\n",
    "    \"\"\"Ecole de Grenoble\"\"\"\n",
    "    \n",
    "    # Constructeur\n",
    "    def __init__(self : Equipement, \n",
    "                 id_equip : int, \n",
    "                 nom : str, \n",
    "                 effectif : int, \n",
    "                 zone : str, \n",
    "                 type_ecole : Type_Ecole, \n",
    "                 adresse_ecole : str = \"\", \n",
    "                 domaine : str = \"\", \n",
    "                 sous_domaine : str = \"\") -> None:\n",
    "        \n",
    "        # On utilise ici le constructeur de la classe parente Equipement\n",
    "        Equipement.__init__(self, id_equip, nom, adresse = adresse_ecole, domaine = \"\", sous_domaine = \"\")\n",
    "        self.type_ecole = type_ecole\n",
    "        self.effectif = effectif\n",
    "        self.zone = zone   "
   ]
  },
  {
   "cell_type": "code",
   "execution_count": 44,
   "metadata": {
    "scrolled": true
   },
   "outputs": [
    {
     "data": {
      "text/plain": [
       "<Projected CRS: EPSG:2154>\n",
       "Name: RGF93 v1 / Lambert-93\n",
       "Axis Info [cartesian]:\n",
       "- X[east]: Easting (metre)\n",
       "- Y[north]: Northing (metre)\n",
       "Area of Use:\n",
       "- name: France - onshore and offshore, mainland and Corsica (France métropolitaine including Corsica).\n",
       "- bounds: (-9.86, 41.15, 10.38, 51.56)\n",
       "Coordinate Operation:\n",
       "- name: Lambert-93\n",
       "- method: Lambert Conic Conformal (2SP)\n",
       "Datum: Reseau Geodesique Francais 1993 v1\n",
       "- Ellipsoid: GRS 1980\n",
       "- Prime Meridian: Greenwich"
      ]
     },
     "execution_count": 44,
     "metadata": {},
     "output_type": "execute_result"
    }
   ],
   "source": [
    "import folium\n",
    "import pandas\n",
    "import geopandas\n",
    "\n",
    "# Lit les zones scolaires\n",
    "zones_scolaires = geopandas.read_file(\"ecoles/decoupage_scolaire.geojson\")\n",
    "\n",
    "# Lit les effectifs\n",
    "effectifs_ecoles = pandas.read_csv(\"ecoles/effectifs_ecoles.csv\", sep = \",\")\n",
    "\n",
    "zones_scolaires.crs"
   ]
  },
  {
   "cell_type": "markdown",
   "metadata": {},
   "source": [
    "Pour cartographier sur Folium, il faut reprojeter en WGS84 (EPSG 4326)."
   ]
  },
  {
   "cell_type": "code",
   "execution_count": 45,
   "metadata": {
    "scrolled": true
   },
   "outputs": [
    {
     "data": {
      "text/html": [
       "<div>\n",
       "<style scoped>\n",
       "    .dataframe tbody tr th:only-of-type {\n",
       "        vertical-align: middle;\n",
       "    }\n",
       "\n",
       "    .dataframe tbody tr th {\n",
       "        vertical-align: top;\n",
       "    }\n",
       "\n",
       "    .dataframe thead th {\n",
       "        text-align: right;\n",
       "    }\n",
       "</style>\n",
       "<table border=\"1\" class=\"dataframe\">\n",
       "  <thead>\n",
       "    <tr style=\"text-align: right;\">\n",
       "      <th></th>\n",
       "      <th>nom</th>\n",
       "      <th>geometry</th>\n",
       "    </tr>\n",
       "  </thead>\n",
       "  <tbody>\n",
       "    <tr>\n",
       "      <th>0</th>\n",
       "      <td>ELISEE CHATIN</td>\n",
       "      <td>MULTIPOLYGON (((5.71648 45.18036, 5.71778 45.1...</td>\n",
       "    </tr>\n",
       "    <tr>\n",
       "      <th>1</th>\n",
       "      <td>JARDIN DE VILLE</td>\n",
       "      <td>MULTIPOLYGON (((5.72768 45.19026, 5.72796 45.1...</td>\n",
       "    </tr>\n",
       "    <tr>\n",
       "      <th>2</th>\n",
       "      <td>ANATOLE FRANCE</td>\n",
       "      <td>MULTIPOLYGON (((5.70782 45.17295, 5.70791 45.1...</td>\n",
       "    </tr>\n",
       "    <tr>\n",
       "      <th>3</th>\n",
       "      <td>LAC</td>\n",
       "      <td>MULTIPOLYGON (((5.73549 45.16276, 5.73593 45.1...</td>\n",
       "    </tr>\n",
       "    <tr>\n",
       "      <th>4</th>\n",
       "      <td>SIDI-BRAHIM</td>\n",
       "      <td>MULTIPOLYGON (((5.71677 45.17376, 5.7168 45.17...</td>\n",
       "    </tr>\n",
       "  </tbody>\n",
       "</table>\n",
       "</div>"
      ],
      "text/plain": [
       "               nom                                           geometry\n",
       "0    ELISEE CHATIN  MULTIPOLYGON (((5.71648 45.18036, 5.71778 45.1...\n",
       "1  JARDIN DE VILLE  MULTIPOLYGON (((5.72768 45.19026, 5.72796 45.1...\n",
       "2   ANATOLE FRANCE  MULTIPOLYGON (((5.70782 45.17295, 5.70791 45.1...\n",
       "3              LAC  MULTIPOLYGON (((5.73549 45.16276, 5.73593 45.1...\n",
       "4      SIDI-BRAHIM  MULTIPOLYGON (((5.71677 45.17376, 5.7168 45.17..."
      ]
     },
     "execution_count": 45,
     "metadata": {},
     "output_type": "execute_result"
    }
   ],
   "source": [
    "zs = zones_scolaires.to_crs(\"EPSG:4326\")\n",
    "zs.head()"
   ]
  },
  {
   "cell_type": "code",
   "execution_count": 46,
   "metadata": {},
   "outputs": [
    {
     "data": {
      "text/plain": [
       "28    184\n",
       "Name: effectifs, dtype: int64"
      ]
     },
     "execution_count": 46,
     "metadata": {},
     "output_type": "execute_result"
    }
   ],
   "source": [
    "# Effectif de l'école Nicolas Chorier\n",
    "df_chorier = effectifs_ecoles[effectifs_ecoles[\"nom\"] == \"NICOLAS CHORIER\"][\"effectifs\"]\n",
    "df_chorier"
   ]
  },
  {
   "cell_type": "markdown",
   "metadata": {},
   "source": [
    "df_chorier est un dataframe de la librairie pandas :"
   ]
  },
  {
   "cell_type": "code",
   "execution_count": 47,
   "metadata": {},
   "outputs": [
    {
     "data": {
      "text/plain": [
       "184"
      ]
     },
     "execution_count": 47,
     "metadata": {},
     "output_type": "execute_result"
    }
   ],
   "source": [
    "effectifs_chorier = df_chorier.iloc[0]\n",
    "effectifs_chorier"
   ]
  },
  {
   "cell_type": "code",
   "execution_count": 48,
   "metadata": {},
   "outputs": [
    {
     "data": {
      "text/plain": [
       "'{\"type\": \"FeatureCollection\", \"features\": [{\"id\": \"28\", \"type\": \"Feature\", \"properties\": {\"nom\": \"NICOLAS CHORIER\"}, \"geometry\": {\"type\": \"MultiPolygon\", \"coordinates\": [[[[5.711537000000001, 45.18265299999998], [5.7116039999999995, 45.18257199999998], [5.712424999999999, 45.18246899999998], [5.715399, 45.182095999999994], [5.716051999999999, 45.181991], [5.7169609999999995, 45.18184499999999], [5.717052999999998, 45.18211999999998], [5.717295999999998, 45.18282199999999], [5.717375999999999, 45.18306399999997], [5.717622999999998, 45.18380599999999], [5.717631, 45.18383399999999], [5.717671, 45.183952999999974], [5.717638999999999, 45.184094999999985], [5.717519999999999, 45.184608], [5.717472999999999, 45.184949999999986], [5.7174419999999975, 45.18501699999999], [5.717577999999999, 45.185044999999995], [5.7176979999999995, 45.18526099999998], [5.717820999999999, 45.18521199999998], [5.71791, 45.185246], [5.717652999999999, 45.18539199999998], [5.717730999999998, 45.185494999999996], [5.717594, 45.18554999999997], [5.71763, 45.18568899999999], [5.718138999999999, 45.18588499999999], [5.718038999999997, 45.18593399999999], [5.717744999999999, 45.18594699999998], [5.717723, 45.186092999999985], [5.717952999999998, 45.18613899999998], [5.718015999999999, 45.186230999999985], [5.718026, 45.186433999999984], [5.717235999999998, 45.18667599999997], [5.717139999999999, 45.18651199999998], [5.7168969999999995, 45.18651399999998], [5.716709999999999, 45.18638999999998], [5.716480999999999, 45.18689199999998], [5.716324999999999, 45.18720699999999], [5.716083, 45.18763599999998], [5.7160329999999995, 45.18765099999999], [5.715978999999998, 45.187736999999984], [5.715753999999999, 45.188220999999984], [5.715744999999999, 45.18824099999998], [5.715481999999998, 45.18825699999997], [5.715420999999999, 45.18810099999999], [5.715303999999998, 45.18808199999998], [5.714699, 45.18700900000001], [5.714495999999999, 45.18706399999997], [5.713793999999999, 45.18710599999999], [5.71373, 45.18710899999998], [5.713633, 45.187057999999986], [5.7136, 45.186904999999996], [5.713288999999999, 45.18669999999998], [5.713029999999999, 45.186712999999976], [5.713055999999997, 45.186856999999975], [5.71261, 45.186886999999984], [5.7126399999999995, 45.18711999999997], [5.712469, 45.18716699999998], [5.712443999999999, 45.18704699999999], [5.712164999999998, 45.18569199999998], [5.712025, 45.185009999999984], [5.711927, 45.18453599999998], [5.711873, 45.18427199999999], [5.711777, 45.183807], [5.711666999999999, 45.183269999999986], [5.711537000000001, 45.18265299999998]]]]}}]}'"
      ]
     },
     "execution_count": 48,
     "metadata": {},
     "output_type": "execute_result"
    }
   ],
   "source": [
    "# Zone scolaire de l'école Nicolas Chorier (EPSG 4326)\n",
    "zone_chorier = zs[zs['nom'] == 'NICOLAS CHORIER'].to_json()\n",
    "zone_chorier"
   ]
  },
  {
   "cell_type": "code",
   "execution_count": 49,
   "metadata": {},
   "outputs": [],
   "source": [
    "ecole_chorier = Ecole(\n",
    "    id_equip = 236, \n",
    "    nom = \"NICOLAS CHORIER\",\n",
    "    adresse_ecole = \"23 Rue Nicolas Chorier\",\n",
    "    effectif = effectifs_chorier, \n",
    "    zone = zone_chorier, \n",
    "    type_ecole = Type_Ecole.ELEMENTAIRE)"
   ]
  },
  {
   "cell_type": "code",
   "execution_count": 50,
   "metadata": {
    "scrolled": true
   },
   "outputs": [],
   "source": [
    "ec = ecole_chorier.geocode()"
   ]
  },
  {
   "cell_type": "code",
   "execution_count": 51,
   "metadata": {},
   "outputs": [
    {
     "data": {
      "text/plain": [
       "dict"
      ]
     },
     "execution_count": 51,
     "metadata": {},
     "output_type": "execute_result"
    }
   ],
   "source": [
    "type(ec)"
   ]
  },
  {
   "cell_type": "code",
   "execution_count": 52,
   "metadata": {},
   "outputs": [
    {
     "data": {
      "text/plain": [
       "{'type': 'FeatureCollection',\n",
       " 'version': 'draft',\n",
       " 'features': [{'type': 'Feature',\n",
       "   'geometry': {'type': 'Point', 'coordinates': [5.715179, 45.185812]},\n",
       "   'properties': {'label': '23 Rue Nicolas Chorier 38000 Grenoble',\n",
       "    'score': 0.9797327272727272,\n",
       "    'housenumber': '23',\n",
       "    'id': '38185_5290_00023',\n",
       "    'name': '23 Rue Nicolas Chorier',\n",
       "    'postcode': '38000',\n",
       "    'citycode': '38185',\n",
       "    'x': 913202.78,\n",
       "    'y': 6457721.6,\n",
       "    'city': 'Grenoble',\n",
       "    'context': '38, Isère, Auvergne-Rhône-Alpes',\n",
       "    'type': 'housenumber',\n",
       "    'importance': 0.77706,\n",
       "    'street': 'Rue Nicolas Chorier'}}],\n",
       " 'attribution': 'BAN',\n",
       " 'licence': 'ETALAB-2.0',\n",
       " 'query': '23 Rue Nicolas Chorier Grenoble',\n",
       " 'limit': 5}"
      ]
     },
     "execution_count": 52,
     "metadata": {},
     "output_type": "execute_result"
    }
   ],
   "source": [
    "ec"
   ]
  },
  {
   "cell_type": "code",
   "execution_count": 53,
   "metadata": {},
   "outputs": [],
   "source": [
    "from typing import List\n",
    "Geocodage = Optional[Dict[Any, Any]] # type synonyme\n",
    "def get_coordinates(g : Geocodage) -> List[int]:\n",
    "    if g: #Si g n'est pas None\n",
    "        return g[\"features\"][0][\"geometry\"][\"coordinates\"]\n",
    "    else:\n",
    "        return []"
   ]
  },
  {
   "cell_type": "code",
   "execution_count": 54,
   "metadata": {},
   "outputs": [
    {
     "data": {
      "text/plain": [
       "[5.715179, 45.185812]"
      ]
     },
     "execution_count": 54,
     "metadata": {},
     "output_type": "execute_result"
    }
   ],
   "source": [
    "get_coordinates(ec)"
   ]
  },
  {
   "cell_type": "code",
   "execution_count": 55,
   "metadata": {},
   "outputs": [
    {
     "data": {
      "text/plain": [
       "<folium.features.GeoJson at 0x7fbd20a1e450>"
      ]
     },
     "execution_count": 55,
     "metadata": {},
     "output_type": "execute_result"
    }
   ],
   "source": [
    "# Coordonnées de l'école Nicolas Chorier\n",
    "ec = ecole_chorier.geocode()\n",
    "ec_coordinates = get_coordinates(ec)\n",
    "\n",
    "# Inversion des coordonnées pour avoir [longitude, latitude]\n",
    "ec_coordinates.reverse()\n",
    "\n",
    "# Création d'une carte Folium centrée sur l'école\n",
    "map_chorier = folium.Map(ec_coordinates, zoom_start = 16)\n",
    "\n",
    "# Ajout d'un marqueur pour l'école\n",
    "folium.Marker(ec_coordinates, \n",
    "              popup = \"Effectif : \" + str(effectifs_chorier)).add_to(map_chorier)\n",
    "\n",
    "# Ajout de la zone scolaire\n",
    "folium.GeoJson(\n",
    "    data = zone_chorier,\n",
    "    name = \"Zone scolaire\"\n",
    ").add_to(map_chorier)"
   ]
  },
  {
   "cell_type": "code",
   "execution_count": 56,
   "metadata": {},
   "outputs": [
    {
     "data": {
      "text/html": [
       "<div style=\"width:100%;\"><div style=\"position:relative;width:100%;height:0;padding-bottom:60%;\"><span style=\"color:#565656\">Make this Notebook Trusted to load map: File -> Trust Notebook</span><iframe srcdoc=\"&lt;!DOCTYPE html&gt;\n",
       "&lt;html&gt;\n",
       "&lt;head&gt;\n",
       "    \n",
       "    &lt;meta http-equiv=&quot;content-type&quot; content=&quot;text/html; charset=UTF-8&quot; /&gt;\n",
       "    \n",
       "        &lt;script&gt;\n",
       "            L_NO_TOUCH = false;\n",
       "            L_DISABLE_3D = false;\n",
       "        &lt;/script&gt;\n",
       "    \n",
       "    &lt;style&gt;html, body {width: 100%;height: 100%;margin: 0;padding: 0;}&lt;/style&gt;\n",
       "    &lt;style&gt;#map {position:absolute;top:0;bottom:0;right:0;left:0;}&lt;/style&gt;\n",
       "    &lt;script src=&quot;https://cdn.jsdelivr.net/npm/leaflet@1.9.3/dist/leaflet.js&quot;&gt;&lt;/script&gt;\n",
       "    &lt;script src=&quot;https://code.jquery.com/jquery-3.7.1.min.js&quot;&gt;&lt;/script&gt;\n",
       "    &lt;script src=&quot;https://cdn.jsdelivr.net/npm/bootstrap@5.2.2/dist/js/bootstrap.bundle.min.js&quot;&gt;&lt;/script&gt;\n",
       "    &lt;script src=&quot;https://cdnjs.cloudflare.com/ajax/libs/Leaflet.awesome-markers/2.0.2/leaflet.awesome-markers.js&quot;&gt;&lt;/script&gt;\n",
       "    &lt;link rel=&quot;stylesheet&quot; href=&quot;https://cdn.jsdelivr.net/npm/leaflet@1.9.3/dist/leaflet.css&quot;/&gt;\n",
       "    &lt;link rel=&quot;stylesheet&quot; href=&quot;https://cdn.jsdelivr.net/npm/bootstrap@5.2.2/dist/css/bootstrap.min.css&quot;/&gt;\n",
       "    &lt;link rel=&quot;stylesheet&quot; href=&quot;https://netdna.bootstrapcdn.com/bootstrap/3.0.0/css/bootstrap-glyphicons.css&quot;/&gt;\n",
       "    &lt;link rel=&quot;stylesheet&quot; href=&quot;https://cdn.jsdelivr.net/npm/@fortawesome/fontawesome-free@6.2.0/css/all.min.css&quot;/&gt;\n",
       "    &lt;link rel=&quot;stylesheet&quot; href=&quot;https://cdnjs.cloudflare.com/ajax/libs/Leaflet.awesome-markers/2.0.2/leaflet.awesome-markers.css&quot;/&gt;\n",
       "    &lt;link rel=&quot;stylesheet&quot; href=&quot;https://cdn.jsdelivr.net/gh/python-visualization/folium/folium/templates/leaflet.awesome.rotate.min.css&quot;/&gt;\n",
       "    \n",
       "            &lt;meta name=&quot;viewport&quot; content=&quot;width=device-width,\n",
       "                initial-scale=1.0, maximum-scale=1.0, user-scalable=no&quot; /&gt;\n",
       "            &lt;style&gt;\n",
       "                #map_35934539c8fcf577ecfbcb92d86918c1 {\n",
       "                    position: relative;\n",
       "                    width: 100.0%;\n",
       "                    height: 100.0%;\n",
       "                    left: 0.0%;\n",
       "                    top: 0.0%;\n",
       "                }\n",
       "                .leaflet-container { font-size: 1rem; }\n",
       "            &lt;/style&gt;\n",
       "        \n",
       "&lt;/head&gt;\n",
       "&lt;body&gt;\n",
       "    \n",
       "    \n",
       "            &lt;div class=&quot;folium-map&quot; id=&quot;map_35934539c8fcf577ecfbcb92d86918c1&quot; &gt;&lt;/div&gt;\n",
       "        \n",
       "&lt;/body&gt;\n",
       "&lt;script&gt;\n",
       "    \n",
       "    \n",
       "            var map_35934539c8fcf577ecfbcb92d86918c1 = L.map(\n",
       "                &quot;map_35934539c8fcf577ecfbcb92d86918c1&quot;,\n",
       "                {\n",
       "                    center: [45.185812, 5.715179],\n",
       "                    crs: L.CRS.EPSG3857,\n",
       "                    zoom: 16,\n",
       "                    zoomControl: true,\n",
       "                    preferCanvas: false,\n",
       "                }\n",
       "            );\n",
       "\n",
       "            \n",
       "\n",
       "        \n",
       "    \n",
       "            var tile_layer_3a1215e93b370b184186d9f75887285e = L.tileLayer(\n",
       "                &quot;https://tile.openstreetmap.org/{z}/{x}/{y}.png&quot;,\n",
       "                {&quot;attribution&quot;: &quot;\\u0026copy; \\u003ca href=\\&quot;https://www.openstreetmap.org/copyright\\&quot;\\u003eOpenStreetMap\\u003c/a\\u003e contributors&quot;, &quot;detectRetina&quot;: false, &quot;maxNativeZoom&quot;: 19, &quot;maxZoom&quot;: 19, &quot;minZoom&quot;: 0, &quot;noWrap&quot;: false, &quot;opacity&quot;: 1, &quot;subdomains&quot;: &quot;abc&quot;, &quot;tms&quot;: false}\n",
       "            );\n",
       "        \n",
       "    \n",
       "            tile_layer_3a1215e93b370b184186d9f75887285e.addTo(map_35934539c8fcf577ecfbcb92d86918c1);\n",
       "        \n",
       "    \n",
       "            var marker_2d10dbbeee037873442ee6b2fb846cf4 = L.marker(\n",
       "                [45.185812, 5.715179],\n",
       "                {}\n",
       "            ).addTo(map_35934539c8fcf577ecfbcb92d86918c1);\n",
       "        \n",
       "    \n",
       "        var popup_70f836203de55d713a62a841428d41e5 = L.popup({&quot;maxWidth&quot;: &quot;100%&quot;});\n",
       "\n",
       "        \n",
       "            \n",
       "                var html_a0617b745f351b54ae9acd70a8ca57aa = $(`&lt;div id=&quot;html_a0617b745f351b54ae9acd70a8ca57aa&quot; style=&quot;width: 100.0%; height: 100.0%;&quot;&gt;Effectif : 184&lt;/div&gt;`)[0];\n",
       "                popup_70f836203de55d713a62a841428d41e5.setContent(html_a0617b745f351b54ae9acd70a8ca57aa);\n",
       "            \n",
       "        \n",
       "\n",
       "        marker_2d10dbbeee037873442ee6b2fb846cf4.bindPopup(popup_70f836203de55d713a62a841428d41e5)\n",
       "        ;\n",
       "\n",
       "        \n",
       "    \n",
       "    \n",
       "\n",
       "        function geo_json_9b915cf4b96b6be820e01efb567db97a_onEachFeature(feature, layer) {\n",
       "            layer.on({\n",
       "            });\n",
       "        };\n",
       "        var geo_json_9b915cf4b96b6be820e01efb567db97a = L.geoJson(null, {\n",
       "                onEachFeature: geo_json_9b915cf4b96b6be820e01efb567db97a_onEachFeature,\n",
       "            \n",
       "        });\n",
       "\n",
       "        function geo_json_9b915cf4b96b6be820e01efb567db97a_add (data) {\n",
       "            geo_json_9b915cf4b96b6be820e01efb567db97a\n",
       "                .addData(data);\n",
       "        }\n",
       "            geo_json_9b915cf4b96b6be820e01efb567db97a_add({&quot;features&quot;: [{&quot;geometry&quot;: {&quot;coordinates&quot;: [[[[5.711537000000001, 45.18265299999998], [5.7116039999999995, 45.18257199999998], [5.712424999999999, 45.18246899999998], [5.715399, 45.182095999999994], [5.716051999999999, 45.181991], [5.7169609999999995, 45.18184499999999], [5.717052999999998, 45.18211999999998], [5.717295999999998, 45.18282199999999], [5.717375999999999, 45.18306399999997], [5.717622999999998, 45.18380599999999], [5.717631, 45.18383399999999], [5.717671, 45.183952999999974], [5.717638999999999, 45.184094999999985], [5.717519999999999, 45.184608], [5.717472999999999, 45.184949999999986], [5.7174419999999975, 45.18501699999999], [5.717577999999999, 45.185044999999995], [5.7176979999999995, 45.18526099999998], [5.717820999999999, 45.18521199999998], [5.71791, 45.185246], [5.717652999999999, 45.18539199999998], [5.717730999999998, 45.185494999999996], [5.717594, 45.18554999999997], [5.71763, 45.18568899999999], [5.718138999999999, 45.18588499999999], [5.718038999999997, 45.18593399999999], [5.717744999999999, 45.18594699999998], [5.717723, 45.186092999999985], [5.717952999999998, 45.18613899999998], [5.718015999999999, 45.186230999999985], [5.718026, 45.186433999999984], [5.717235999999998, 45.18667599999997], [5.717139999999999, 45.18651199999998], [5.7168969999999995, 45.18651399999998], [5.716709999999999, 45.18638999999998], [5.716480999999999, 45.18689199999998], [5.716324999999999, 45.18720699999999], [5.716083, 45.18763599999998], [5.7160329999999995, 45.18765099999999], [5.715978999999998, 45.187736999999984], [5.715753999999999, 45.188220999999984], [5.715744999999999, 45.18824099999998], [5.715481999999998, 45.18825699999997], [5.715420999999999, 45.18810099999999], [5.715303999999998, 45.18808199999998], [5.714699, 45.18700900000001], [5.714495999999999, 45.18706399999997], [5.713793999999999, 45.18710599999999], [5.71373, 45.18710899999998], [5.713633, 45.187057999999986], [5.7136, 45.186904999999996], [5.713288999999999, 45.18669999999998], [5.713029999999999, 45.186712999999976], [5.713055999999997, 45.186856999999975], [5.71261, 45.186886999999984], [5.7126399999999995, 45.18711999999997], [5.712469, 45.18716699999998], [5.712443999999999, 45.18704699999999], [5.712164999999998, 45.18569199999998], [5.712025, 45.185009999999984], [5.711927, 45.18453599999998], [5.711873, 45.18427199999999], [5.711777, 45.183807], [5.711666999999999, 45.183269999999986], [5.711537000000001, 45.18265299999998]]]], &quot;type&quot;: &quot;MultiPolygon&quot;}, &quot;id&quot;: &quot;28&quot;, &quot;properties&quot;: {&quot;nom&quot;: &quot;NICOLAS CHORIER&quot;}, &quot;type&quot;: &quot;Feature&quot;}], &quot;type&quot;: &quot;FeatureCollection&quot;});\n",
       "        geo_json_9b915cf4b96b6be820e01efb567db97a.setStyle(function(feature) {return feature.properties.style;});\n",
       "\n",
       "        \n",
       "    \n",
       "            geo_json_9b915cf4b96b6be820e01efb567db97a.addTo(map_35934539c8fcf577ecfbcb92d86918c1);\n",
       "        \n",
       "&lt;/script&gt;\n",
       "&lt;/html&gt;\" style=\"position:absolute;width:100%;height:100%;left:0;top:0;border:none !important;\" allowfullscreen webkitallowfullscreen mozallowfullscreen></iframe></div></div>"
      ],
      "text/plain": [
       "<folium.folium.Map at 0x7fbe49b9da50>"
      ]
     },
     "execution_count": 56,
     "metadata": {},
     "output_type": "execute_result"
    }
   ],
   "source": [
    "map_chorier"
   ]
  },
  {
   "cell_type": "markdown",
   "metadata": {},
   "source": [
    "L'intérêt des classes d'objets et du mécanisme d'héritage est donc la possibilité de définir ses propres types, de les réutiliser, et de pouvoir les combiner. L'idée sous-jacente est d'obtenir un code claire, lisible, structuré, maintenable et qui parle la langue des données que l'on traite (des équipements, des écoles etc.) plutôt que de concepts informatiques (entiers, textes, tableaux, dictionnaires etc.)"
   ]
  },
  {
   "cell_type": "markdown",
   "metadata": {},
   "source": [
    "![humour](./img/humour.png)"
   ]
  },
  {
   "cell_type": "code",
   "execution_count": null,
   "metadata": {},
   "outputs": [],
   "source": []
  }
 ],
 "metadata": {
  "kernelspec": {
   "display_name": "Python 3 (ipykernel)",
   "language": "python",
   "name": "python3"
  },
  "language_info": {
   "codemirror_mode": {
    "name": "ipython",
    "version": 3
   },
   "file_extension": ".py",
   "mimetype": "text/x-python",
   "name": "python",
   "nbconvert_exporter": "python",
   "pygments_lexer": "ipython3",
   "version": "3.11.7"
  }
 },
 "nbformat": 4,
 "nbformat_minor": 4
}
