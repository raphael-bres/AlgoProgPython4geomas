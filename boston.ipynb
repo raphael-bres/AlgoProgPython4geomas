{
 "cells": [
  {
   "cell_type": "markdown",
   "id": "a2ad6a1a",
   "metadata": {},
   "source": [
    "# Pathfinding in Boston"
   ]
  },
  {
   "cell_type": "markdown",
   "id": "d547764b",
   "metadata": {},
   "source": [
    "A partir de l'algorithme $A^*$ vu en cours, les librairies random, folium et geopandas, et les fichiers boston/boston_ways.geojson et boston/boston_vertices.geojson:\n",
    "- Choisir aléatoirement 2 points,\n",
    "- Calculer le chemin le plus court entre ces 2 points,\n",
    "- Afficher le résultat."
   ]
  },
  {
   "cell_type": "code",
   "execution_count": null,
   "id": "713a3652",
   "metadata": {},
   "outputs": [],
   "source": []
  }
 ],
 "metadata": {
  "kernelspec": {
   "display_name": "Python 3 (ipykernel)",
   "language": "python",
   "name": "python3"
  },
  "language_info": {
   "codemirror_mode": {
    "name": "ipython",
    "version": 3
   },
   "file_extension": ".py",
   "mimetype": "text/x-python",
   "name": "python",
   "nbconvert_exporter": "python",
   "pygments_lexer": "ipython3",
   "version": "3.11.7"
  }
 },
 "nbformat": 4,
 "nbformat_minor": 5
}
