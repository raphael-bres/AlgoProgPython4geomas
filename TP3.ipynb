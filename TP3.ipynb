{
 "cells": [
  {
   "cell_type": "markdown",
   "id": "e11d0fab",
   "metadata": {},
   "source": [
    "# Structures de données : les listes"
   ]
  },
  {
   "cell_type": "markdown",
   "id": "cebd79c0-708a-4a9f-878d-d81eb35e016f",
   "metadata": {},
   "source": [
    "Les listes (on dit aussi tableau) sont des séquences d'éléments :"
   ]
  },
  {
   "cell_type": "code",
   "execution_count": 2,
   "id": "2df9cac5-2ba7-4339-a5a8-5188c25715ca",
   "metadata": {},
   "outputs": [],
   "source": [
    "fruits = [\"bananes\", \"pommes\", \"poires\"]"
   ]
  },
  {
   "cell_type": "code",
   "execution_count": 3,
   "id": "8f8674a9-c2dc-4f78-9edd-6c6eed83c318",
   "metadata": {},
   "outputs": [],
   "source": [
    "panier_marie = [(\"bananes\", 4), (\"pommes\", 1), (\"poires\", 0)]"
   ]
  },
  {
   "cell_type": "markdown",
   "id": "dbd4a85d-09fd-478e-9cda-f21e5ef0f48a",
   "metadata": {},
   "source": [
    "Ici on a une liste de couples String * int"
   ]
  },
  {
   "cell_type": "code",
   "execution_count": 4,
   "id": "7fa722ac-18dc-4adb-b36d-ef80f65e0008",
   "metadata": {},
   "outputs": [],
   "source": [
    "panier_pierre = [(\"bananes\", 4), (\"pommes\", 1), (\"poires\", 0), (\"cerises\", 25)]"
   ]
  },
  {
   "cell_type": "code",
   "execution_count": 5,
   "id": "df79dc04-2efc-4957-ad24-038ea777898b",
   "metadata": {},
   "outputs": [],
   "source": [
    "paniers_personnes = [panier_pierre, panier_marie]"
   ]
  },
  {
   "cell_type": "code",
   "execution_count": 6,
   "id": "2234bbb5-a8ca-4635-aaba-9066b352a878",
   "metadata": {},
   "outputs": [
    {
     "data": {
      "text/plain": [
       "[[('bananes', 4), ('pommes', 1), ('poires', 0), ('cerises', 25)],\n",
       " [('bananes', 4), ('pommes', 1), ('poires', 0)]]"
      ]
     },
     "execution_count": 6,
     "metadata": {},
     "output_type": "execute_result"
    }
   ],
   "source": [
    "paniers_personnes"
   ]
  },
  {
   "cell_type": "markdown",
   "id": "263b1ba2-4c92-4d6d-8ca1-5c77f791d46b",
   "metadata": {},
   "source": [
    "Tous les éléments d'une liste doivent être du même type. Une liste peut contenir plusieurs éléments identiques"
   ]
  },
  {
   "cell_type": "code",
   "execution_count": 7,
   "id": "66c573f4-8f67-491a-a2ee-6073ee5f9463",
   "metadata": {},
   "outputs": [],
   "source": [
    "personnes = [\"pierre\", \"marie\", \"pierre\"]"
   ]
  },
  {
   "cell_type": "code",
   "execution_count": 8,
   "id": "c876f2b8-e081-4c7b-bc74-745a8e077680",
   "metadata": {
    "scrolled": true
   },
   "outputs": [
    {
     "data": {
      "text/plain": [
       "['pierre', 'marie', 'pierre']"
      ]
     },
     "execution_count": 8,
     "metadata": {},
     "output_type": "execute_result"
    }
   ],
   "source": [
    "personnes"
   ]
  },
  {
   "cell_type": "markdown",
   "id": "a2bdeb7b-8d2d-4feb-849c-f721cd2959cc",
   "metadata": {},
   "source": [
    "Comme les listes sont des séquences, il y a un premier élément, un dernier élément etc."
   ]
  },
  {
   "cell_type": "code",
   "execution_count": 10,
   "id": "218ea90a-ac6e-4f93-a0a5-b07573c9efd4",
   "metadata": {},
   "outputs": [
    {
     "data": {
      "text/plain": [
       "'pierre'"
      ]
     },
     "execution_count": 10,
     "metadata": {},
     "output_type": "execute_result"
    }
   ],
   "source": [
    "personnes[0]"
   ]
  },
  {
   "cell_type": "code",
   "execution_count": 11,
   "id": "962b89f9-4023-4033-ba70-5cefd80e443f",
   "metadata": {},
   "outputs": [
    {
     "data": {
      "text/plain": [
       "'pierre'"
      ]
     },
     "execution_count": 11,
     "metadata": {},
     "output_type": "execute_result"
    }
   ],
   "source": [
    "personnes[2]"
   ]
  },
  {
   "cell_type": "code",
   "execution_count": 12,
   "id": "45b3dd73-9fe4-40f3-b21f-fd746a85b3bd",
   "metadata": {},
   "outputs": [
    {
     "data": {
      "text/plain": [
       "'pierre'"
      ]
     },
     "execution_count": 12,
     "metadata": {},
     "output_type": "execute_result"
    }
   ],
   "source": [
    "personnes[len(personnes) - 1]"
   ]
  },
  {
   "cell_type": "code",
   "execution_count": 13,
   "id": "040142b5-5a76-4353-ae96-8bce8513dfe6",
   "metadata": {},
   "outputs": [],
   "source": [
    "personnes.append(\"paul\")"
   ]
  },
  {
   "cell_type": "code",
   "execution_count": 14,
   "id": "33cd6d6e-85b9-447f-88ae-1d029f3183aa",
   "metadata": {
    "scrolled": true
   },
   "outputs": [
    {
     "data": {
      "text/plain": [
       "['pierre', 'marie', 'pierre', 'paul']"
      ]
     },
     "execution_count": 14,
     "metadata": {},
     "output_type": "execute_result"
    }
   ],
   "source": [
    "personnes"
   ]
  },
  {
   "cell_type": "code",
   "execution_count": 15,
   "id": "a52b6727-ec0f-4e0f-a17e-87799b63762d",
   "metadata": {},
   "outputs": [
    {
     "data": {
      "text/plain": [
       "['marie', 'pierre', 'paul']"
      ]
     },
     "execution_count": 15,
     "metadata": {},
     "output_type": "execute_result"
    }
   ],
   "source": [
    "personnes[1:]"
   ]
  },
  {
   "cell_type": "code",
   "execution_count": 16,
   "id": "f645070f-1b0c-4253-bfc0-ea3f7dd8587c",
   "metadata": {},
   "outputs": [
    {
     "data": {
      "text/plain": [
       "['pierre']"
      ]
     },
     "execution_count": 16,
     "metadata": {},
     "output_type": "execute_result"
    }
   ],
   "source": [
    "personnes[:1]"
   ]
  },
  {
   "cell_type": "code",
   "execution_count": 17,
   "id": "81f388d6-aab5-4c4f-826e-bc371b861789",
   "metadata": {},
   "outputs": [
    {
     "data": {
      "text/plain": [
       "['marie']"
      ]
     },
     "execution_count": 17,
     "metadata": {},
     "output_type": "execute_result"
    }
   ],
   "source": [
    "personnes[1:2]"
   ]
  },
  {
   "cell_type": "code",
   "execution_count": 18,
   "id": "55a78235-6626-4258-a557-852cdbe9e9f7",
   "metadata": {},
   "outputs": [
    {
     "name": "stdout",
     "output_type": "stream",
     "text": [
      "paul est une personne !\n"
     ]
    }
   ],
   "source": [
    "x = \"paul\"\n",
    "if x in personnes:\n",
    "    print(x + \" est une personne !\")"
   ]
  },
  {
   "cell_type": "markdown",
   "id": "fcc071cf-0dfe-4302-97c4-ff1dbce9433d",
   "metadata": {},
   "source": [
    "Concatenation de listes :"
   ]
  },
  {
   "cell_type": "code",
   "execution_count": 20,
   "id": "6d5e68f2-2d47-4379-9fb5-2aa07305b51b",
   "metadata": {},
   "outputs": [],
   "source": [
    "tous_les_paniers = panier_marie + panier_pierre"
   ]
  },
  {
   "cell_type": "code",
   "execution_count": 21,
   "id": "a490ab09-204d-4365-a469-3fdb0a1fc39c",
   "metadata": {
    "scrolled": true
   },
   "outputs": [
    {
     "data": {
      "text/plain": [
       "[('bananes', 4),\n",
       " ('pommes', 1),\n",
       " ('poires', 0),\n",
       " ('bananes', 4),\n",
       " ('pommes', 1),\n",
       " ('poires', 0),\n",
       " ('cerises', 25)]"
      ]
     },
     "execution_count": 21,
     "metadata": {},
     "output_type": "execute_result"
    }
   ],
   "source": [
    "tous_les_paniers"
   ]
  },
  {
   "cell_type": "code",
   "execution_count": 22,
   "id": "6301a237-4d2a-4a51-a346-375202a53601",
   "metadata": {},
   "outputs": [],
   "source": [
    "tous_les_paniers.remove((\"bananes\", 4))"
   ]
  },
  {
   "cell_type": "code",
   "execution_count": 23,
   "id": "34769343-94e6-48a0-8731-65b38187c411",
   "metadata": {},
   "outputs": [
    {
     "data": {
      "text/plain": [
       "[('pommes', 1),\n",
       " ('poires', 0),\n",
       " ('bananes', 4),\n",
       " ('pommes', 1),\n",
       " ('poires', 0),\n",
       " ('cerises', 25)]"
      ]
     },
     "execution_count": 23,
     "metadata": {},
     "output_type": "execute_result"
    }
   ],
   "source": [
    "tous_les_paniers"
   ]
  },
  {
   "cell_type": "markdown",
   "id": "60fb3037-c801-40f6-96d0-e30f9600473e",
   "metadata": {},
   "source": [
    "le 'remove' retire la première occurrence d'un élement dans la liste."
   ]
  },
  {
   "cell_type": "code",
   "execution_count": 24,
   "id": "3e13bd42-9d6a-488b-a0c0-d7ec7b359473",
   "metadata": {},
   "outputs": [],
   "source": [
    "tous_les_paniers.insert(2, (\"fraises\", 14))"
   ]
  },
  {
   "cell_type": "code",
   "execution_count": 25,
   "id": "5b5de1a5-4594-4bef-a72c-2765f408d1da",
   "metadata": {
    "collapsed": true,
    "jupyter": {
     "outputs_hidden": true
    },
    "scrolled": true
   },
   "outputs": [
    {
     "data": {
      "text/plain": [
       "[('pommes', 1),\n",
       " ('poires', 0),\n",
       " ('fraises', 14),\n",
       " ('bananes', 4),\n",
       " ('pommes', 1),\n",
       " ('poires', 0),\n",
       " ('cerises', 25)]"
      ]
     },
     "execution_count": 25,
     "metadata": {},
     "output_type": "execute_result"
    }
   ],
   "source": [
    "tous_les_paniers"
   ]
  },
  {
   "cell_type": "code",
   "execution_count": 27,
   "id": "befb42b5-a47b-4d8a-b1cf-ad323f1c3dd8",
   "metadata": {},
   "outputs": [],
   "source": [
    "tous_les_paniers.clear()"
   ]
  },
  {
   "cell_type": "code",
   "execution_count": 28,
   "id": "8e67a8cd-b27f-4edf-a3c7-7b2e405b7ba9",
   "metadata": {
    "collapsed": true,
    "jupyter": {
     "outputs_hidden": true
    },
    "scrolled": true
   },
   "outputs": [
    {
     "data": {
      "text/plain": [
       "[]"
      ]
     },
     "execution_count": 28,
     "metadata": {},
     "output_type": "execute_result"
    }
   ],
   "source": [
    "tous_les_paniers"
   ]
  },
  {
   "cell_type": "markdown",
   "id": "f7055924",
   "metadata": {},
   "source": [
    "## Exercice 1 - Somme des éléments d’un tableau (= liste)\n",
    "\n",
    "On considère l’algorithme suivant (proche de l’exemple E3.1 du Polycopié d’Algorithmique) qui permet d’initialiser un tableau par lecture au clavier puis de calculer la somme de ses éléments.  \n",
    "\n",
    "**lexique**  \n",
    "N : constante entière 10  \n",
    "T : tableau sur [0..N - 1] d’entiers  \n",
    "Somme : entier {pour calculer la somme}\n",
    "\n",
    "**début**  \n",
    "pour i allant de 0 a N - 1 : Ecrire(“Saisissez un entier”); Lire($T_i$)  \n",
    "Somme $\\leftarrow$ 0  \n",
    "pour i allant de 0 a N - 1 : Somme $\\leftarrow$ Somme + $T_i$  \n",
    "Ecrire(Somme)  \n",
    "**fin**  \n",
    "\n",
    "Q1. Traduire cet algorithme *somme_tab* en Python\n",
    "\n",
    "Q2. Créez un fichier de nom donnees.txt contenant 10 entiers (un par ligne). Exécutez maintenant le\n",
    "programme *somme_donnees* ci-dessous."
   ]
  },
  {
   "cell_type": "markdown",
   "id": "c484b4dd",
   "metadata": {},
   "source": [
    "## Exercice 2 - Recherche séquentielle\n",
    "On considère un tableau T de 10 entiers. On souhaite savoir si ce tableau contient un entier x donné. On utilise pour cela l’algorithme suivant :  \n",
    "\n",
    "**lexique**  \n",
    "N : constante entière 10  \n",
    "T : tableau sur [0..N - 1] d’entiers x : entier  \n",
    "j : entier sur 0..N  \n",
    "\n",
    "**début**  \n",
    "{Lecture du tableau}  \n",
    "pour i allant de 0 a N - 1 : Ecrire(“Saisissez un entier”); Lire($T_i$)  \n",
    "Ecrire(“Entier à chercher ?”) ; Lire(x)  \n",
    "{Recherche de l’entier x dans T}  \n",
    "j $\\leftarrow$ 0  \n",
    "tantque $j<N$ etpuis $T_j \\neq x: j \\leftarrow j+1$  \n",
    "si $j < N$ alors Ecrire(“trouvé” j) sinon Ecrire(“non trouvé”)  \n",
    "**fin**\n",
    "    \n",
    "Q1. Traduire cet algorithme en Python."
   ]
  },
  {
   "cell_type": "markdown",
   "id": "1a42cf8b",
   "metadata": {},
   "source": [
    "## Exercice 3 - Algorithme de tri"
   ]
  },
  {
   "cell_type": "markdown",
   "id": "0975b44a",
   "metadata": {},
   "source": [
    "Nous allons utiliser un *tri par insertion*. Il existe de nombreux autres algorithmes de tri. Ce qui les distingue est leur performance. Voici le principe du tri par insertion :\n",
    "\n",
    "- créer un tableau vide appelé \"sorted\". On appele le tableau à trier \"toSort\",\n",
    "- rechercher le plus petit élément de toSort et le placer à la première position de sorted,\n",
    "- rechercher ensuite le deuxième élément le plus petit dans toSort et le placer en deuxième position de sorted,\n",
    "- continuer de la même façon jusqu’à ce que le tableau sorted soit entièrement trié.\n",
    "\n",
    "Voici un exemple du fonctionnement de l’algorithme sur le tableau [10, 9, 5, 7, 3] :\n",
    "\n",
    "| sorted     | toSort |\n",
    "| :---        |    :----:   |\n",
    "| []      | [10, 9, 5, 7, 3]       |\n",
    "| [3]      | [10, 9, 5, 7]       |\n",
    "| [3, 5]      | [10, 9, 7]       |\n",
    "| [3, 5, 7]      | [10, 9]       |\n",
    "| [3, 5, 7, 9]      | [10]       |\n",
    "| [3, 5, 7, 9, 10]      | []       |"
   ]
  },
  {
   "cell_type": "markdown",
   "id": "d5d7dea9",
   "metadata": {},
   "source": [
    "Q1. Ecrire l'algorithme de tri par insertion  \n",
    "Q2. Traduire cet algorithme en Python  \n",
    "Q3. Evaluer les performances de votre programme par rapport à celles de la méthode *sorted()* de la bibliothèque standard de Python."
   ]
  }
 ],
 "metadata": {
  "kernelspec": {
   "display_name": "Python 3 (ipykernel)",
   "language": "python",
   "name": "python3"
  },
  "language_info": {
   "codemirror_mode": {
    "name": "ipython",
    "version": 3
   },
   "file_extension": ".py",
   "mimetype": "text/x-python",
   "name": "python",
   "nbconvert_exporter": "python",
   "pygments_lexer": "ipython3",
   "version": "3.11.7"
  },
  "latex_envs": {
   "LaTeX_envs_menu_present": true,
   "autoclose": false,
   "autocomplete": true,
   "bibliofile": "biblio.bib",
   "cite_by": "apalike",
   "current_citInitial": 1,
   "eqLabelWithNumbers": true,
   "eqNumInitial": 1,
   "hotkeys": {
    "equation": "Ctrl-E",
    "itemize": "Ctrl-I"
   },
   "labels_anchors": false,
   "latex_user_defs": false,
   "report_style_numbering": false,
   "user_envs_cfg": false
  }
 },
 "nbformat": 4,
 "nbformat_minor": 5
}
