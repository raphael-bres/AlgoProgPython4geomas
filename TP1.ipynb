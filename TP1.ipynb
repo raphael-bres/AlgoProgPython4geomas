{
 "cells": [
  {
   "cell_type": "markdown",
   "id": "e4a77a40",
   "metadata": {
    "slideshow": {
     "slide_type": "-"
    }
   },
   "source": [
    "# Premiers pas avec le langage Python\n",
    "\n",
    "Pour commencer, nous utiliserons ce tutoriel : https://rgilliotte.gitbook.io/byte-of-python/\n",
    "\n",
    "Un autre livre à étudier est https://greenteapress.com/thinkpython2/thinkpython2.pdf"
   ]
  },
  {
   "cell_type": "markdown",
   "id": "7bc6fb0a",
   "metadata": {},
   "source": [
    "## Exercice 1 : Maximum de trois entiers"
   ]
  },
  {
   "cell_type": "markdown",
   "id": "7f4561e4",
   "metadata": {},
   "source": [
    "Décrire une fonction qui détermine le maximum de trois entiers distincts deux à deux. Il n'y a pas de \"selon\" en Python.  \n",
    "\n",
    "Maxtrois : fonction (a, b, c : entiers) $\\rightarrow$ entier {maximum de 3 nombres distincts deux à deux}"
   ]
  },
  {
   "cell_type": "markdown",
   "id": "88aa6c11",
   "metadata": {
    "slideshow": {
     "slide_type": "-"
    }
   },
   "source": [
    "## Exercice 2 : Moyenne olympique\n",
    "\n",
    "La moyenne olympique de $n$ nombres est la moyenne des $n-2$ nombres restant après avoir enlevé deux des nombres donnés, l’un ayant la valeur maximum et l’autre la valeur minimum. Décrire une fonction qui étant donnés quatre entiers positifs ou nuls, leur associe leur moyenne olympique. Par exemple, la moyenne olympique des quatre nombres 10, 8, 12, 24 est 11, celle des nombres 12, 12, 12, 12 est 12.  \n",
    "\n",
    "{spécification des fonctions}  \n",
    "mo : fonction (u, v, w, x : entiers $\\geq$ 0) $\\rightarrow$ réel $\\geq$ 0 {moyenne olympique de 4 nombres}  \n",
    "minquatre : fonction (i, j, k, l : entiers $\\geq$ 0) $\\rightarrow$ entier $\\geq$ 0 {minimum de 4 nombres}  \n",
    "maxquatre : fonction (i, j, k, l : entiers $\\geq$ 0) $\\rightarrow$ entier $\\geq$ 0 {maximum de 4 nombres}  \n",
    "maxdeux, mindeux : fonction (a,b : deux entiers $\\geq$ 0) $\\rightarrow$ entier $\\geq$ 0 {maximum et minimum de 2 nombres}"
   ]
  },
  {
   "cell_type": "markdown",
   "id": "4ec607e0",
   "metadata": {},
   "source": [
    "## Exercice 3 : Somme des chiffres d’un nombre"
   ]
  },
  {
   "cell_type": "markdown",
   "id": "08f5f8b7",
   "metadata": {},
   "source": [
    "Décrire une fonction qui à un entier compris entre 0 et 9999 associe la somme des chiffres qui le composent dans sa représentation en base 10. Exemple : donnée 9639, résultat : 27."
   ]
  },
  {
   "cell_type": "markdown",
   "id": "e39bde37",
   "metadata": {},
   "source": [
    "Les chiffres formant l’entier donné peuvent être déterminés à l’aide de divisions par 10. On introduit une fonction qui à deux nombres associe le quotient et le reste de leur division :"
   ]
  },
  {
   "cell_type": "markdown",
   "id": "33233a29",
   "metadata": {},
   "source": [
    "## Exercice 4 : signe du produit"
   ]
  },
  {
   "cell_type": "markdown",
   "id": "b1b59754",
   "metadata": {},
   "source": [
    "On donne ci-dessous un algorithme qui lit au clavier deux entiers $x$ et $y$ et qui affiche à l'écran un message indiquant le signe du produit $x \\times y$ sans calculer ce produit."
   ]
  },
  {
   "cell_type": "markdown",
   "id": "86b4c1f1",
   "metadata": {},
   "source": [
    "**Signe du produit :**  \n",
    "x, y : entiers  \n",
    "    \n",
    "lire(x) ; lire(y)  \n",
    "si (((x > 0) et (y > 0)) ou ((x < 0) et (y < 0)))  \n",
    "&nbsp;&nbsp;&nbsp;&nbsp;alors ecrire (”le produit de” & LeTexteE(x) & ”et” & LeTexteE(y) & ”est strictement positif”) sinon si ((x = 0) ou (y  = 0))  \n",
    "&nbsp;&nbsp;&nbsp;&nbsp;alors ecrire (”le produit de” & LeTexteE(x) & ”et” & LeTexteE(y) & ”est nul”)  \n",
    "&nbsp;&nbsp;&nbsp;&nbsp;sinon ecrire (”le produit de” & LeTexteE(x) & ”et” & LeTexteE(y) & ”est strictement négatif”)"
   ]
  },
  {
   "cell_type": "markdown",
   "id": "881f9c99",
   "metadata": {},
   "source": [
    "## Exercice 5 - classement de trois valeurs"
   ]
  },
  {
   "cell_type": "markdown",
   "id": "959bb0b4",
   "metadata": {},
   "source": [
    "On souhaite écrire un programme qui lit trois entiers au clavier et les affiche à l'écran en ordre croissant (du plus petit au plus grand)."
   ]
  },
  {
   "cell_type": "markdown",
   "id": "a455bdfa",
   "metadata": {},
   "source": [
    "## Exercice 6 - Puissance"
   ]
  },
  {
   "cell_type": "markdown",
   "id": "42e1b8fd",
   "metadata": {},
   "source": [
    "On donne ci-dessous un algorithme qui lit au clavier deux entiers (positifs) x et y et affiche la valeur de $x^y$ :"
   ]
  },
  {
   "cell_type": "markdown",
   "id": "4b831616",
   "metadata": {},
   "source": [
    "**Puissance :**  \n",
    "x, y : entiers  \n",
    "p : un entier $\\geq$ 0 {valeur courante de $x^y$}  \n",
    "\n",
    "lire(x) ; lire(y)  \n",
    "p $\\leftarrow$ 1  \n",
    "i parcourant [1..y]  \n",
    "&nbsp;&nbsp;&nbsp;&nbsp;p $\\leftarrow$ p * x  \n",
    "ecrire(p)"
   ]
  },
  {
   "cell_type": "markdown",
   "id": "6d02baf2",
   "metadata": {},
   "source": [
    "## Exercice 7 - Factorielle"
   ]
  },
  {
   "cell_type": "markdown",
   "id": "2345306a",
   "metadata": {},
   "source": [
    "Ecrivez dans un fichier factorielle.py un programme pynthon qui lit un entier positif x au clavier et affiche la valeur de $!x$."
   ]
  }
 ],
 "metadata": {
  "celltoolbar": "Aucun(e)",
  "kernelspec": {
   "display_name": "Python 3 (ipykernel)",
   "language": "python",
   "name": "python3"
  },
  "language_info": {
   "codemirror_mode": {
    "name": "ipython",
    "version": 3
   },
   "file_extension": ".py",
   "mimetype": "text/x-python",
   "name": "python",
   "nbconvert_exporter": "python",
   "pygments_lexer": "ipython3",
   "version": "3.11.7"
  },
  "latex_envs": {
   "LaTeX_envs_menu_present": true,
   "autoclose": false,
   "autocomplete": true,
   "bibliofile": "biblio.bib",
   "cite_by": "apalike",
   "current_citInitial": 1,
   "eqLabelWithNumbers": true,
   "eqNumInitial": 1,
   "hotkeys": {
    "equation": "Ctrl-E",
    "itemize": "Ctrl-I"
   },
   "labels_anchors": false,
   "latex_user_defs": false,
   "report_style_numbering": false,
   "user_envs_cfg": false
  },
  "vscode": {
   "interpreter": {
    "hash": "aee8b7b246df8f9039afb4144a1f6fd8d2ca17a180786b69acc140d282b71a49"
   }
  }
 },
 "nbformat": 4,
 "nbformat_minor": 5
}
